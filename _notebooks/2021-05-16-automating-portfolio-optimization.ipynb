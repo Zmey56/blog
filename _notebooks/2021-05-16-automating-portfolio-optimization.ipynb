{
  "nbformat": 4,
  "nbformat_minor": 0,
  "metadata": {
    "colab": {
      "name": "automating_portfolio_optimization_2.ipynb",
      "provenance": []
    },
    "kernelspec": {
      "name": "python3",
      "display_name": "Python 3"
    },
    "language_info": {
      "name": "python"
    }
  },
  "cells": [
    {
      "cell_type": "markdown",
      "metadata": {
        "id": "D2SxklTvkxmz"
      },
      "source": [
        "# Russian - Оптимизации портфеля с помощью Python и PyPortfolioOpt\n",
        "> Portfolio optimization using Python and PyPortfolioOpt\n",
        "\n",
        "- toc: true\n",
        "- branch: master\n",
        "- badges: true\n",
        "- comments: true\n",
        "- author: Zmey56\n",
        "- categories: [russian, python, algotrading, Portfolio, optimization]"
      ]
    },
    {
      "cell_type": "markdown",
      "metadata": {
        "id": "Pn9xUsW4dt9w"
      },
      "source": [
        "# Оптимизации портфеля с помощью Python"
      ]
    },
    {
      "cell_type": "markdown",
      "metadata": {
        "id": "_EI7QDxad5_b"
      },
      "source": [
        "Вычисление оптимизированных весов активов в портфеле используя Портфельную теорию Марковица при помощи Python"
      ]
    },
    {
      "cell_type": "markdown",
      "metadata": {
        "id": "J3oL-L_heWJP"
      },
      "source": [
        "## Портфельная теория Марковица"
      ]
    },
    {
      "cell_type": "markdown",
      "metadata": {
        "id": "2ONNtmAuefNi"
      },
      "source": [
        "Портфельная теория Марковица(далее ПТМ) (Modern portfolio theory) — разработанная Гарри Марковицем методика формирования инвестиционного портфеля, направленная на оптимальный выбор активов, исходя из требуемого соотношения доходность/риск. Сформулированные им в 1950-х годах идеи составляют основу современной портфельной теории.\n",
        "\n",
        "Основные положения портфельной теории были сформулированы Гарри Марковицем при подготовке им докторской диссертации в 1950—1951 годах.\n",
        "\n",
        "Рождением же портфельной теории Марковица считается опубликованная в «Финансовом журнале» в 1952 году статья «Выбор портфеля». В ней он впервые предложил математическую модель формирования оптимального портфеля и привёл методы построения портфелей при определённых условиях. Основная заслуга Марковица состояла в предложении вероятностной формализации понятий «доходность» и «риск», что позволило перевести задачу выбора оптимального портфеля на формальный математический язык. Надо отметить, что в годы создания теории Марковиц работал в RAND Corp., вместе с одним из основателей линейной и нелинейной оптимизации — Джорджем Данцигом и сам участвовал в решении указанных задач. Поэтому собственная теория, после необходимой формализации, хорошо ложилась в указанное русло.\n",
        "\n",
        "Марковиц постоянно занимается усовершенствованием своей теории и в 1959 году выпускает первую посвящённую ей монографию «Выбор портфеля: эффективная диверсификация инвестиций».\n",
        "\n",
        "В 1990 году, когда Марковицу вручают Нобелевскую премию, выходит книга «Средне-дисперсионный анализ при выборе портфеля и рынка капитала» [ссылка](https://ru.wikipedia.org/wiki/%D0%9F%D0%BE%D1%80%D1%82%D1%84%D0%B5%D0%BB%D1%8C%D0%BD%D0%B0%D1%8F_%D1%82%D0%B5%D0%BE%D1%80%D0%B8%D1%8F_%D0%9C%D0%B0%D1%80%D0%BA%D0%BE%D0%B2%D0%B8%D1%86%D0%B0)."
      ]
    },
    {
      "cell_type": "markdown",
      "metadata": {
        "id": "KZk68Ck1gQ1w"
      },
      "source": [
        "### Основа модели\n",
        "\n",
        "1. Ожидаемая доходность портфеля(Portfolio Expected Return)\n",
        "\n",
        "Ожидаемая доходность портфеля будет зависеть от ожидаемой доходности каждого из активов, входящих в него. Такой подход позволяет снизить риск за счет диверсификации и одновременно максимизировать доход инвестора, поскольку убытки по одним инвестициям будут компенсированы доходом по другим.\n",
        "\n",
        "Ожидаемая доходность портфеля представляет собой суммарную ожидаемую доходность входящих в него ценных бумаг, взвешенную с учетом их доли в портфеле.\n",
        "\n",
        "$$ \n",
        "E(R_{p}) = \\sum_{i=1}^nw_{i}E(R_{i})\n",
        "$$"
      ]
    },
    {
      "cell_type": "markdown",
      "metadata": {
        "id": "uCamW6DvY7v4"
      },
      "source": [
        "### 2. Дисперсия портфеля (Portfolio Variance )\n",
        "\n",
        "Дисперсия портфеля - это процесс, который определяет степень риска или волатильности, связанной с инвестиционным портфелем. Основная формула для расчета этой дисперсии фокусируется на взаимосвязи между так называемой дисперсией доходности и ковариацией, связанной с каждой из ценных бумаг, найденных в портфеле, а также с процентом или частью портфеля, который представляет каждая ценная бумага. \n",
        "\n",
        "$$\n",
        "\\sigma_{p}^{2} = \\sum_{i}^{}\\omega_{i}^{2}\\sigma_{i}^{2}+\\sum_{i}^{}\\sum_{j\\neq i}^{}\\omega_{i}^{}\\omega_{j}^{}\\sigma_{i}^{}\\sigma_{j}^{}\\rho_{ij}\n",
        "$$"
      ]
    },
    {
      "cell_type": "markdown",
      "metadata": {
        "id": "DBrN3cQIdGhx"
      },
      "source": [
        "### 3. Коэффициент Шарпа (Sharpe Ratio)\n",
        "\n",
        "Коэффициент Шарпа измеряет доходность инвестиций по отношению к безрисковой ставке (казначейской ставке) и степени риска. В целом, более высокое значение коэффициента Шарпа указывает на лучшие и более прибыльные инвестиции. Таким образом, если сравнивать два портфеля с одинаковыми рисками, то при прочих равных условиях было бы лучше инвестировать в портфель с более высоким коэффициентом Шарпа.\n",
        "\n",
        "$$\n",
        "\\frac{R_{p} - R_{f}}{\\sigma_{p}}\n",
        "$$\n",
        "\n",
        "$$R_{p} - доходность \\ портфеля\\\\\n",
        "R_{f} - безрисковая \\ ставка\\\\\n",
        "\\sigma_{p} - стандартное \\ отклонение \\ доходности \\ портфеля$$"
      ]
    },
    {
      "cell_type": "markdown",
      "metadata": {
        "id": "0bGthej2iNAu"
      },
      "source": [
        "### 4. Эффективная граница (The Efficient Frontier )\n",
        "\n",
        "Определение и рисунок из [Википедии](https://ru.wikipedia.org/wiki/%D0%93%D1%80%D0%B0%D0%BD%D0%B8%D1%86%D0%B0_%D1%8D%D1%84%D1%84%D0%B5%D0%BA%D1%82%D0%B8%D0%B2%D0%BD%D0%BE%D1%81%D1%82%D0%B8):\n",
        "\n",
        "Граница эффективности (англ. Efficient frontier) в портфельной теории Марковица — инвестиционный портфель, оптимизированный в отношении риска и доходности. Формально границей эффективности является набор портфелей, удовлетворяющих такому условию, что не существует другого портфеля с более высокой ожидаемой доходностью, но с таким же стандартным отклонением доходности. Понятие границы эффективности было впервые сформулировано Гарри Марковицем в 1952 году в модели Марковица.\n",
        "\n",
        "Портфель может быть охарактеризован как «эффективный», если он имеет максимально возможный ожидаемый уровень доходности для своего уровня риска (который представлен стандартным отклонением доходности портфеля). Так, на график соотношения риска и доходности может быть нанесена любая возможная комбинация рискованных активов, и совокупность всех таких возможных портфелей определяет регион в этом пространстве. При отсутствии в портфеле безрискового актива граница эффективности определяется верхней (восходящей) частью гиперболы, ограничивающей область допустимых решений для всех соотношений активов в портфеле.\n",
        "\n",
        "В случае же, если в портфель может быть включён безрисковый актив, граница эффективности вырождается в отрезок прямой линии, исходящий от значения доходности безрискового актива на оси ординат (ожидаемая доходность портфеля) и проходящий по касательной к границе области допустимых решений. Все портфели на отрезке между собственно безрисковым активом и точкой касания состоят из комбинации безрискового актива и рисковых активов, в то время как все портфели на линии выше и справа от точки касания образуются короткой позицией в безрисковом активе и инвестированием в рисковые активы."
      ]
    },
    {
      "cell_type": "markdown",
      "metadata": {
        "id": "c7KLmrCLjoBR"
      },
      "source": [
        "![Markowitz_frontier.jpg](data:image/jpeg;base64,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)"
      ]
    },
    {
      "cell_type": "markdown",
      "metadata": {
        "id": "XI1XlwgEkAxo"
      },
      "source": [
        "***"
      ]
    },
    {
      "cell_type": "markdown",
      "metadata": {
        "id": "FOd0BgokkGC6"
      },
      "source": [
        "## Оптимизация портфеля на Python\n",
        "\n",
        "### 1. Импорт необходимых библиотек"
      ]
    },
    {
      "cell_type": "markdown",
      "metadata": {
        "id": "BxmPId0Kkfjp"
      },
      "source": [
        "Как обычно в начале импортируем все необходимые библиотеки для дальнейшей работы"
      ]
    },
    {
      "cell_type": "code",
      "metadata": {
        "id": "8P531TuogQJc"
      },
      "source": [
        "import matplotlib.pyplot as plt\n",
        "import numpy as np\n",
        "import pandas as pd\n",
        "import pandas_datareader as web\n",
        "from matplotlib.ticker import FuncFormatter"
      ],
      "execution_count": null,
      "outputs": []
    },
    {
      "cell_type": "markdown",
      "metadata": {
        "id": "CAqsveGikwSo"
      },
      "source": [
        "Непосредственно для анализа и оптимизации портфеля существует библиотека PyPortfolioOpt. Так как она не входит в стандартный набор, то ее необходимо установить."
      ]
    },
    {
      "cell_type": "code",
      "metadata": {
        "id": "ZKq6Ldv7edpO",
        "colab": {
          "base_uri": "https://localhost:8080/"
        },
        "outputId": "9ea0e5df-0a8c-4123-bb15-a6c933288751"
      },
      "source": [
        "!pip install PyPortfolioOpt\n",
        "#Installing the Portfolio Optimzation Library"
      ],
      "execution_count": null,
      "outputs": [
        {
          "output_type": "stream",
          "text": [
            "Collecting PyPortfolioOpt\n",
            "\u001b[?25l  Downloading https://files.pythonhosted.org/packages/46/55/7d39d78d554ee33a7317e345caf01339da11406c28f18bc48794fe967935/PyPortfolioOpt-1.4.1-py3-none-any.whl (56kB)\n",
            "\u001b[K     |████████████████████████████████| 61kB 3.2MB/s \n",
            "\u001b[?25hRequirement already satisfied: pandas>=0.19 in /usr/local/lib/python3.7/dist-packages (from PyPortfolioOpt) (1.1.5)\n",
            "Requirement already satisfied: scipy<2.0,>=1.3 in /usr/local/lib/python3.7/dist-packages (from PyPortfolioOpt) (1.4.1)\n",
            "Collecting cvxpy<2.0.0,>=1.1.10\n",
            "\u001b[?25l  Downloading https://files.pythonhosted.org/packages/83/47/fd1e818b8da30ef18695a0fbf9b66611ab18506f0a44fc69480a75f4db1b/cvxpy-1.1.12.tar.gz (1.3MB)\n",
            "\u001b[K     |████████████████████████████████| 1.3MB 7.9MB/s \n",
            "\u001b[?25h  Installing build dependencies ... \u001b[?25l\u001b[?25hdone\n",
            "  Getting requirements to build wheel ... \u001b[?25l\u001b[?25hdone\n",
            "    Preparing wheel metadata ... \u001b[?25l\u001b[?25hdone\n",
            "Requirement already satisfied: numpy<2.0,>=1.12 in /usr/local/lib/python3.7/dist-packages (from PyPortfolioOpt) (1.19.5)\n",
            "Requirement already satisfied: python-dateutil>=2.7.3 in /usr/local/lib/python3.7/dist-packages (from pandas>=0.19->PyPortfolioOpt) (2.8.1)\n",
            "Requirement already satisfied: pytz>=2017.2 in /usr/local/lib/python3.7/dist-packages (from pandas>=0.19->PyPortfolioOpt) (2018.9)\n",
            "Requirement already satisfied: ecos>=2 in /usr/local/lib/python3.7/dist-packages (from cvxpy<2.0.0,>=1.1.10->PyPortfolioOpt) (2.0.7.post1)\n",
            "Requirement already satisfied: scs>=1.1.6 in /usr/local/lib/python3.7/dist-packages (from cvxpy<2.0.0,>=1.1.10->PyPortfolioOpt) (2.1.3)\n",
            "Requirement already satisfied: osqp>=0.4.1 in /usr/local/lib/python3.7/dist-packages (from cvxpy<2.0.0,>=1.1.10->PyPortfolioOpt) (0.6.2.post0)\n",
            "Requirement already satisfied: six>=1.5 in /usr/local/lib/python3.7/dist-packages (from python-dateutil>=2.7.3->pandas>=0.19->PyPortfolioOpt) (1.15.0)\n",
            "Requirement already satisfied: qdldl in /usr/local/lib/python3.7/dist-packages (from osqp>=0.4.1->cvxpy<2.0.0,>=1.1.10->PyPortfolioOpt) (0.1.5.post0)\n",
            "Building wheels for collected packages: cvxpy\n",
            "  Building wheel for cvxpy (PEP 517) ... \u001b[?25l\u001b[?25hdone\n",
            "  Created wheel for cvxpy: filename=cvxpy-1.1.12-cp37-cp37m-linux_x86_64.whl size=2731641 sha256=2c888a76787438c69d6a1dce26762a30ead689ee8b9da895efc81ad29620fbdf\n",
            "  Stored in directory: /root/.cache/pip/wheels/9b/62/55/1da181c05c710c5d99bd560edebec3bd6a61cb69acef9dc00e\n",
            "Successfully built cvxpy\n",
            "Installing collected packages: cvxpy, PyPortfolioOpt\n",
            "  Found existing installation: cvxpy 1.0.31\n",
            "    Uninstalling cvxpy-1.0.31:\n",
            "      Successfully uninstalled cvxpy-1.0.31\n",
            "Successfully installed PyPortfolioOpt-1.4.1 cvxpy-1.1.12\n"
          ],
          "name": "stdout"
        }
      ]
    },
    {
      "cell_type": "markdown",
      "metadata": {
        "id": "Oylz8W1_lNUC"
      },
      "source": [
        "Импортируем функции для дальнейшей работы:"
      ]
    },
    {
      "cell_type": "code",
      "metadata": {
        "id": "L_YW9233df2v"
      },
      "source": [
        "from pypfopt.efficient_frontier import EfficientFrontier \n",
        "from pypfopt import risk_models \n",
        "from pypfopt import expected_returns\n",
        "from pypfopt.cla import CLA\n",
        "import pypfopt.plotting as pplt\n",
        "from matplotlib.ticker import FuncFormatter\n",
        "from pypfopt.discrete_allocation import DiscreteAllocation, get_latest_prices"
      ],
      "execution_count": null,
      "outputs": []
    },
    {
      "cell_type": "markdown",
      "metadata": {
        "id": "B-2Tj4n4dszC"
      },
      "source": [
        "### 2. Получение данных по акциям из интернета"
      ]
    },
    {
      "cell_type": "markdown",
      "metadata": {
        "id": "InL_v02esa7Q"
      },
      "source": [
        "Сначало установим опять пакет, который не входит в стандартный набор. Он позволяет получить данные по акциям с сайтя yahoo. \n",
        "\n",
        "Тикеры, которые будут использоваться для анализа - одна из компаний входящих в лидеры в своем секторе."
      ]
    },
    {
      "cell_type": "code",
      "metadata": {
        "colab": {
          "base_uri": "https://localhost:8080/"
        },
        "id": "SC9tYwMbn7OH",
        "outputId": "de988226-f053-463a-dd49-c1279e87a188"
      },
      "source": [
        "!pip install yfinance --upgrade --no-cache-dir"
      ],
      "execution_count": null,
      "outputs": [
        {
          "output_type": "stream",
          "text": [
            "Collecting yfinance\n",
            "  Downloading https://files.pythonhosted.org/packages/a7/ee/315752b9ef281ba83c62aa7ec2e2074f85223da6e7e74efb4d3e11c0f510/yfinance-0.1.59.tar.gz\n",
            "Requirement already satisfied, skipping upgrade: pandas>=0.24 in /usr/local/lib/python3.7/dist-packages (from yfinance) (1.1.5)\n",
            "Requirement already satisfied, skipping upgrade: numpy>=1.15 in /usr/local/lib/python3.7/dist-packages (from yfinance) (1.19.5)\n",
            "Requirement already satisfied, skipping upgrade: requests>=2.20 in /usr/local/lib/python3.7/dist-packages (from yfinance) (2.23.0)\n",
            "Requirement already satisfied, skipping upgrade: multitasking>=0.0.7 in /usr/local/lib/python3.7/dist-packages (from yfinance) (0.0.9)\n",
            "Collecting lxml>=4.5.1\n",
            "\u001b[?25l  Downloading https://files.pythonhosted.org/packages/30/c0/d0526314971fc661b083ab135747dc68446a3022686da8c16d25fcf6ef07/lxml-4.6.3-cp37-cp37m-manylinux2014_x86_64.whl (6.3MB)\n",
            "\u001b[K     |████████████████████████████████| 6.3MB 6.4MB/s \n",
            "\u001b[?25hRequirement already satisfied, skipping upgrade: pytz>=2017.2 in /usr/local/lib/python3.7/dist-packages (from pandas>=0.24->yfinance) (2018.9)\n",
            "Requirement already satisfied, skipping upgrade: python-dateutil>=2.7.3 in /usr/local/lib/python3.7/dist-packages (from pandas>=0.24->yfinance) (2.8.1)\n",
            "Requirement already satisfied, skipping upgrade: idna<3,>=2.5 in /usr/local/lib/python3.7/dist-packages (from requests>=2.20->yfinance) (2.10)\n",
            "Requirement already satisfied, skipping upgrade: certifi>=2017.4.17 in /usr/local/lib/python3.7/dist-packages (from requests>=2.20->yfinance) (2020.12.5)\n",
            "Requirement already satisfied, skipping upgrade: chardet<4,>=3.0.2 in /usr/local/lib/python3.7/dist-packages (from requests>=2.20->yfinance) (3.0.4)\n",
            "Requirement already satisfied, skipping upgrade: urllib3!=1.25.0,!=1.25.1,<1.26,>=1.21.1 in /usr/local/lib/python3.7/dist-packages (from requests>=2.20->yfinance) (1.24.3)\n",
            "Requirement already satisfied, skipping upgrade: six>=1.5 in /usr/local/lib/python3.7/dist-packages (from python-dateutil>=2.7.3->pandas>=0.24->yfinance) (1.15.0)\n",
            "Building wheels for collected packages: yfinance\n",
            "  Building wheel for yfinance (setup.py) ... \u001b[?25l\u001b[?25hdone\n",
            "  Created wheel for yfinance: filename=yfinance-0.1.59-py2.py3-none-any.whl size=23442 sha256=519c6bb89355fc0fab0d0a1c7f12df703543e4aadbde996b33dcf9592621bb6e\n",
            "  Stored in directory: /tmp/pip-ephem-wheel-cache-weglluyo/wheels/f8/2a/0f/4b5a86e1d52e451757eb6bc17fd899629f0925c777741b6d04\n",
            "Successfully built yfinance\n",
            "Installing collected packages: lxml, yfinance\n",
            "  Found existing installation: lxml 4.2.6\n",
            "    Uninstalling lxml-4.2.6:\n",
            "      Successfully uninstalled lxml-4.2.6\n",
            "Successfully installed lxml-4.6.3 yfinance-0.1.59\n"
          ],
          "name": "stdout"
        }
      ]
    },
    {
      "cell_type": "code",
      "metadata": {
        "colab": {
          "base_uri": "https://localhost:8080/"
        },
        "id": "V_AXqK9wo9zs",
        "outputId": "e6f87a5f-c022-4df9-eea4-43a4099a9108"
      },
      "source": [
        "import yfinance as yf\n",
        "tickers = ['LKOH.ME','GMKN.ME', 'DSKY.ME', 'NKNC.ME', 'MTSS.ME', 'IRAO.ME', 'SBER.ME', 'AFLT.ME']\n",
        "df_stocks= yf.download(tickers, start='2018-01-01', end='2020-12-31')['Adj Close']"
      ],
      "execution_count": null,
      "outputs": [
        {
          "output_type": "stream",
          "text": [
            "[*********************100%***********************]  8 of 8 completed\n"
          ],
          "name": "stdout"
        }
      ]
    },
    {
      "cell_type": "code",
      "metadata": {
        "colab": {
          "base_uri": "https://localhost:8080/",
          "height": 225
        },
        "id": "0SWYxgm_sHid",
        "outputId": "ef71fbe7-0f7a-4bac-da9f-9b53fea85c33"
      },
      "source": [
        "df_stocks.head()"
      ],
      "execution_count": null,
      "outputs": [
        {
          "output_type": "execute_result",
          "data": {
            "text/html": [
              "<div>\n",
              "<style scoped>\n",
              "    .dataframe tbody tr th:only-of-type {\n",
              "        vertical-align: middle;\n",
              "    }\n",
              "\n",
              "    .dataframe tbody tr th {\n",
              "        vertical-align: top;\n",
              "    }\n",
              "\n",
              "    .dataframe thead th {\n",
              "        text-align: right;\n",
              "    }\n",
              "</style>\n",
              "<table border=\"1\" class=\"dataframe\">\n",
              "  <thead>\n",
              "    <tr style=\"text-align: right;\">\n",
              "      <th></th>\n",
              "      <th>AFLT.ME</th>\n",
              "      <th>DSKY.ME</th>\n",
              "      <th>GMKN.ME</th>\n",
              "      <th>IRAO.ME</th>\n",
              "      <th>LKOH.ME</th>\n",
              "      <th>MTSS.ME</th>\n",
              "      <th>NKNC.ME</th>\n",
              "      <th>SBER.ME</th>\n",
              "    </tr>\n",
              "    <tr>\n",
              "      <th>Date</th>\n",
              "      <th></th>\n",
              "      <th></th>\n",
              "      <th></th>\n",
              "      <th></th>\n",
              "      <th></th>\n",
              "      <th></th>\n",
              "      <th></th>\n",
              "      <th></th>\n",
              "    </tr>\n",
              "  </thead>\n",
              "  <tbody>\n",
              "    <tr>\n",
              "      <th>2018-01-03</th>\n",
              "      <td>127.199066</td>\n",
              "      <td>70.177948</td>\n",
              "      <td>8249.352539</td>\n",
              "      <td>3.025520</td>\n",
              "      <td>2844.152100</td>\n",
              "      <td>197.995163</td>\n",
              "      <td>33.301483</td>\n",
              "      <td>145.441605</td>\n",
              "    </tr>\n",
              "    <tr>\n",
              "      <th>2018-01-04</th>\n",
              "      <td>134.899857</td>\n",
              "      <td>71.621933</td>\n",
              "      <td>8455.913086</td>\n",
              "      <td>3.181567</td>\n",
              "      <td>2910.237305</td>\n",
              "      <td>202.738434</td>\n",
              "      <td>33.173889</td>\n",
              "      <td>149.769119</td>\n",
              "    </tr>\n",
              "    <tr>\n",
              "      <th>2018-01-05</th>\n",
              "      <td>133.450317</td>\n",
              "      <td>71.621933</td>\n",
              "      <td>8441.316406</td>\n",
              "      <td>3.160166</td>\n",
              "      <td>2967.178467</td>\n",
              "      <td>202.199417</td>\n",
              "      <td>33.237682</td>\n",
              "      <td>149.643677</td>\n",
              "    </tr>\n",
              "    <tr>\n",
              "      <th>2018-01-09</th>\n",
              "      <td>136.349426</td>\n",
              "      <td>71.116539</td>\n",
              "      <td>8521.605469</td>\n",
              "      <td>3.103989</td>\n",
              "      <td>3016.222900</td>\n",
              "      <td>203.421158</td>\n",
              "      <td>33.556660</td>\n",
              "      <td>150.772598</td>\n",
              "    </tr>\n",
              "    <tr>\n",
              "      <th>2018-01-10</th>\n",
              "      <td>135.262268</td>\n",
              "      <td>71.658035</td>\n",
              "      <td>8507.006836</td>\n",
              "      <td>3.087939</td>\n",
              "      <td>3026.613525</td>\n",
              "      <td>204.427307</td>\n",
              "      <td>33.811848</td>\n",
              "      <td>149.116821</td>\n",
              "    </tr>\n",
              "  </tbody>\n",
              "</table>\n",
              "</div>"
            ],
            "text/plain": [
              "               AFLT.ME    DSKY.ME  ...    NKNC.ME     SBER.ME\n",
              "Date                               ...                       \n",
              "2018-01-03  127.199066  70.177948  ...  33.301483  145.441605\n",
              "2018-01-04  134.899857  71.621933  ...  33.173889  149.769119\n",
              "2018-01-05  133.450317  71.621933  ...  33.237682  149.643677\n",
              "2018-01-09  136.349426  71.116539  ...  33.556660  150.772598\n",
              "2018-01-10  135.262268  71.658035  ...  33.811848  149.116821\n",
              "\n",
              "[5 rows x 8 columns]"
            ]
          },
          "metadata": {
            "tags": []
          },
          "execution_count": 6
        }
      ]
    },
    {
      "cell_type": "markdown",
      "metadata": {
        "id": "CvNx9EKYtd5e"
      },
      "source": [
        "Дальше необходимо проверить есть ли среди полученных значений NaN. В случае их наличия они будут мешать дальнейшему исследованию. Для того, чтобы это решить, необходимо рассмотреть или иную акцию, или заменить их для примера средней ценой между днем до и после значения NaN.  "
      ]
    },
    {
      "cell_type": "code",
      "metadata": {
        "colab": {
          "base_uri": "https://localhost:8080/"
        },
        "id": "r94MteGfl-6e",
        "outputId": "0ac61d84-c6bc-4115-beb8-aecd4035fd69"
      },
      "source": [
        "#Checking if any NaN values in the data\n",
        "nullin_df = pd.DataFrame(df_stocks,columns=tickers)\n",
        "print(nullin_df.isnull().sum())"
      ],
      "execution_count": null,
      "outputs": [
        {
          "output_type": "stream",
          "text": [
            "LKOH.ME    0\n",
            "GMKN.ME    0\n",
            "DSKY.ME    0\n",
            "NKNC.ME    0\n",
            "MTSS.ME    0\n",
            "IRAO.ME    0\n",
            "SBER.ME    0\n",
            "AFLT.ME    0\n",
            "dtype: int64\n"
          ],
          "name": "stdout"
        }
      ]
    },
    {
      "cell_type": "markdown",
      "metadata": {
        "id": "AhnU3rOmx_tm"
      },
      "source": [
        "### 3. Расчеты\n",
        "\n",
        "Перейдем к расчетам по оптимизации портфеля и начнем с определения ожидаемой доходности и дисперсии портфеля. Далее сохраним значения весов портфеля с максимальным коэффициентом Шарпа и минимальной диспрсией."
      ]
    },
    {
      "cell_type": "code",
      "metadata": {
        "id": "DvW47VYPucxA"
      },
      "source": [
        "# #Annualized Return\n",
        "# mu = expected_returns.mean_historical_return(df_stocks)\n",
        "# #Sample Variance of Portfolio\n",
        "# Sigma = risk_models.sample_cov(df_stocks)\n",
        "\n",
        "# #Max Sharpe Ratio - Tangent to the EF\n",
        "# ef = EfficientFrontier(mu, Sigma, weight_bounds=(0,1)) #weight bounds in negative allows shorting of stocks\n",
        "# sharpe_pfolio=ef.max_sharpe() #May use add objective to ensure minimum zero weighting to individual stocks\n",
        "# sharpe_pwt=ef.clean_weights()\n",
        "# print(sharpe_pwt)\n",
        "\n",
        "#Годовая доходность\n",
        "mu = expected_returns.mean_historical_return(df_stocks) \n",
        "#Дисперсия портфеля\n",
        "Sigma = risk_models.sample_cov(df_stocks)"
      ],
      "execution_count": null,
      "outputs": []
    },
    {
      "cell_type": "code",
      "metadata": {
        "colab": {
          "base_uri": "https://localhost:8080/"
        },
        "id": "1CgT1xjKeywl",
        "outputId": "0faafab8-402d-4beb-88c9-e760517cbbd9"
      },
      "source": [
        "#Max Sharpe Ratio - Tangent to the EF\n",
        "ef = EfficientFrontier(mu, Sigma, weight_bounds=(0,1)) #weight bounds in negative allows shorting of stocks\n",
        "sharpe_pfolio=ef.max_sharpe() #May use add objective to ensure minimum zero weighting to individual stocks\n",
        "sharpe_pwt=ef.clean_weights()\n",
        "print(sharpe_pwt)"
      ],
      "execution_count": null,
      "outputs": [
        {
          "output_type": "stream",
          "text": [
            "OrderedDict([('AFLT.ME', 0.0), ('DSKY.ME', 0.22606), ('GMKN.ME', 0.48796), ('IRAO.ME', 0.0), ('LKOH.ME', 0.0), ('MTSS.ME', 0.02953), ('NKNC.ME', 0.25645), ('SBER.ME', 0.0)])\n"
          ],
          "name": "stdout"
        }
      ]
    },
    {
      "cell_type": "markdown",
      "metadata": {
        "id": "w9hfq9gqy7IT"
      },
      "source": [
        "Необходимо обратить внимание, что если изменить weight_bounds=(0,1) на weight_bounds=(-1,1), то в портфеле будут учитываться и короткие позиции по акциям.\n",
        "\n",
        "Дальше посмотрим общие характеристики по портфелю."
      ]
    },
    {
      "cell_type": "code",
      "metadata": {
        "colab": {
          "base_uri": "https://localhost:8080/"
        },
        "id": "OZ-ep0tfyS7L",
        "outputId": "bee54f09-a123-4a4e-b5da-c5e69d6da2df"
      },
      "source": [
        "  ef.portfolio_performance(verbose=True)"
      ],
      "execution_count": null,
      "outputs": [
        {
          "output_type": "stream",
          "text": [
            "Expected annual return: 37.1%\n",
            "Annual volatility: 20.7%\n",
            "Sharpe Ratio: 1.70\n"
          ],
          "name": "stdout"
        },
        {
          "output_type": "execute_result",
          "data": {
            "text/plain": [
              "(0.37123023494063007, 0.20717177784552962, 1.695357536597058)"
            ]
          },
          "metadata": {
            "tags": []
          },
          "execution_count": 10
        }
      ]
    },
    {
      "cell_type": "markdown",
      "metadata": {
        "id": "JGz0JZfCjg2F"
      },
      "source": [
        "Теперь посмотрим портфель с минимальной волатильностью:"
      ]
    },
    {
      "cell_type": "code",
      "metadata": {
        "colab": {
          "base_uri": "https://localhost:8080/"
        },
        "id": "HObK8wdeilSz",
        "outputId": "5a772350-28bc-4a7b-cda9-1f86d18d7264"
      },
      "source": [
        "#Min Volatility Portfolio\n",
        "ef1 = EfficientFrontier(mu, Sigma, weight_bounds=(0,1)) #weight bounds in negative allows shorting of stocks\n",
        "minvol=ef1.min_volatility()\n",
        "minvol_pwt=ef1.clean_weights()\n",
        "print(minvol_pwt)"
      ],
      "execution_count": null,
      "outputs": [
        {
          "output_type": "stream",
          "text": [
            "OrderedDict([('AFLT.ME', 0.02876), ('DSKY.ME', 0.24503), ('GMKN.ME', 0.10403), ('IRAO.ME', 0.0938), ('LKOH.ME', 0.01168), ('MTSS.ME', 0.41967), ('NKNC.ME', 0.09704), ('SBER.ME', 0.0)])\n"
          ],
          "name": "stdout"
        }
      ]
    },
    {
      "cell_type": "code",
      "metadata": {
        "colab": {
          "base_uri": "https://localhost:8080/"
        },
        "id": "33no1v8Bjaek",
        "outputId": "4d97d93c-b895-4a04-91e8-bf3abc8789d1"
      },
      "source": [
        "ef1.portfolio_performance(verbose=True, risk_free_rate = 0.27)"
      ],
      "execution_count": null,
      "outputs": [
        {
          "output_type": "stream",
          "text": [
            "Expected annual return: 24.0%\n",
            "Annual volatility: 16.9%\n",
            "Sharpe Ratio: -0.18\n"
          ],
          "name": "stdout"
        },
        {
          "output_type": "execute_result",
          "data": {
            "text/plain": [
              "(0.239915644698749, 0.16885732511472468, -0.17816434839774456)"
            ]
          },
          "metadata": {
            "tags": []
          },
          "execution_count": 12
        }
      ]
    },
    {
      "cell_type": "markdown",
      "metadata": {
        "id": "XUhVkYJQz8qQ"
      },
      "source": [
        "### 4. Построение графика эффективных границ\n",
        "\n",
        "Заключительным шагом является построение эффективной границы для визуального представления и расчет распределения активов. Тут встречается одна сложность, решить которую пока что мне не удалось - пакет создан для анализа в долларах и в результате в выводе присутствует их обозначение. Но с другой стороны наличия значка \"$\" не должно сильно мешать. \n",
        "\n",
        "Анализ произведем для суммы в 100 000 рублей."
      ]
    },
    {
      "cell_type": "code",
      "metadata": {
        "colab": {
          "base_uri": "https://localhost:8080/",
          "height": 297
        },
        "id": "gP_v24Li0o_P",
        "outputId": "131b7808-dbf9-424a-a995-e4b63eb5b737"
      },
      "source": [
        "cl_obj = CLA(mu, Sigma)\n",
        "ax = pplt.plot_efficient_frontier(cl_obj, showfig = False)\n",
        "ax.xaxis.set_major_formatter(FuncFormatter(lambda x, _: '{:.0%}'.format(x)))\n",
        "ax.yaxis.set_major_formatter(FuncFormatter(lambda y, _: '{:.0%}'.format(y)))"
      ],
      "execution_count": null,
      "outputs": [
        {
          "output_type": "display_data",
          "data": {
            "image/png": "[encoded data removed]",
            "text/plain": [
              "<Figure size 432x288 with 1 Axes>"
            ]
          },
          "metadata": {
            "tags": [],
            "needs_background": "light"
          }
        }
      ]
    },
    {
      "cell_type": "markdown",
      "metadata": {
        "id": "hsJGcfXOklr0"
      },
      "source": [
        "Первым этапом посчитаем портфель с минимальной волатильностью:"
      ]
    },
    {
      "cell_type": "code",
      "metadata": {
        "colab": {
          "base_uri": "https://localhost:8080/"
        },
        "id": "fiFYIxfFj31k",
        "outputId": "efce1c28-d4cf-4faa-cf5d-4b0fb675ec6c"
      },
      "source": [
        "latest_prices = get_latest_prices(df_stocks)\n",
        "# Allocate Portfolio Value in $ as required to show number of shares/stocks to buy, also bounds for shorting will affect allocation\n",
        "#Min Volatility Portfolio Allocation $10000\n",
        "allocation_minv, rem_minv = DiscreteAllocation(minvol_pwt, latest_prices, total_portfolio_value=100000).lp_portfolio() \n",
        "print(allocation_minv)\n",
        "print(\"Leftover Fund value in$ after building minimum volatility portfolio is ${:.2f}\".format(rem_minv))\n",
        "print(\"Осталось денежных средств после построения портфеля с минимальной волатильностью составляет {:.2f} рублей\".format(rem_minv))\n",
        "print()"
      ],
      "execution_count": null,
      "outputs": [
        {
          "output_type": "stream",
          "text": [
            "{'AFLT.ME': 41, 'DSKY.ME': 181, 'IRAO.ME': 1765, 'LKOH.ME': 1, 'MTSS.ME': 127, 'NKNC.ME': 107}\n",
            "Leftover Fund value in$ after building minimum volatility portfolio is $6152.03\n",
            "Осталось денежных средств после построения портфеля с минимальной волатильностью составляет 6152.03 рублей\n",
            "\n"
          ],
          "name": "stdout"
        }
      ]
    },
    {
      "cell_type": "code",
      "metadata": {
        "id": "4EcVTF9_ksxa"
      },
      "source": [
        "Вторым шагом портфель с максимальным коэффициентом Шарпа:"
      ],
      "execution_count": null,
      "outputs": []
    },
    {
      "cell_type": "code",
      "metadata": {
        "colab": {
          "base_uri": "https://localhost:8080/"
        },
        "id": "bFmuKqSHkWN0",
        "outputId": "9f1572ec-35ce-4fac-d311-7fb3581d65b3"
      },
      "source": [
        "#Max Sharpe Ratio Portfolio Allocation $10000\n",
        "latest_prices1 = get_latest_prices(df_stocks)\n",
        "allocation_shp, rem_shp = DiscreteAllocation(sharpe_pwt, latest_prices1, total_portfolio_value=100000).lp_portfolio() \n",
        "print(allocation_shp)\n",
        "print(\"Leftover Fund value in$ after building Max Sharpe ratio portfolio is ${:.2f}\".format(rem_shp))\n",
        "print(\"Осталось денежных средств после построения портфеля с максимальным коэффициентом Шарпа {:.2f} рублей\".format(rem_shp))\n",
        "\n",
        "#allocation using integer programming via PyPortfolioOpt User Guide\n",
        "#Alex Putkov code used for guidance and reference in applying integer programming"
      ],
      "execution_count": null,
      "outputs": [
        {
          "output_type": "stream",
          "text": [
            "{'DSKY.ME': 167, 'GMKN.ME': 2, 'MTSS.ME': 9, 'NKNC.ME': 283}\n",
            "Leftover Fund value in$ after building Max Sharpe ratio portfolio is $1319.05\n",
            "Осталось денежных средств после построения портфеля с максимальным коэффициентом Шарпа 1319.05 рублей\n"
          ],
          "name": "stdout"
        }
      ]
    },
    {
      "cell_type": "markdown",
      "metadata": {
        "id": "cLUEsjVz5VRO"
      },
      "source": [
        "В результтате нам предлагается купить для оптимального портфеля 167 акций Детского мира, 2 акции Норильского никеля, 9 акций МТС и 283 акцию Нижнекамскнефтехим. В результате у нас еще останется 1319 рублей."
      ]
    }
  ]
}