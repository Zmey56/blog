{
 "cells": [
  {
   "cell_type": "markdown",
   "metadata": {
    "id": "kYJlJjYkoVZD"
   },
   "source": [
    "# Использование API Fmp Cloud для отбора акций по дивидендам на Nasdaq с помощью Python\n",
    "> Search for high-dividend stocks\n",
    "\n",
    "- toc: false\n",
    "- branch: master\n",
    "- badges: true\n",
    "- comments: true\n",
    "- author: Zmey56\n",
    "- categories: [finance, investment, python]"
   ]
  },
  {
   "cell_type": "markdown",
   "metadata": {
    "id": "dINNhAfDhj2S"
   },
   "source": [
    "Акции с высокой дивидентной доходностью часто являются отличной инвестиционной стратегией для инвесторов, стремящихся получать приток денежных средств каждый год. В данной статье буден создан скрипт на Python для отбора их на бирже NASDAQ."
   ]
  },
  {
   "cell_type": "markdown",
   "metadata": {
    "id": "68xtOF2LjCT6"
   },
   "source": [
    "## Что такое дивидентная доходность?"
   ]
  },
  {
   "cell_type": "markdown",
   "metadata": {
    "id": "pJx0w5R6jKF9"
   },
   "source": [
    "Возьму определение из [Википедии](https://ru.wikipedia.org/wiki/%D0%94%D0%B8%D0%B2%D0%B8%D0%B4%D0%B5%D0%BD%D0%B4%D0%BD%D0%B0%D1%8F_%D0%B4%D0%BE%D1%85%D0%BE%D0%B4%D0%BD%D0%BE%D1%81%D1%82%D1%8C). **Дивиде́ндная дохо́дность** (англ. dividend yield) — это отношение величины годового дивиденда на акцию к цене акции. Данная величина выражается чаще всего в процентах.\n",
    "\n",
    "*Пример*\n",
    "\n",
    "При цене акции ОАО «Лукойл» 1124,37 рублей и дивиденде 28 рублей на акцию дивидендная доходность будет равна:\n",
    "\n",
    "![image.png](data:image/png;base64,iVBORw0KGgoAAAANSUhEUgAAAMwAAAAtCAYAAADiOoTVAAAJdElEQVR4Ae3cT5I0tREFcPkGwII13rIy3rA0NhcArx0B9gWAExhOgH0CY+8J7BPYPgHmBP5zAXMDiN9EPSLJUVX3fNPDMNNShKJUVVJKesqXmVL1zBgrLQQWAj9qBN4aY7xxYoQvjzHUc11pIXCVCLw7xvjXGOOvY4z/jDH+P8bwrKfPxhjyJ2OMf4wx/tArrPuFwHNH4KcbWeo8keGbMcYvy8M/jjE+LPeKCIY8Ky0ErgYBCo8cH5cZ8y6e/a08+3KM8U65V3SPXCstBK4GAUrfCfPa9ixk+MlGDKT5WUEGyVZYVgBZxetEICT6c5n+bzcSIReSfLCFci+VOqu4ELhKBP4+xvh6jMHT1PR+IQ3i1D1OrbfKC4GrQQApkKUfLztGFqJ5n0MBpOF5VloIXCUC9iczsgDj323TL2xT1xG0Pc5KC4GrQgBZeI4ahsV78Da+z/SkzQrNOirr/tkjELLUDbzvMzklc8zMw8w8CcKou9JC4CoQQBLHxbLNfjKC5KOkOsKveJwA4z6kyrN1vY0A/Oz9Th2SvHe76dU+EdX4UF6NeAeDoa8RUX//IPf5cMlT9Fy/7BvcVxuhfH9BLB82jyb0IAN+YkLhw6jY8zmm/2Lnd3h+cuTXFE89XUKB6SQ88pOtX01A8c424VF+0yjUmuXJOG9Oz1jKRxnobEB3eEZ5fT+yGHuJMfDez36UZwbBYnkvI0A/UayyfbOq/Vlk9wwO+WT4Hd+jLf42fvMQVWRcs3nXec3KH23GoYfuQnbyGQ5ztQZ7SV2GO/2LYrTRFm7wZKhFPNZhpQdAAOgUgVJajL0w0sJU5VbudbOAWdBfbyeFe/s47RPamhovwuBQqhgeynQqXHsAWG5EGrcx8gzGRAkpIyzukshxYkpWJUyeC0kluFkH5Jol+FqjJLjE8zJM8tvtZ1upu64XRsBC7hHGwnhXFV/Zs1gy7SmFRa2pE62+oxw8SRLyVHKQXQmVej/UlTLyLELuJM/Me0+pU69eeUpz7YRhqMiqyXz3Pkd4V+tbg/qLE4SD91OMcCoGT6J8RBjexEJV65j6sXAhVVV4E6cke6eIwoe0V5dipQ+L/s9y/xggGo951/0qEntWFfVobIiVcKwSJviZY00hRcdRnWAcjHjwalBgOdvTVPmrfCEEsoAWtSfP9giT+nsLTSF628inAMiEHKx4DflY36P9T2Q85JXFdiBRk/DJfKpnrO9rmQdAOglOcpRdmEdO8Nuq3RDA80qEvHPlqeLFhavx+ohcjU9ts8oPgMAeYTy3qF3pe/09wrDE2u4pv8VXp54qsshVYfQln0qUkCLfJZ+S2d8njIqi9vf1HllSrxPGfOyHfLKoKTjW+df3SEwu4xLiMDgrFKsovWCZAh2dulSxnQD1HYXfI4xFl7LQPZRg9bTtz7dmty4UrFpdShFli4LcarQ9oExCklnW/yzvyZo9zy/Vs0mf1cmzhGK5zxwq8YOZcSfxuPDaI0zq1StPk1CMLH0hlVxl37T5fIzxvyvNv6moTcoAA36NwSfVbh4dEcYC7BHGOymL34mRkCyWdqu+e6mhmDb6zaKbz2NtaIWMNRzancDmVYy1phlhvOddzRkZeY2/bHNGuHNSD8X0k7bepfydrNfHGG9eaX71OxTmBZbQwvE0p9IRYaL0XQZl7oTxT0Bq8r6Trb6v5W6VkTDy1eNhKMFRMo+75CNZeYewyFLDylpOvVxhLtQydt9GhIg8h6zcjQpZnuknhudIfvphPPQRI+IK67oG/VAhbdf1nggcESZhlTpJqZ/QwQJbrK4MFuyc7xbad6vM4lbCkJ3+Mo56ZRj0d26usqucWqbE6lUFPjUOdXtYCAPZ83jbWcjM4/z3zD2bUKyPqxOmY1rntsr3QCAEmCmRRbEQdXFY+v6MFe4nNb4p3AoLJuPUbxQpr5GDzBCVhzm1j0nbS1yRhaegdPUgQQhVw1yKy3sceXLz69iSWRVcf+5PeVFzg0M3HvEw2c/AbXmYS2hCkWGRf7/9PMNiUXAK0BcDESgP0sjKnRxCAQouHqf8f9qsKkU4SvqakYolN6YQZkaqI7n3fcfD6X+Wqyd18KFOx0z/FBsO3sMW+dIWMRDtFxtmMBXCnUqw3SOC5xnHKU/4vX5OLZLK6hzVs1CUIwv2vQ4mNxTlyMr0JiwCJZvJJ+cusrrsc+/NH7CsUr1mUascY42lrXFyrWMxU+ccb2COjpT3ksUXynz6A3sX47H2PbTKfdUbZYSPota5OCyAZcW2rqvn2skzzKuslJHO2GYphxPwYmDqOG/Vj4KrjNEzRdTIonKp2D0bpE4MSocYSxYlOOrcBNSbyesDjZKwYCwKy0N+TQAkj9URAhhLrsp7c6synkIZpke4moP1kn/MCWHOCaUuMYdKuD15Ccv23t8oEEWihMKCPcJQUPXkPQVHFkxNAoa6ZM8S5WUF9+T1NhSfm07KprpaZGMgb5Z7KBQ56/o4CCA8fXqyKWQ4ssKx4N0jaENJeZ+aQsIc4dV3ZEXpu7xaL+WQIJYiG+hKSJ7FWJK1/flTX5gA8Myuju+rgX1y07sPYUzWJi5fsDP5yOyxu1BMDI4oiHAOYex1qjcJeevGt2/+EFV4GJJlXOu6ELg3AlHuF/Ewe52z+AhRY2nyKTFlvgthah/cOW8mpDuK5XkwRFtpIXBxBEKYI8Gx6ud4BF4FWfregYxs9O5KGC7cXsaG3/WILLwYQq20EHgQBEKYS3iYeIC6vzDohGKZwF0Jk3bkIwMPNtsfqefrbz9FS/t1XQjcG4FLEsZHvE6WhGKvbCN1XwlzRNTZ5NIWaXoSAp67N+pt1/1C4CwELkUYR791I+5s26Y7IRpF3st7pOFRfFnvpyqRU/dIJpsjbaRaaSHwIAhcgjDIUk+yDNRpWBQaIWrOngipKlkQrJ5sCa2QwxiT1A9halvvhWPepd+0WdeFwMUQuC9h/Aogm3Eb8mSK2xU6gw4R+rEzOVXhE37VP0LKdxjk6Clz6c/X/ULgXghQ5Jw6xVq7Utga/vi+4Ri31lGON1G3v8v97KRK/Rw5px75IRaF902nhnbKniOZbIzIMjsp0ye5Ky0ELo4AJZ3lWUdR6FxrnZmMPKv1ajlyZvV4kN/VyuXbDY9zFG4J5yrhm5h1uxB4fgg4ZTsixfOb8ZrRQuAFEbCn6T9zeUFRq9lC4Pkj4Ocss73J85/5muFCYCGwEFgILAQWAs8cgW8BBhuqtZVyV6oAAAAASUVORK5CYII=)\n"
   ]
  },
  {
   "cell_type": "markdown",
   "metadata": {
    "id": "RDbJ10nWkHAn"
   },
   "source": [
    "Так же необходимо обратить внимание, что многие растущие компании, такие как для примера Amazon и Yandex, не выплачивают дивиденды, поскольку они реинвестируют всю прибыль в развитие бизнеса. Поэтому дивидендная доходность для этих фирм будет равна нулю."
   ]
  },
  {
   "cell_type": "markdown",
   "metadata": {
    "id": "CsdSg5-kkoPc"
   },
   "source": [
    "## Расчет дивидендной доходности с помощью Python"
   ]
  },
  {
   "cell_type": "markdown",
   "metadata": {
    "id": "-6-S8V4GkxgT"
   },
   "source": [
    "Расчет дивидендной доходности является простой задачей, которую можно выполнить с помощью финансового API под названием fmpcloud и Python. Этот API предлагает несколько бесплатных запросов в день после регистрации. \n",
    "\n",
    "1. Первым делом нужно извлечь список тикеров для всех акций, торгующихся на Nasdaq, по которым собираемся рассчитать дивидендную доходность. "
   ]
  },
  {
   "cell_type": "code",
   "execution_count": 3,
   "metadata": {
    "colab": {
     "base_uri": "https://localhost:8080/",
     "height": 229
    },
    "id": "WSHbqMTIjJYB",
    "outputId": "ef95947b-4c1f-42c5-c601-c1c586cd893c"
   },
   "outputs": [],
   "source": [
    "import requests\n",
    "\n",
    "demo = 'ВАШ API КОД'\n",
    "\n",
    "tickers = requests.get(f'https://fmpcloud.io/api/v3/symbol/available-nasdaq?apikey={demo}')\n",
    "\n",
    "tickers = tickers.json()\n",
    "symbols = []\n",
    "for ticker in tickers:\n",
    "  symbols.append(ticker['symbol'])"
   ]
  },
  {
   "cell_type": "code",
   "execution_count": 4,
   "metadata": {
    "colab": {
     "base_uri": "https://localhost:8080/"
    },
    "id": "L-SG35yweyer",
    "outputId": "e0d38806-a1c5-4842-fdd8-e0b4a82fef73"
   },
   "outputs": [
    {
     "data": {
      "text/plain": [
       "5500"
      ]
     },
     "execution_count": 4,
     "metadata": {},
     "output_type": "execute_result"
    }
   ],
   "source": [
    "len(symbols)"
   ]
  },
  {
   "cell_type": "markdown",
   "metadata": {
    "id": "puZgHL3qnDiP"
   },
   "source": [
    "2. После необходимо пройтись по полученому списку акций и получить финансовую информацию по компании. Так же необходимо понимать, что получаем только последние данные, а не за все время существование компании."
   ]
  },
  {
   "cell_type": "code",
   "execution_count": 5,
   "metadata": {
    "colab": {
     "base_uri": "https://localhost:8080/"
    },
    "id": "SXM7YJdPhe6y",
    "outputId": "fedec03a-64a7-40ea-835b-57af331c70be"
   },
   "outputs": [],
   "source": [
    "DivYield = {}\n",
    "for company in symbols:\n",
    "  try:\n",
    "    companydata = requests.get(f'https://fmpcloud.io/api/v3/profile/{company}?apikey={demo}')\n",
    "    companydata = companydata.json()\n",
    "    latest_Annual_Dividend = companydata[0]['lastDiv']\n",
    "    price = companydata[0]['price']\n",
    "    market_Capitalization = companydata[0]['mktCap']\n",
    "    name = companydata[0]['companyName']\n",
    "    exchange = companydata[0]['exchange']\n",
    "\n",
    "    dividend_Yield= latest_Annual_Dividend/price\n",
    "    DivYield[company] = {}\n",
    "    DivYield[company]['Dividend_Yield'] = dividend_Yield\n",
    "    DivYield[company]['latest_Price'] = price\n",
    "    DivYield[company]['latest_Dividend'] = latest_Annual_Dividend\n",
    "    DivYield[company]['market_Capit_in_M'] = market_Capitalization/1000000\n",
    "    DivYield[company]['company_Name'] = name\n",
    "    DivYield[company]['exchange'] = exchange\n",
    "  except:\n",
    "    pass"
   ]
  },
  {
   "cell_type": "markdown",
   "metadata": {
    "id": "3IXkEfOWufq7"
   },
   "source": [
    "Сбор данных может занять значительное по продолжительности время. После их можно представить в виде отсортированного DataFrame, где сверху будут акций с высокой дивидендной доходностью. "
   ]
  },
  {
   "cell_type": "code",
   "execution_count": 6,
   "metadata": {
    "colab": {
     "base_uri": "https://localhost:8080/",
     "height": 491
    },
    "id": "i18xe4C2hBPu",
    "outputId": "650b763b-6ada-411c-b39a-116006218ea5"
   },
   "outputs": [
    {
     "data": {
      "text/html": [
       "<div>\n",
       "<style scoped>\n",
       "    .dataframe tbody tr th:only-of-type {\n",
       "        vertical-align: middle;\n",
       "    }\n",
       "\n",
       "    .dataframe tbody tr th {\n",
       "        vertical-align: top;\n",
       "    }\n",
       "\n",
       "    .dataframe thead th {\n",
       "        text-align: right;\n",
       "    }\n",
       "</style>\n",
       "<table border=\"1\" class=\"dataframe\">\n",
       "  <thead>\n",
       "    <tr style=\"text-align: right;\">\n",
       "      <th></th>\n",
       "      <th>Dividend_Yield</th>\n",
       "      <th>latest_Price</th>\n",
       "      <th>latest_Dividend</th>\n",
       "      <th>market_Capit_in_M</th>\n",
       "      <th>company_Name</th>\n",
       "      <th>exchange</th>\n",
       "    </tr>\n",
       "  </thead>\n",
       "  <tbody>\n",
       "    <tr>\n",
       "      <th>SNT</th>\n",
       "      <td>0.682238</td>\n",
       "      <td>4.1100</td>\n",
       "      <td>2.8040</td>\n",
       "      <td>95.258704</td>\n",
       "      <td>Senstar Technologies Ltd.</td>\n",
       "      <td>Nasdaq Global Market</td>\n",
       "    </tr>\n",
       "    <tr>\n",
       "      <th>TBK</th>\n",
       "      <td>0.151587</td>\n",
       "      <td>117.4900</td>\n",
       "      <td>17.8100</td>\n",
       "      <td>2951.818752</td>\n",
       "      <td>Triumph Bancorp, Inc.</td>\n",
       "      <td>Nasdaq Global Select</td>\n",
       "    </tr>\n",
       "    <tr>\n",
       "      <th>MGOAX</th>\n",
       "      <td>0.100728</td>\n",
       "      <td>16.4900</td>\n",
       "      <td>1.6610</td>\n",
       "      <td>1625.336832</td>\n",
       "      <td>Victory Munder Mid-Cap Core Growth Fund Class A</td>\n",
       "      <td>Nasdaq Capital Market</td>\n",
       "    </tr>\n",
       "    <tr>\n",
       "      <th>GLAD</th>\n",
       "      <td>0.067450</td>\n",
       "      <td>11.5641</td>\n",
       "      <td>0.7800</td>\n",
       "      <td>396.699520</td>\n",
       "      <td>Gladstone Capital Corporation</td>\n",
       "      <td>Nasdaq Global Select</td>\n",
       "    </tr>\n",
       "    <tr>\n",
       "      <th>NVEC</th>\n",
       "      <td>0.057954</td>\n",
       "      <td>69.0200</td>\n",
       "      <td>4.0000</td>\n",
       "      <td>333.589504</td>\n",
       "      <td>NVE Corporation</td>\n",
       "      <td>Nasdaq Capital Market</td>\n",
       "    </tr>\n",
       "    <tr>\n",
       "      <th>QYLG</th>\n",
       "      <td>0.054108</td>\n",
       "      <td>32.6199</td>\n",
       "      <td>1.7650</td>\n",
       "      <td>0.000000</td>\n",
       "      <td>Global X NASDAQ 100 Covered Call &amp; Growth ETF</td>\n",
       "      <td>Nasdaq Global Market</td>\n",
       "    </tr>\n",
       "    <tr>\n",
       "      <th>FUND</th>\n",
       "      <td>0.049811</td>\n",
       "      <td>8.7410</td>\n",
       "      <td>0.4354</td>\n",
       "      <td>256.320208</td>\n",
       "      <td>Sprott Focus Trust, Inc.</td>\n",
       "      <td>Nasdaq Global Select</td>\n",
       "    </tr>\n",
       "    <tr>\n",
       "      <th>SQQQ</th>\n",
       "      <td>0.044732</td>\n",
       "      <td>7.2655</td>\n",
       "      <td>0.3250</td>\n",
       "      <td>130697.036000</td>\n",
       "      <td>ProShares UltraPro Short QQQ</td>\n",
       "      <td>Nasdaq Global Market</td>\n",
       "    </tr>\n",
       "    <tr>\n",
       "      <th>MTEX</th>\n",
       "      <td>0.042901</td>\n",
       "      <td>39.1600</td>\n",
       "      <td>1.6800</td>\n",
       "      <td>74.116176</td>\n",
       "      <td>Mannatech, Incorporated</td>\n",
       "      <td>Nasdaq Global Select</td>\n",
       "    </tr>\n",
       "    <tr>\n",
       "      <th>ESHY</th>\n",
       "      <td>0.040237</td>\n",
       "      <td>21.0750</td>\n",
       "      <td>0.8480</td>\n",
       "      <td>0.000000</td>\n",
       "      <td>Xtrackers J.P. Morgan ESG USD High Yield Corpo...</td>\n",
       "      <td>Nasdaq Global Select</td>\n",
       "    </tr>\n",
       "    <tr>\n",
       "      <th>PBCT</th>\n",
       "      <td>0.038865</td>\n",
       "      <td>18.6800</td>\n",
       "      <td>0.7260</td>\n",
       "      <td>7994.199552</td>\n",
       "      <td>People's United Financial, Inc.</td>\n",
       "      <td>Nasdaq Global Select</td>\n",
       "    </tr>\n",
       "    <tr>\n",
       "      <th>NYMTP</th>\n",
       "      <td>0.038217</td>\n",
       "      <td>25.3290</td>\n",
       "      <td>0.9680</td>\n",
       "      <td>1337.495296</td>\n",
       "      <td>New York Mortgage Trust, Inc.</td>\n",
       "      <td>Nasdaq Global Select</td>\n",
       "    </tr>\n",
       "    <tr>\n",
       "      <th>MNSBP</th>\n",
       "      <td>0.037127</td>\n",
       "      <td>27.5000</td>\n",
       "      <td>1.0210</td>\n",
       "      <td>0.000000</td>\n",
       "      <td>MainStreet Bancshares, Inc.</td>\n",
       "      <td>Nasdaq Global Select</td>\n",
       "    </tr>\n",
       "    <tr>\n",
       "      <th>REG</th>\n",
       "      <td>0.033759</td>\n",
       "      <td>70.5000</td>\n",
       "      <td>2.3800</td>\n",
       "      <td>11976.117248</td>\n",
       "      <td>Regency Centers Corporation</td>\n",
       "      <td>Nasdaq Global Select</td>\n",
       "    </tr>\n",
       "    <tr>\n",
       "      <th>TTEC</th>\n",
       "      <td>0.032629</td>\n",
       "      <td>93.1700</td>\n",
       "      <td>3.0400</td>\n",
       "      <td>4377.620480</td>\n",
       "      <td>TTEC Holdings, Inc.</td>\n",
       "      <td>Nasdaq Global Select</td>\n",
       "    </tr>\n",
       "  </tbody>\n",
       "</table>\n",
       "</div>"
      ],
      "text/plain": [
       "       Dividend_Yield  latest_Price  latest_Dividend  market_Capit_in_M  \\\n",
       "SNT          0.682238        4.1100           2.8040          95.258704   \n",
       "TBK          0.151587      117.4900          17.8100        2951.818752   \n",
       "MGOAX        0.100728       16.4900           1.6610        1625.336832   \n",
       "GLAD         0.067450       11.5641           0.7800         396.699520   \n",
       "NVEC         0.057954       69.0200           4.0000         333.589504   \n",
       "QYLG         0.054108       32.6199           1.7650           0.000000   \n",
       "FUND         0.049811        8.7410           0.4354         256.320208   \n",
       "SQQQ         0.044732        7.2655           0.3250      130697.036000   \n",
       "MTEX         0.042901       39.1600           1.6800          74.116176   \n",
       "ESHY         0.040237       21.0750           0.8480           0.000000   \n",
       "PBCT         0.038865       18.6800           0.7260        7994.199552   \n",
       "NYMTP        0.038217       25.3290           0.9680        1337.495296   \n",
       "MNSBP        0.037127       27.5000           1.0210           0.000000   \n",
       "REG          0.033759       70.5000           2.3800       11976.117248   \n",
       "TTEC         0.032629       93.1700           3.0400        4377.620480   \n",
       "\n",
       "                                            company_Name  \\\n",
       "SNT                            Senstar Technologies Ltd.   \n",
       "TBK                                Triumph Bancorp, Inc.   \n",
       "MGOAX    Victory Munder Mid-Cap Core Growth Fund Class A   \n",
       "GLAD                       Gladstone Capital Corporation   \n",
       "NVEC                                     NVE Corporation   \n",
       "QYLG       Global X NASDAQ 100 Covered Call & Growth ETF   \n",
       "FUND                            Sprott Focus Trust, Inc.   \n",
       "SQQQ                        ProShares UltraPro Short QQQ   \n",
       "MTEX                             Mannatech, Incorporated   \n",
       "ESHY   Xtrackers J.P. Morgan ESG USD High Yield Corpo...   \n",
       "PBCT                     People's United Financial, Inc.   \n",
       "NYMTP                      New York Mortgage Trust, Inc.   \n",
       "MNSBP                        MainStreet Bancshares, Inc.   \n",
       "REG                          Regency Centers Corporation   \n",
       "TTEC                                 TTEC Holdings, Inc.   \n",
       "\n",
       "                    exchange  \n",
       "SNT     Nasdaq Global Market  \n",
       "TBK     Nasdaq Global Select  \n",
       "MGOAX  Nasdaq Capital Market  \n",
       "GLAD    Nasdaq Global Select  \n",
       "NVEC   Nasdaq Capital Market  \n",
       "QYLG    Nasdaq Global Market  \n",
       "FUND    Nasdaq Global Select  \n",
       "SQQQ    Nasdaq Global Market  \n",
       "MTEX    Nasdaq Global Select  \n",
       "ESHY    Nasdaq Global Select  \n",
       "PBCT    Nasdaq Global Select  \n",
       "NYMTP   Nasdaq Global Select  \n",
       "MNSBP   Nasdaq Global Select  \n",
       "REG     Nasdaq Global Select  \n",
       "TTEC    Nasdaq Global Select  "
      ]
     },
     "execution_count": 6,
     "metadata": {},
     "output_type": "execute_result"
    }
   ],
   "source": [
    "import pandas as pd\n",
    "DivYield_dataframe = pd.DataFrame.from_dict(DivYield, orient='index')\n",
    "\n",
    "DivYield_dataframe = DivYield_dataframe.sort_values(['Dividend_Yield'], ascending=[False])\n",
    "DivYield_dataframe.head(15)"
   ]
  },
  {
   "cell_type": "markdown",
   "metadata": {
    "id": "DieA0KRDu1ct"
   },
   "source": [
    "## Анализ полученного результата и заключение"
   ]
  },
  {
   "cell_type": "markdown",
   "metadata": {
    "id": "RVr2Yyrwlu3B"
   },
   "source": [
    "Предварительно проведем расчет средней дивидендной доходности по акциям которые платят дивиденды:"
   ]
  },
  {
   "cell_type": "code",
   "execution_count": 7,
   "metadata": {
    "colab": {
     "base_uri": "https://localhost:8080/"
    },
    "id": "lc9d6MhFlUJI",
    "outputId": "6efd4ae8-a39d-48f1-e4ec-44a2d56c6609"
   },
   "outputs": [
    {
     "name": "stdout",
     "output_type": "stream",
     "text": [
      "Средняя дивидендная доходность по рынку Nasdaq равна  3.48%\n"
     ]
    }
   ],
   "source": [
    "meanDivNasdaq = DivYield_dataframe[DivYield_dataframe['Dividend_Yield']>0]['Dividend_Yield'].mean()\n",
    "print(\"Средняя дивидендная доходность по рынку Nasdaq равна \", \"{:.2%}\".format(meanDivNasdaq))"
   ]
  },
  {
   "cell_type": "markdown",
   "metadata": {
    "id": "S7DhUL5JvB2w"
   },
   "source": [
    "Самой высокой дивидендной доходностью в полученных результатах у акций компании Senstar Technologies Ltd. — 68.22%. Так же замечено, что в системе похоже сидит баг - может выдавать акции по которым никогда не платили дивиденты. Так же по другим рынкам заметил, что в список могут включаться акции по которым перестали платить дивиденды давно. А так, как подписка Free ограничена по количеству запросов, то подстроить не удалось. Так же в том случае, если при проверке выясняется, что дивиденды платили недавно, то все равно необходимо быть осторожным при выборе компаний по данному показателю, так как он может являться результатом падения цены акций и как следствия ростом дивидендной доходности. Так же выплата высоких дивидендов может не сохраниться в будущем, тем более если у компании возникнут финансовые проблемы.\n",
    "\n",
    "Основной смысл в следующем - анализ дивидендной доходности не должен быть единственным критерием. Я для одного из своих портфелей так же смотрю: EPS, EBITDA, FCF, срок выплаты дивидендов, капитализация компании, чистая рентабельность (отношение выручки к прибыли) и коэффициент Net Debt/EBITDA.\n",
    "\n",
    "Но как говориться - все вышеприведенное не является инвестиционной рекомендацией и выбор остается за каждым самостоятельно."
   ]
  },
  {
   "cell_type": "code",
   "execution_count": null,
   "metadata": {
    "id": "VYwQwkD97Aag"
   },
   "outputs": [],
   "source": []
  }
 ],
 "metadata": {
  "colab": {
   "collapsed_sections": [],
   "name": "High_dividend_stocks.ipynb",
   "provenance": []
  },
  "kernelspec": {
   "display_name": "Python 3",
   "language": "python",
   "name": "python3"
  },
  "language_info": {
   "codemirror_mode": {
    "name": "ipython",
    "version": 3
   },
   "file_extension": ".py",
   "mimetype": "text/x-python",
   "name": "python",
   "nbconvert_exporter": "python",
   "pygments_lexer": "ipython3",
   "version": "3.8.10"
  }
 },
 "nbformat": 4,
 "nbformat_minor": 1
}
