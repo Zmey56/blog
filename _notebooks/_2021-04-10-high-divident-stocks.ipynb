{
 "cells": [
  {
   "cell_type": "markdown",
   "metadata": {
    "id": "kYJlJjYkoVZD"
   },
   "source": [
    "# Использование API Fmp Cloud для отбора акций по дивидендам на Nasdaq с помощью Python\n",
    "> Search for high-dividend stocks\n",
    "\n",
    "- toc: true\n",
    "- branch: master\n",
    "- badges: true\n",
    "- comments: true\n",
    "- author: Zmey56\n",
    "- categories: [finance, investment, python]"
   ]
  },
  {
   "cell_type": "markdown",
   "metadata": {
    "id": "dINNhAfDhj2S"
   },
   "source": [
    "Акции с высокой дивидентной доходностью часто являются отличной инвестиционной стратегией для инвесторов, стремящихся получать приток денежных средств каждый год. В данной статье буден создан скрипт на Python для отбора их на бирже NASDAQ."
   ]
  },
  {
   "cell_type": "markdown",
   "metadata": {
    "id": "68xtOF2LjCT6"
   },
   "source": [
    "## Что такое дивидентная доходность?"
   ]
  },
  {
   "cell_type": "markdown",
   "metadata": {
    "id": "pJx0w5R6jKF9"
   },
   "source": [
    "Возьму определение из [Википедии](https://ru.wikipedia.org/wiki/%D0%94%D0%B8%D0%B2%D0%B8%D0%B4%D0%B5%D0%BD%D0%B4%D0%BD%D0%B0%D1%8F_%D0%B4%D0%BE%D1%85%D0%BE%D0%B4%D0%BD%D0%BE%D1%81%D1%82%D1%8C). **Дивиде́ндная дохо́дность** (англ. dividend yield) — это отношение величины годового дивиденда на акцию к цене акции. Данная величина выражается чаще всего в процентах.\n",
    "\n",
    "*Пример*\n",
    "\n",
    "При цене акции ОАО «Лукойл» 1124,37 рублей и дивиденде 28 рублей на акцию дивидендная доходность будет равна:\n",
    "\n",
    "![image.png](data:image/png;base64,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)\n"
   ]
  },
  {
   "cell_type": "markdown",
   "metadata": {
    "id": "RDbJ10nWkHAn"
   },
   "source": [
    "Так же необходимо обратить внимание, что многие растущие компании, такие как для примера Amazon и Yandex, не выплачивают дивиденды, поскольку они реинвестируют всю прибыль в развитие бизнеса. Поэтому дивидендная доходность для этих фирм будет равна нулю."
   ]
  },
  {
   "cell_type": "markdown",
   "metadata": {
    "id": "CsdSg5-kkoPc"
   },
   "source": [
    "## Расчет дивидендной доходности с помощью Python"
   ]
  },
  {
   "cell_type": "markdown",
   "metadata": {
    "id": "-6-S8V4GkxgT"
   },
   "source": [
    "Расчет дивидендной доходности является простой задачей, которую можно выполнить с помощью финансового API под названием fmpcloud и Python. Этот API предлагает несколько бесплатных запросов в день после регистрации. \n",
    "\n",
    "1. Первым делом нужно извлечь список тикеров для всех акций, торгующихся на Nasdaq, по которым собираемся рассчитать дивидендную доходность. "
   ]
  },
  {
   "cell_type": "code",
   "execution_count": 5,
   "metadata": {},
   "outputs": [],
   "source": [
    "import requests\n",
    "\n",
    "demo = 'Ваш API CODE'\n",
    "\n",
    "tickers = requests.get(f'https://fmpcloud.io/api/v3/symbol/available-nasdaq?apikey={demo}')\n",
    "\n",
    "tickers = tickers.json()\n",
    "symbols = []\n",
    "#for ticker in tickers:\n",
    " #   symbols.append(ticker['symbol'])"
   ]
  },
  {
   "cell_type": "code",
   "execution_count": null,
   "metadata": {},
   "outputs": [],
   "source": []
  },
  {
   "cell_type": "code",
   "execution_count": 3,
   "metadata": {
    "colab": {
     "base_uri": "https://localhost:8080/",
     "height": 229
    },
    "id": "WSHbqMTIjJYB",
    "outputId": "ef95947b-4c1f-42c5-c601-c1c586cd893c"
   },
   "outputs": [
    {
     "ename": "TypeError",
     "evalue": "string indices must be integers",
     "output_type": "error",
     "traceback": [
      "\u001b[0;31m---------------------------------------------------------------------------\u001b[0m",
      "\u001b[0;31mTypeError\u001b[0m                                 Traceback (most recent call last)",
      "\u001b[0;32m<ipython-input-3-4cfc3d43ef34>\u001b[0m in \u001b[0;36m<module>\u001b[0;34m\u001b[0m\n\u001b[1;32m      8\u001b[0m \u001b[0msymbols\u001b[0m \u001b[0;34m=\u001b[0m \u001b[0;34m[\u001b[0m\u001b[0;34m]\u001b[0m\u001b[0;34m\u001b[0m\u001b[0;34m\u001b[0m\u001b[0m\n\u001b[1;32m      9\u001b[0m \u001b[0;32mfor\u001b[0m \u001b[0mticker\u001b[0m \u001b[0;32min\u001b[0m \u001b[0mtickers\u001b[0m\u001b[0;34m:\u001b[0m\u001b[0;34m\u001b[0m\u001b[0;34m\u001b[0m\u001b[0m\n\u001b[0;32m---> 10\u001b[0;31m   \u001b[0msymbols\u001b[0m\u001b[0;34m.\u001b[0m\u001b[0mappend\u001b[0m\u001b[0;34m(\u001b[0m\u001b[0mticker\u001b[0m\u001b[0;34m[\u001b[0m\u001b[0;34m'symbol'\u001b[0m\u001b[0;34m]\u001b[0m\u001b[0;34m)\u001b[0m\u001b[0;34m\u001b[0m\u001b[0;34m\u001b[0m\u001b[0m\n\u001b[0m\u001b[1;32m     11\u001b[0m \u001b[0mprint\u001b[0m\u001b[0;34m(\u001b[0m\u001b[0msymbols\u001b[0m\u001b[0;34m)\u001b[0m\u001b[0;34m\u001b[0m\u001b[0;34m\u001b[0m\u001b[0m\n\u001b[1;32m     12\u001b[0m \u001b[0;31m#['SMMCW', 'VOD', 'TRMD', 'TRMB', 'NBL', 'EMMA',...]\u001b[0m\u001b[0;34m\u001b[0m\u001b[0;34m\u001b[0m\u001b[0;34m\u001b[0m\u001b[0m\n",
      "\u001b[0;31mTypeError\u001b[0m: string indices must be integers"
     ]
    }
   ],
   "source": [
    "import requests\n",
    "\n",
    "demo = '39b9d9eeb3ba3fe57e039284db7ed2c0'\n",
    "\n",
    "tickers = requests.get(f'https://fmpcloud.io/api/v3/symbol/available-nasdaq?apikey={demo}')\n",
    "\n",
    "tickers = tickers.json()\n",
    "symbols = []\n",
    "for ticker in tickers:\n",
    "  symbols.append(ticker['symbol'])\n",
    "print(symbols)\n",
    "#['SMMCW', 'VOD', 'TRMD', 'TRMB', 'NBL', 'EMMA',...]"
   ]
  },
  {
   "cell_type": "code",
   "execution_count": 2,
   "metadata": {
    "colab": {
     "base_uri": "https://localhost:8080/"
    },
    "id": "L-SG35yweyer",
    "outputId": "e0d38806-a1c5-4842-fdd8-e0b4a82fef73"
   },
   "outputs": [
    {
     "data": {
      "text/plain": [
       "0"
      ]
     },
     "execution_count": 2,
     "metadata": {},
     "output_type": "execute_result"
    }
   ],
   "source": [
    "len(symbols)"
   ]
  },
  {
   "cell_type": "markdown",
   "metadata": {
    "id": "puZgHL3qnDiP"
   },
   "source": [
    "2. После необходимо пройтись по полученому списку акций и получить финансовую информацию по компании. Так же необходимо понимать, что получаем только последние данные, а не за все время существование компании."
   ]
  },
  {
   "cell_type": "code",
   "execution_count": null,
   "metadata": {
    "colab": {
     "base_uri": "https://localhost:8080/"
    },
    "id": "SXM7YJdPhe6y",
    "outputId": "fedec03a-64a7-40ea-835b-57af331c70be"
   },
   "outputs": [],
   "source": [
    "DivYield = {}\n",
    "for company in symbols:\n",
    "  try:\n",
    "    companydata = requests.get(f'https://fmpcloud.io/api/v3/profile/{company}?apikey={demo}')\n",
    "    companydata = companydata.json()\n",
    "    latest_Annual_Dividend = companydata[0]['lastDiv']\n",
    "    price = companydata[0]['price']\n",
    "    market_Capitalization = companydata[0]['mktCap']\n",
    "    name = companydata[0]['companyName']\n",
    "    exchange = companydata[0]['exchange']\n",
    "\n",
    "    dividend_Yield= latest_Annual_Dividend/price\n",
    "    DivYield[company] = {}\n",
    "    DivYield[company]['Dividend_Yield'] = dividend_Yield\n",
    "    DivYield[company]['latest_Price'] = price\n",
    "    DivYield[company]['latest_Dividend'] = latest_Annual_Dividend\n",
    "    DivYield[company]['market_Capit_in_M'] = market_Capitalization/1000000\n",
    "    DivYield[company]['company_Name'] = name\n",
    "    DivYield[company]['exchange'] = exchange\n",
    "  except:\n",
    "    pass"
   ]
  },
  {
   "cell_type": "markdown",
   "metadata": {
    "id": "3IXkEfOWufq7"
   },
   "source": [
    "Сбор данных может занять значительное по продолжительности время. После их можно представить в виде отсортированного DataFrame, где сверху будут акций с высокой дивидендной доходностью. "
   ]
  },
  {
   "cell_type": "code",
   "execution_count": null,
   "metadata": {
    "colab": {
     "base_uri": "https://localhost:8080/",
     "height": 491
    },
    "id": "i18xe4C2hBPu",
    "outputId": "650b763b-6ada-411c-b39a-116006218ea5"
   },
   "outputs": [],
   "source": [
    "import pandas as pd\n",
    "DivYield_dataframe = pd.DataFrame.from_dict(DivYield, orient='index')\n",
    "\n",
    "DivYield_dataframe = DivYield_dataframe.sort_values(['Dividend_Yield'], ascending=[False])\n",
    "DivYield_dataframe.head(15)"
   ]
  },
  {
   "cell_type": "markdown",
   "metadata": {
    "id": "DieA0KRDu1ct"
   },
   "source": [
    "## Анализ полученного результата и заключение"
   ]
  },
  {
   "cell_type": "markdown",
   "metadata": {
    "id": "RVr2Yyrwlu3B"
   },
   "source": [
    "Предварительно проведем расчет средней дивидендной доходности по акциям которые платят дивиденды:"
   ]
  },
  {
   "cell_type": "code",
   "execution_count": null,
   "metadata": {
    "colab": {
     "base_uri": "https://localhost:8080/"
    },
    "id": "lc9d6MhFlUJI",
    "outputId": "6efd4ae8-a39d-48f1-e4ec-44a2d56c6609"
   },
   "outputs": [],
   "source": [
    "meanDivNasdaq = DivYield_dataframe[DivYield_dataframe['Dividend_Yield']>0]['Dividend_Yield'].mean()\n",
    "print(\"Средняя дивидендная доходность по рынку Nasdaq равна \", \"{:.2%}\".format(meanDivNasdaq))"
   ]
  },
  {
   "cell_type": "markdown",
   "metadata": {
    "id": "S7DhUL5JvB2w"
   },
   "source": [
    "Самой высокой дивидендной доходностью в полученных результатах у акций компании Triumph Bancorp Inc — 21,57%. Правда по ним никогда не платили дивиденды. Так что в системе похоже сидит баг. Так же по другим рынкам заметил, что в список могут включаться акции по которым перестали платить дивиденды давно. А так, как подписка Free ограничена по количеству запросов, то подстроить ее не удалось. Так же в том случае, если при проверке выясняется, что дивиденды платили недавно, то все равно необходимо быть осторожным при выборе компаний по данному показателю, так как он может являться результатом падения цены акций и как следствия ростом дивидендной доходности. Так же выплата высоких дивидендов может не сохраниться в будущем, тем более если у компании возникнут финансовые проблемы.\n",
    "\n",
    "Основной смысл в следующем - анализ дивидендной доходности не должен быть единственным критерием. Я для одного из своих портфелей так же смотрю: EPS, EBITDA, FCF, срок выплаты дивидендов, капитализация компании, чистая рентабельность (отношение выручки к прибыли) и коэффициент Net Debt/EBITDA.\n",
    "\n",
    "Но как говориться - все вышеприведенное не является инвестиционной рекомендацией и выбор остается за каждым самостоятельно."
   ]
  },
  {
   "cell_type": "code",
   "execution_count": null,
   "metadata": {
    "id": "VYwQwkD97Aag"
   },
   "outputs": [],
   "source": []
  }
 ],
 "metadata": {
  "colab": {
   "collapsed_sections": [],
   "name": "High_dividend_stocks.ipynb",
   "provenance": []
  },
  "kernelspec": {
   "display_name": "Python 3",
   "language": "python",
   "name": "python3"
  },
  "language_info": {
   "codemirror_mode": {
    "name": "ipython",
    "version": 3
   },
   "file_extension": ".py",
   "mimetype": "text/x-python",
   "name": "python",
   "nbconvert_exporter": "python",
   "pygments_lexer": "ipython3",
   "version": "3.8.10"
  }
 },
 "nbformat": 4,
 "nbformat_minor": 1
}
