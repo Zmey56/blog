{
  "nbformat": 4,
  "nbformat_minor": 0,
  "metadata": {
    "colab": {
      "name": "2019-07-20-project-identification-of-internet-users-week2.ipynb",
      "provenance": []
    },
    "kernelspec": {
      "display_name": "Python 3",
      "name": "python3"
    },
    "language_info": {
      "name": "python"
    }
  },
  "cells": [
    {
      "cell_type": "markdown",
      "metadata": {
        "id": "HXBBARtT2OKt"
      },
      "source": [
        "# Выпускной проект \"Идентификация интернет-пользователей\" Week 2\n",
        "\n",
        "> Graduation project \"Identification of Internet users\" Week 2\n",
        "\n",
        "- toc: true\n",
        "- branch: master\n",
        "- badges: true\n",
        "- comments: true\n",
        "- author: Zmey56\n",
        "- categories: [graduation project, machine learning, stepik, yandex]"
      ]
    },
    {
      "cell_type": "markdown",
      "metadata": {
        "id": "Ye-Z99wy2ZBr"
      },
      "source": [
        "**Неделя 2.** Подготовка и первичный анализ данных\n",
        "\n",
        "На второй неделе мы продолжим подготавливать данные для дальнейшего анализа и построения прогнозных моделей. Конкретно, раньше мы определили что сессия – это последовательность из 10 посещенных пользователем сайтов, теперь сделаем длину сессии параметром, и потом при обучении прогнозных моделей выберем лучшую длину сессии. Также мы познакомимся с предобработанными данными и статистически проверим первые гипотезы, связанные с нашими наблюдениями.\n",
        "\n",
        "План 2 недели:\n",
        "\n",
        "* Подготовка нескольких обучающих выборок для сравнения\n",
        "* Первичный анализ данных, проверка гипотез\n"
      ]
    },
    {
      "cell_type": "markdown",
      "metadata": {
        "id": "VLf1v7s024Z8"
      },
      "source": [
        "### Подготовка нескольких обучающих выборок для сравнения\n",
        "\n",
        "Пока мы брали последовательности из 10 сайтов, и это было наобум. Давайте сделаем число сайтов в сессии параметром, чтоб в дальнейшем сравнить модели классификации, обученные на разных выборках – с 5, 7, 10 и 15 сайтами в сессии. Более того, пока мы брали по 10 сайтов подряд, без пересечения. Теперь давайте применим идею скользящего окна – сессии будут перекрываться. \n",
        "\n",
        "**Пример**: для длины сессии 10 и ширины окна 7 файл из 30 записей породит не 3 сессии, как раньше (1-10, 11-20, 21-30), а 5 (1-10, 8-17, 15-24, 22-30, 29-30). При этом в предпоследней сессии будет один ноль, а в последней – 8 нолей.\n",
        "\n",
        "Создадим несколько выборок для разных сочетаний параметров длины сессии и ширины окна. Все они представлены в табличке ниже:\n",
        "\n",
        "<style type=\"text/css\">\n",
        ".tg  {border-collapse:collapse;border-spacing:0;}\n",
        ".tg td{font-family:Arial, sans-serif;font-size:14px;padding:10px 5px;border-style:solid;border-width:1px;overflow:hidden;word-break:normal;}\n",
        ".tg th{font-family:Arial, sans-serif;font-size:14px;font-weight:normal;padding:10px 5px;border-style:solid;border-width:1px;overflow:hidden;word-break:normal;}\n",
        "</style>\n",
        "<table class=\"tg\">\n",
        "  <tr>\n",
        "    <th class=\"tg-031e\">session_length -&gt;<br>window_size <br></th>\n",
        "    <th class=\"tg-031e\">5</th>\n",
        "    <th class=\"tg-031e\">7</th>\n",
        "    <th class=\"tg-031e\">10</th>\n",
        "    <th class=\"tg-031e\">15</th>\n",
        "  </tr>\n",
        "  <tr>\n",
        "    <td class=\"tg-031e\">5</td>\n",
        "    <td class=\"tg-031e\">v</td>\n",
        "    <td class=\"tg-031e\">v</td>\n",
        "    <td class=\"tg-031e\">v</td>\n",
        "    <td class=\"tg-031e\">v</td>\n",
        "  </tr>\n",
        "  <tr>\n",
        "    <td class=\"tg-031e\">7</td>\n",
        "    <td class=\"tg-031e\"></td>\n",
        "    <td class=\"tg-031e\">v</td>\n",
        "    <td class=\"tg-031e\">v</td>\n",
        "    <td class=\"tg-031e\">v</td>\n",
        "  </tr>\n",
        "  <tr>\n",
        "    <td class=\"tg-031e\">10</td>\n",
        "    <td class=\"tg-031e\"></td>\n",
        "    <td class=\"tg-031e\"></td>\n",
        "    <td class=\"tg-031e\"><font color='green'>v</font></td>\n",
        "    <td class=\"tg-031e\">v</td>\n",
        "  </tr>\n",
        "</table>\n",
        "\n",
        "Итого должно получиться 18 разреженных матриц – указанные в таблице 9 сочетаний параметров формирования сессий для выборок из 10 и 150 пользователей. При этом 2 выборки мы уже сделали в прошлой части, они соответствуют сочетанию параметров: session_length=10, window_size=10, которые помечены в таблице выше галочкой зеленого цвета (done)."
      ]
    },
    {
      "cell_type": "markdown",
      "metadata": {
        "id": "CfSfOwZcBS1k"
      },
      "source": [
        "Реализуйте функцию prepare_sparse_train_set_window.\n",
        "\n",
        "Аргументы:\n",
        "\n",
        "* path_to_csv_files – путь к каталогу с csv-файлами\n",
        "* site_freq_path – путь к pickle-файлу с частотным словарем, полученным в 1 части проекта\n",
        "* session_length – длина сессии (параметр)\n",
        "* window_size – ширина окна (параметр)\n",
        "\n",
        "Функция должна возвращать 2 объекта:\n",
        "\n",
        "* разреженную матрицу X_sparse (двухмерная Scipy.sparse.csr_matrix), в которой строки соответствуют сессиям из session_length сайтов, а max(site_id) столбцов – количеству посещений site_id в сессии.\n",
        "* вектор y (Numpy array) \"ответов\" в виде ID пользователей, которым принадлежат сессии из X_sparse\n",
        "\n",
        "Детали:\n",
        "\n",
        "* Модифицируйте созданную в 1 части функцию prepare_train_set\n",
        "* Некоторые сессии могут повторяться – оставьте как есть, не удаляйте дубликаты\n",
        "* Замеряйте время выполнения итераций цикла с помощью time из time, tqdm из tqdm или с помощью виджета log_progress (статья о нем на Хабрахабре)\n",
        "* 150 файлов из capstone_websites_data/150users/ должны обрабатываться за несколько секунд (в зависимости от входных параметров). Если дольше – не страшно, но знайте, что функцию можно ускорить.\n",
        "\n"
      ]
    },
    {
      "cell_type": "code",
      "metadata": {
        "id": "IXS_BRv81421",
        "colab": {
          "base_uri": "https://localhost:8080/"
        },
        "outputId": "b391a4a5-e853-41be-bf3d-1b1988b33944"
      },
      "source": [
        "import os\n",
        "import time\n",
        "import pickle\n",
        "import math\n",
        "import pylab \n",
        "import collections\n",
        "\n",
        "import pandas as pd\n",
        "import numpy as np\n",
        "import scipy.sparse as sps\n",
        "import scipy.stats as stats\n",
        "import matplotlib.pyplot as plt\n",
        "\n",
        "from glob import glob\n",
        "from tqdm.auto import tqdm\n",
        "from scipy.sparse import csr_matrix\n",
        "from datetime import timedelta\n",
        "from scipy import stats\n",
        "from statsmodels.stats.proportion import proportion_confint\n",
        "from collections import Counter\n",
        "\n",
        "import warnings\n",
        "warnings.filterwarnings('ignore')"
      ],
      "execution_count": null,
      "outputs": [
        {
          "output_type": "stream",
          "name": "stderr",
          "text": [
            "/usr/local/lib/python3.7/dist-packages/statsmodels/tools/_testing.py:19: FutureWarning: pandas.util.testing is deprecated. Use the functions in the public API at pandas.testing instead.\n",
            "  import pandas.util.testing as tm\n"
          ]
        }
      ]
    },
    {
      "cell_type": "markdown",
      "metadata": {
        "id": "LKYxqoIuR295"
      },
      "source": [
        "## Подготовка нескольких обучающих выборок для сравнения"
      ]
    },
    {
      "cell_type": "code",
      "metadata": {
        "id": "xp5qv7la3leq"
      },
      "source": [
        "PATH_TO_DATA = '/content/drive/MyDrive/DATA/Stepik/capstone_user_identification'"
      ],
      "execution_count": null,
      "outputs": []
    },
    {
      "cell_type": "code",
      "metadata": {
        "id": "49M5_NQBbcyU"
      },
      "source": [
        "def prepare_sparse_train_set_window(path_to_csv_files, site_freq_path, session_length=10, window_size=10):\n",
        "    \n",
        "    stock_files = sorted(glob(path_to_csv_files))\n",
        "    \n",
        "    #создать общий датафрейм со всеми пользователями и сайтами\n",
        "    df = pd.concat((pd.read_csv(file) for file in stock_files), ignore_index=True)\n",
        "\n",
        "    #прочесть файл с именем сайта, идентификационным номером и частотой\n",
        "    with open(site_freq_path, \"rb\") as fp:\n",
        "      df_site_dict = pickle.load(fp)\n",
        "    \n",
        "    #create number list site\n",
        "    list_all_site = []\n",
        "    user_list = []\n",
        "    #user = 1\n",
        "    for filename in stock_files:\n",
        "        tmp_df = pd.read_csv(filename)\n",
        "        #print(filename[-12:-4])\n",
        "        user = filename[-12:-4]\n",
        "        list_site = []\n",
        "        #прочитать отдельно по каждому юзеру сессии и преобразовать сайты в их идентификаторы\n",
        "        for site in tmp_df.site:\n",
        "            list_site.append(df_site_dict.get(site)[0])\n",
        "        count = 0\n",
        "        #перебор начала окна в зависимости от его ширины\n",
        "        for start in range(0, (len(list_site) + window_size), window_size):\n",
        "            ind_1 = start\n",
        "            ind_2 = start + session_length #параметр для условия\n",
        "            if ind_2 <= (len(list_site)-1):\n",
        "                sess = list_site[ind_1 : ind_2]\n",
        "                list_all_site.append(sess)\n",
        "                user_list.append(user)\n",
        "            elif(len(list_site[ind_1:]) !=0):\n",
        "                sess = list_site[ind_1:] + [0 for _ in range(session_length - len(list_site[ind_1:]))]\n",
        "                list_all_site.append(sess)\n",
        "                user_list.append(user)\n",
        "        #user = user + 1\n",
        "    \n",
        "    #теперь разряженная матрица\n",
        "    X_toy = pd.DataFrame(list_all_site).values\n",
        "    X_sparse_toy = csr_matrix((np.ones(X_toy.size, dtype=int), X_toy.reshape(-1), \\\n",
        "                           np.arange(X_toy.shape[0] + 1) * X_toy.shape[1]))[:, 1:]\n",
        "    \n",
        "    return(X_sparse_toy, np.array(user_list))"
      ],
      "execution_count": null,
      "outputs": []
    },
    {
      "cell_type": "markdown",
      "metadata": {
        "id": "Kx_wrY1UggVo"
      },
      "source": [
        "Применю полученную функцию с параметрами *session_length=5* и *window_size=3* к игрушечному примеру. Убедитесь, что все работает как надо."
      ]
    },
    {
      "cell_type": "code",
      "metadata": {
        "colab": {
          "base_uri": "https://localhost:8080/"
        },
        "id": "10EpuhG0MEjW",
        "outputId": "3289e992-02db-4101-8486-2d01f507f061"
      },
      "source": [
        "start = time.time()\n",
        "\n",
        "X_toy_s5_w3, y_s5_w3 = prepare_sparse_train_set_window(os.path.join(PATH_TO_DATA, '3users/*.csv'), os.path.join(PATH_TO_DATA, 'site_freq_3users.pkl'), session_length=5, window_size=3)\n",
        "\n",
        "end = time.time()\n",
        "\n",
        "print(timedelta(seconds=end-start))"
      ],
      "execution_count": null,
      "outputs": [
        {
          "output_type": "stream",
          "name": "stdout",
          "text": [
            "0:00:00.022730\n"
          ]
        }
      ]
    },
    {
      "cell_type": "code",
      "metadata": {
        "colab": {
          "base_uri": "https://localhost:8080/"
        },
        "id": "tlAP2VyXYTAm",
        "outputId": "b302bfd2-f49b-440e-fb08-8487e1abeaf1"
      },
      "source": [
        "X_toy_s5_w3.todense()"
      ],
      "execution_count": null,
      "outputs": [
        {
          "output_type": "execute_result",
          "data": {
            "text/plain": [
              "matrix([[0, 3, 1, 0, 0, 0, 1, 0, 0, 0, 0],\n",
              "        [1, 1, 0, 0, 1, 0, 1, 1, 0, 0, 0],\n",
              "        [0, 0, 1, 0, 1, 0, 0, 1, 1, 1, 0],\n",
              "        [3, 0, 1, 0, 0, 0, 0, 0, 0, 1, 0],\n",
              "        [2, 0, 0, 0, 0, 0, 0, 0, 0, 0, 0],\n",
              "        [0, 2, 1, 0, 0, 2, 0, 0, 0, 0, 0],\n",
              "        [0, 1, 0, 0, 0, 1, 0, 0, 0, 0, 0],\n",
              "        [2, 2, 0, 1, 0, 0, 0, 0, 0, 0, 0],\n",
              "        [3, 1, 0, 0, 1, 0, 0, 0, 0, 0, 0],\n",
              "        [1, 0, 0, 2, 1, 0, 0, 0, 0, 0, 1],\n",
              "        [1, 1, 0, 2, 0, 0, 0, 0, 0, 0, 0],\n",
              "        [0, 1, 0, 0, 0, 0, 0, 0, 0, 0, 0]])"
            ]
          },
          "metadata": {},
          "execution_count": 5
        }
      ]
    },
    {
      "cell_type": "code",
      "metadata": {
        "colab": {
          "base_uri": "https://localhost:8080/"
        },
        "id": "jVUo1zdsYXo8",
        "outputId": "5e44c843-96b7-4755-9554-4b40a24f01ff"
      },
      "source": [
        "y_s5_w3"
      ],
      "execution_count": null,
      "outputs": [
        {
          "output_type": "execute_result",
          "data": {
            "text/plain": [
              "array(['user0001', 'user0001', 'user0001', 'user0001', 'user0001',\n",
              "       'user0002', 'user0002', 'user0003', 'user0003', 'user0003',\n",
              "       'user0003', 'user0003'], dtype='<U8')"
            ]
          },
          "metadata": {},
          "execution_count": 6
        }
      ]
    },
    {
      "cell_type": "markdown",
      "metadata": {
        "id": "C5kNpxa6iA4_"
      },
      "source": [
        "**Все совпало с представленным примером**"
      ]
    },
    {
      "cell_type": "markdown",
      "metadata": {
        "id": "lCgjQCkDiutQ"
      },
      "source": [
        "---"
      ]
    },
    {
      "cell_type": "markdown",
      "metadata": {
        "id": "phLYeWDZiZ4l"
      },
      "source": [
        "Запущу созданную функцию 16 раз с помощью циклов по числу пользователей num_users (10 или 150), значениям параметра *session_length* (15, 10, 7 или 5) и значениям параметра *window_size* (10, 7 или 5). Сериализуйте все 16 разреженных матриц (обучающие выборки) и векторов (метки целевого класса – ID пользователя) в файлы `X_sparse_{num_users}users_s{session_length}_w{window_size}.pkl` и `y_{num_users}users_s{session_length}_w{window_size}.pkl`.\n",
        "\n",
        "Чтоб убедиться, что мы все далее будем работать с идентичными объектами, запишите в список *data_lengths* число строк во всех полученных рареженных матрицах (16 значений). Если какие-то будут совпадать, это нормально (можно сообразить, почему).\n",
        "\n",
        "На моем ноутбуке этот участок кода отработал за 26 секунд, хотя понятно, что все зависит от эффективности реализации функции *prepare_sparse_train_set_window* и мощности используемого железа. И честно говоря, моя первая реализация была намного менее эффективной (34 минуты), так что тут у Вас есть возможность оптимизировать свой код."
      ]
    },
    {
      "cell_type": "code",
      "metadata": {
        "colab": {
          "base_uri": "https://localhost:8080/"
        },
        "id": "9V8gvVX2ibMZ",
        "outputId": "ee143a8d-1ad9-4e40-ae16-567520daf8fe"
      },
      "source": [
        "#%%time\n",
        "import itertools\n",
        "\n",
        "start = time.time()\n",
        "\n",
        "data_lengths = []\n",
        "user_tmp=[]\n",
        "\n",
        "for num_users in [10, 150]:\n",
        "    for window_size, session_length in itertools.product([10, 7, 5], [15, 10, 7, 5]):\n",
        "        if (window_size <= session_length) and ((window_size, session_length) != (10, 10)):\n",
        "            if num_users == 10:\n",
        "                path = os.path.join(PATH_TO_DATA, '10users/*.csv')\n",
        "                unpickled_df = os.path.join(PATH_TO_DATA, 'site_freq_10users.pkl')\n",
        "            else:\n",
        "                path = os.path.join(PATH_TO_DATA, '150users/*.csv')\n",
        "                unpickled_df = os.path.join(PATH_TO_DATA, 'site_freq_150users.pkl')   \n",
        "            print(\"NUM USER = \", num_users, \" Window Size = \", window_size, \" Session Length = \", session_length)\n",
        "            end = time.time()\n",
        "            print(timedelta(seconds=end-start))\n",
        "            #print(unpickled_df)\n",
        "            X_sparse, y = prepare_sparse_train_set_window(path, unpickled_df, session_length, window_size)\n",
        "            data_lengths.append(X_sparse.shape[0])\n",
        "            user_tmp.append(len(y))\n",
        "            #print(len(y))\n",
        "            \n",
        "            file_name = os.path.join(PATH_TO_DATA, 'sparse/X_sparse_%dusers_s%d_w%d.pkl' % (num_users, session_length, window_size))\n",
        "            with open(file_name, 'wb') as fp:\n",
        "                pickle.dump(X_sparse, fp)\n",
        "            file_name = os.path.join(PATH_TO_DATA,'sparse/y_%dusers_s%d_w%d.pkl' % (num_users, session_length, window_size))\n",
        "            with open(file_name,'wb') as fp:\n",
        "                pickle.dump(y, fp)\n",
        "                \n",
        "            data_lengths.append(X_sparse.shape[0])\n",
        "            \n",
        "            #print(data_lengths)\n",
        "\n",
        "end = time.time()\n",
        "\n",
        "print(timedelta(seconds=end-start))"
      ],
      "execution_count": null,
      "outputs": [
        {
          "output_type": "stream",
          "name": "stdout",
          "text": [
            "NUM USER =  10  Window Size =  10  Session Length =  15\n",
            "0:00:00.003979\n",
            "NUM USER =  10  Window Size =  7  Session Length =  15\n",
            "0:00:00.457232\n",
            "NUM USER =  10  Window Size =  7  Session Length =  10\n",
            "0:00:01.009698\n",
            "NUM USER =  10  Window Size =  7  Session Length =  7\n",
            "0:00:01.452218\n",
            "NUM USER =  10  Window Size =  5  Session Length =  15\n",
            "0:00:01.917664\n",
            "NUM USER =  10  Window Size =  5  Session Length =  10\n",
            "0:00:02.484663\n",
            "NUM USER =  10  Window Size =  5  Session Length =  7\n",
            "0:00:02.953907\n",
            "NUM USER =  10  Window Size =  5  Session Length =  5\n",
            "0:00:03.404516\n",
            "NUM USER =  150  Window Size =  10  Session Length =  15\n",
            "0:00:03.863693\n",
            "NUM USER =  150  Window Size =  7  Session Length =  15\n",
            "0:00:08.548853\n",
            "NUM USER =  150  Window Size =  7  Session Length =  10\n",
            "0:00:13.495581\n",
            "NUM USER =  150  Window Size =  7  Session Length =  7\n",
            "0:00:18.213572\n",
            "NUM USER =  150  Window Size =  5  Session Length =  15\n",
            "0:00:22.648985\n",
            "NUM USER =  150  Window Size =  5  Session Length =  10\n",
            "0:00:28.012223\n",
            "NUM USER =  150  Window Size =  5  Session Length =  7\n",
            "0:00:33.058571\n",
            "NUM USER =  150  Window Size =  5  Session Length =  5\n",
            "0:00:37.866631\n",
            "0:00:42.397943\n"
          ]
        }
      ]
    },
    {
      "cell_type": "markdown",
      "metadata": {
        "id": "wG7yfhpxLxHO"
      },
      "source": [
        "Важно отметить, что после того, как я отключил tqdm, то время обработки с 1,5 часа упало до 51 секунды."
      ]
    },
    {
      "cell_type": "markdown",
      "metadata": {
        "id": "QXFE0XVYQCL5"
      },
      "source": [
        "Запишите в файл *answer2_1.txt* все числа из списка *data_lengths* через пробел. Полученный файл будет ответом на 1 вопрос теста."
      ]
    },
    {
      "cell_type": "code",
      "metadata": {
        "id": "m_PF1qtuj0r2"
      },
      "source": [
        "def write_answer_to_file(answer, file_address):\n",
        "    with open(file_address, 'w') as out_f:\n",
        "        out_f.write(str(answer))"
      ],
      "execution_count": null,
      "outputs": []
    },
    {
      "cell_type": "code",
      "metadata": {
        "id": "5XtYBs7JPqse"
      },
      "source": [
        "write_answer_to_file(' '.join([str(elem) for elem in data_lengths]), 'answer2_1.txt')"
      ],
      "execution_count": null,
      "outputs": []
    },
    {
      "cell_type": "markdown",
      "metadata": {
        "id": "qQ-nrrO_RdfV"
      },
      "source": [
        "*Важно отметить, что на Stepik не принимался ответ через пробел. И пробелы пришлось убрать.*"
      ]
    },
    {
      "cell_type": "markdown",
      "metadata": {
        "id": "0WX8UxkaRuH9"
      },
      "source": [
        "## Первичный анализ данных, проверка гипотез"
      ]
    },
    {
      "cell_type": "markdown",
      "metadata": {
        "id": "XOL6SPSYXp_N"
      },
      "source": [
        "Считаю в DataFrame подготовленный на 1 неделе файл train_data_10users.csv. Далее буду работать с ним."
      ]
    },
    {
      "cell_type": "code",
      "metadata": {
        "id": "J-IwW8ZqRaJm"
      },
      "source": [
        "train_df = pd.read_csv(os.path.join(PATH_TO_DATA, 'train_data_10users.csv'), \n",
        "                       index_col='session_id')"
      ],
      "execution_count": null,
      "outputs": []
    },
    {
      "cell_type": "code",
      "metadata": {
        "id": "tYlnS1L4SWko",
        "colab": {
          "base_uri": "https://localhost:8080/",
          "height": 234
        },
        "outputId": "8c76703b-5a11-49f8-dc77-b1e1647616c1"
      },
      "source": [
        "train_df.head()"
      ],
      "execution_count": null,
      "outputs": [
        {
          "output_type": "execute_result",
          "data": {
            "text/html": [
              "<div>\n",
              "<style scoped>\n",
              "    .dataframe tbody tr th:only-of-type {\n",
              "        vertical-align: middle;\n",
              "    }\n",
              "\n",
              "    .dataframe tbody tr th {\n",
              "        vertical-align: top;\n",
              "    }\n",
              "\n",
              "    .dataframe thead th {\n",
              "        text-align: right;\n",
              "    }\n",
              "</style>\n",
              "<table border=\"1\" class=\"dataframe\">\n",
              "  <thead>\n",
              "    <tr style=\"text-align: right;\">\n",
              "      <th></th>\n",
              "      <th>site1</th>\n",
              "      <th>site2</th>\n",
              "      <th>site3</th>\n",
              "      <th>site4</th>\n",
              "      <th>site5</th>\n",
              "      <th>site6</th>\n",
              "      <th>site7</th>\n",
              "      <th>site8</th>\n",
              "      <th>site9</th>\n",
              "      <th>site10</th>\n",
              "      <th>user_id</th>\n",
              "    </tr>\n",
              "    <tr>\n",
              "      <th>session_id</th>\n",
              "      <th></th>\n",
              "      <th></th>\n",
              "      <th></th>\n",
              "      <th></th>\n",
              "      <th></th>\n",
              "      <th></th>\n",
              "      <th></th>\n",
              "      <th></th>\n",
              "      <th></th>\n",
              "      <th></th>\n",
              "      <th></th>\n",
              "    </tr>\n",
              "  </thead>\n",
              "  <tbody>\n",
              "    <tr>\n",
              "      <th>0</th>\n",
              "      <td>192</td>\n",
              "      <td>574</td>\n",
              "      <td>133</td>\n",
              "      <td>3</td>\n",
              "      <td>133</td>\n",
              "      <td>133</td>\n",
              "      <td>3</td>\n",
              "      <td>133</td>\n",
              "      <td>203</td>\n",
              "      <td>133</td>\n",
              "      <td>user0031</td>\n",
              "    </tr>\n",
              "    <tr>\n",
              "      <th>1</th>\n",
              "      <td>415</td>\n",
              "      <td>193</td>\n",
              "      <td>674</td>\n",
              "      <td>254</td>\n",
              "      <td>133</td>\n",
              "      <td>31</td>\n",
              "      <td>393</td>\n",
              "      <td>3305</td>\n",
              "      <td>217</td>\n",
              "      <td>55</td>\n",
              "      <td>user0031</td>\n",
              "    </tr>\n",
              "    <tr>\n",
              "      <th>2</th>\n",
              "      <td>55</td>\n",
              "      <td>3</td>\n",
              "      <td>55</td>\n",
              "      <td>55</td>\n",
              "      <td>5</td>\n",
              "      <td>293</td>\n",
              "      <td>415</td>\n",
              "      <td>333</td>\n",
              "      <td>897</td>\n",
              "      <td>55</td>\n",
              "      <td>user0031</td>\n",
              "    </tr>\n",
              "    <tr>\n",
              "      <th>3</th>\n",
              "      <td>473</td>\n",
              "      <td>3306</td>\n",
              "      <td>473</td>\n",
              "      <td>55</td>\n",
              "      <td>55</td>\n",
              "      <td>55</td>\n",
              "      <td>55</td>\n",
              "      <td>937</td>\n",
              "      <td>199</td>\n",
              "      <td>123</td>\n",
              "      <td>user0031</td>\n",
              "    </tr>\n",
              "    <tr>\n",
              "      <th>4</th>\n",
              "      <td>342</td>\n",
              "      <td>55</td>\n",
              "      <td>5</td>\n",
              "      <td>3307</td>\n",
              "      <td>258</td>\n",
              "      <td>211</td>\n",
              "      <td>3308</td>\n",
              "      <td>2086</td>\n",
              "      <td>675</td>\n",
              "      <td>2086</td>\n",
              "      <td>user0031</td>\n",
              "    </tr>\n",
              "  </tbody>\n",
              "</table>\n",
              "</div>"
            ],
            "text/plain": [
              "            site1  site2  site3  site4  ...  site8  site9  site10   user_id\n",
              "session_id                              ...                                \n",
              "0             192    574    133      3  ...    133    203     133  user0031\n",
              "1             415    193    674    254  ...   3305    217      55  user0031\n",
              "2              55      3     55     55  ...    333    897      55  user0031\n",
              "3             473   3306    473     55  ...    937    199     123  user0031\n",
              "4             342     55      5   3307  ...   2086    675    2086  user0031\n",
              "\n",
              "[5 rows x 11 columns]"
            ]
          },
          "metadata": {},
          "execution_count": 11
        }
      ]
    },
    {
      "cell_type": "code",
      "metadata": {
        "colab": {
          "base_uri": "https://localhost:8080/"
        },
        "id": "d1eiTNhvYYBm",
        "outputId": "1464ee5a-dd9a-45a4-f0d4-c3f7916ae36b"
      },
      "source": [
        "train_df.info()"
      ],
      "execution_count": null,
      "outputs": [
        {
          "output_type": "stream",
          "name": "stdout",
          "text": [
            "<class 'pandas.core.frame.DataFrame'>\n",
            "Int64Index: 14061 entries, 0 to 14060\n",
            "Data columns (total 11 columns):\n",
            " #   Column   Non-Null Count  Dtype \n",
            "---  ------   --------------  ----- \n",
            " 0   site1    14061 non-null  int64 \n",
            " 1   site2    14061 non-null  int64 \n",
            " 2   site3    14061 non-null  int64 \n",
            " 3   site4    14061 non-null  int64 \n",
            " 4   site5    14061 non-null  int64 \n",
            " 5   site6    14061 non-null  int64 \n",
            " 6   site7    14061 non-null  int64 \n",
            " 7   site8    14061 non-null  int64 \n",
            " 8   site9    14061 non-null  int64 \n",
            " 9   site10   14061 non-null  int64 \n",
            " 10  user_id  14061 non-null  object\n",
            "dtypes: int64(10), object(1)\n",
            "memory usage: 1.3+ MB\n"
          ]
        }
      ]
    },
    {
      "cell_type": "markdown",
      "metadata": {
        "id": "SeMkpL1VYhhZ"
      },
      "source": [
        "Распределение целевого класса:"
      ]
    },
    {
      "cell_type": "code",
      "metadata": {
        "colab": {
          "base_uri": "https://localhost:8080/"
        },
        "id": "6OvgUi6XYamY",
        "outputId": "1b0afa42-d26c-41e1-abab-13ef0e4ecf8a"
      },
      "source": [
        "train_df['user_id'].value_counts()"
      ],
      "execution_count": null,
      "outputs": [
        {
          "output_type": "execute_result",
          "data": {
            "text/plain": [
              "user0128    2796\n",
              "user0039    2204\n",
              "user0207    1868\n",
              "user0127    1712\n",
              "user0237    1643\n",
              "user0033    1022\n",
              "user0050     802\n",
              "user0031     760\n",
              "user0100     720\n",
              "user0241     534\n",
              "Name: user_id, dtype: int64"
            ]
          },
          "metadata": {},
          "execution_count": 13
        }
      ]
    },
    {
      "cell_type": "markdown",
      "metadata": {
        "id": "PJdnO8scY-eL"
      },
      "source": [
        "Посчитаем распределение числа уникальных сайтов в каждой сессии из 10 посещенных подряд сайтов."
      ]
    },
    {
      "cell_type": "code",
      "metadata": {
        "id": "x6TDHZHgYk63"
      },
      "source": [
        "num_unique_sites = [np.unique(train_df.values[i, :-1]).shape[0] \n",
        "                    for i in range(train_df.shape[0])]"
      ],
      "execution_count": null,
      "outputs": []
    },
    {
      "cell_type": "code",
      "metadata": {
        "colab": {
          "base_uri": "https://localhost:8080/"
        },
        "id": "LEkKB__AeNHH",
        "outputId": "9ce97b31-b463-4f6a-ba85-b254be226f20"
      },
      "source": [
        "pd.Series(num_unique_sites).value_counts()"
      ],
      "execution_count": null,
      "outputs": [
        {
          "output_type": "execute_result",
          "data": {
            "text/plain": [
              "7     2308\n",
              "6     2197\n",
              "8     2046\n",
              "5     1735\n",
              "9     1394\n",
              "2     1246\n",
              "4     1163\n",
              "3      894\n",
              "10     651\n",
              "1      427\n",
              "dtype: int64"
            ]
          },
          "metadata": {},
          "execution_count": 15
        }
      ]
    },
    {
      "cell_type": "code",
      "metadata": {
        "colab": {
          "base_uri": "https://localhost:8080/",
          "height": 265
        },
        "id": "IYeolJoGebsz",
        "outputId": "89b39d47-6560-48fc-f45e-dd316f05272d"
      },
      "source": [
        "pd.Series(num_unique_sites).hist();"
      ],
      "execution_count": null,
      "outputs": [
        {
          "output_type": "display_data",
          "data": {
            "image/png": "[encoded data removed]",
            "text/plain": [
              "<Figure size 432x288 with 1 Axes>"
            ]
          },
          "metadata": {
            "needs_background": "light"
          }
        }
      ]
    },
    {
      "cell_type": "markdown",
      "metadata": {
        "id": "4HughRGTewt0"
      },
      "source": [
        "Проверю с помощью QQ-плота и критерия Шапиро-Уилка, что эта величина распределена нормально и сделаю вывод. Ответом на второй вопрос в тесте будет файл со словом \"YES\" или \"NO\" в зависимости от того, распределено ли нормально число уникальных сайтов в сессии."
      ]
    },
    {
      "cell_type": "code",
      "metadata": {
        "colab": {
          "base_uri": "https://localhost:8080/",
          "height": 295
        },
        "id": "GK-6kP2YewFM",
        "outputId": "b9deb67d-9acf-4dfb-d5e2-08fe22bf82f3"
      },
      "source": [
        "stats.probplot(num_unique_sites, dist=\"norm\", plot=pylab)\n",
        "pylab.show()"
      ],
      "execution_count": null,
      "outputs": [
        {
          "output_type": "display_data",
          "data": {
            "image/png": "[encoded data removed]",
            "text/plain": [
              "<Figure size 432x288 with 1 Axes>"
            ]
          },
          "metadata": {
            "needs_background": "light"
          }
        }
      ]
    },
    {
      "cell_type": "code",
      "metadata": {
        "colab": {
          "base_uri": "https://localhost:8080/"
        },
        "id": "KQu847aWeepJ",
        "outputId": "fb4fee45-88e0-414d-ef44-828bf1024cce"
      },
      "source": [
        "stat, p = stats.shapiro(num_unique_sites)\n",
        "print('Statistics=%.3f, p=%.3f' % (stat, p))\n",
        "# interpret\n",
        "alpha = 0.05\n",
        "if p > alpha:\n",
        "    print('Sample looks Gaussian (fail to reject H0)')\n",
        "else:\n",
        "    print('Sample does not look Gaussian (reject H0)')"
      ],
      "execution_count": null,
      "outputs": [
        {
          "output_type": "stream",
          "name": "stdout",
          "text": [
            "Statistics=0.955, p=0.000\n",
            "Sample does not look Gaussian (reject H0)\n"
          ]
        }
      ]
    },
    {
      "cell_type": "markdown",
      "metadata": {
        "id": "1ZbeUS5lhowh"
      },
      "source": [
        "**Распределение не является нормальным**"
      ]
    },
    {
      "cell_type": "markdown",
      "metadata": {
        "id": "SF-MT7-Rh36N"
      },
      "source": [
        "Проверю гипотезу о том, что пользователь хотя бы раз зайдет на сайт, который он уже ранее посетил в сессии из 10 сайтов. Проверю с помощью биномиального критерия для доли, что доля случаев, когда пользователь повторно посетил какой-то сайт (то есть число уникальных сайтов в сессии < 10) велика: больше 95% (необходимо обратите внимание, что альтернатива тому, что доля равна 95% – одностороняя). Ответом на 3 вопрос в тесте будет полученное p-value."
      ]
    },
    {
      "cell_type": "code",
      "metadata": {
        "id": "j368-mhzh3Sj"
      },
      "source": [
        "has_two_similar = (np.array(num_unique_sites) < 10).astype('int')"
      ],
      "execution_count": null,
      "outputs": []
    },
    {
      "cell_type": "code",
      "metadata": {
        "colab": {
          "base_uri": "https://localhost:8080/"
        },
        "id": "yHevE6YrfYQp",
        "outputId": "57213d27-4a56-4d0d-80d4-9970eecd6187"
      },
      "source": [
        "len(num_unique_sites)"
      ],
      "execution_count": null,
      "outputs": [
        {
          "output_type": "execute_result",
          "data": {
            "text/plain": [
              "14061"
            ]
          },
          "metadata": {},
          "execution_count": 20
        }
      ]
    },
    {
      "cell_type": "code",
      "metadata": {
        "colab": {
          "base_uri": "https://localhost:8080/"
        },
        "id": "dqzCAcUbgMwg",
        "outputId": "871c6a03-0701-4b30-f274-01d51a036488"
      },
      "source": [
        "stats.binom_test(has_two_similar.sum(), has_two_similar.shape[0], 0.95, alternative='greater')"
      ],
      "execution_count": null,
      "outputs": [
        {
          "output_type": "execute_result",
          "data": {
            "text/plain": [
              "0.02207653769072678"
            ]
          },
          "metadata": {},
          "execution_count": 21
        }
      ]
    },
    {
      "cell_type": "markdown",
      "metadata": {
        "id": "-hvytkAWlSb0"
      },
      "source": [
        "**p-value значение 0,022**"
      ]
    },
    {
      "cell_type": "markdown",
      "metadata": {
        "id": "1bZqGBzPlh_m"
      },
      "source": [
        "Построю для этой доли 95% доверительный интервал Уилсона. Округлю границу интервала до 3 знаков после запятой. "
      ]
    },
    {
      "cell_type": "code",
      "metadata": {
        "colab": {
          "base_uri": "https://localhost:8080/"
        },
        "id": "OA5zd79niL8G",
        "outputId": "54f044ca-a2a0-497e-f262-d4a1dc709449"
      },
      "source": [
        "wilson_interval = proportion_confint(has_two_similar.sum(), has_two_similar.shape[0], method='wilson')\n",
        "wilson_interval"
      ],
      "execution_count": null,
      "outputs": [
        {
          "output_type": "execute_result",
          "data": {
            "text/plain": [
              "(0.9501028841411286, 0.9570527377232229)"
            ]
          },
          "metadata": {},
          "execution_count": 22
        }
      ]
    },
    {
      "cell_type": "markdown",
      "metadata": {
        "id": "q5UY1ASQmGA5"
      },
      "source": [
        "**Интервалы 0,950 и 0,957**"
      ]
    },
    {
      "cell_type": "markdown",
      "metadata": {
        "id": "m-iKc3IemVyb"
      },
      "source": [
        "Каков 95%-доверительный интервал для средней частоты появления сайта в выборке? Необходимо построить 95% доверительный интервал для средней частоты появления сайта в выборке (во всей, уже не только для тех сайтов, что были посещены как минимум 1000 раз) на основе bootstrap. Используйте столько же bootstrap-подвыборок, сколько сайтов оказалось в исходной выборке по 10 пользователям. Буду брать подвыборки из посчитанного списка частот посещений сайтов – не надо заново считать эти частоты. Необходимо учесть, что частоту появления нуля (сайт с индексом 0 появлялся там, где сессии были короче 10 сайтов) включать не надо. Округлите границы интервала до 3 знаков после запятой."
      ]
    },
    {
      "cell_type": "markdown",
      "metadata": {
        "id": "lNI6HPObtTUo"
      },
      "source": [
        "> Bagging (от Bootstrap aggregation) — это один из первых и самых простых видов ансамблей. Он был придуман Ле́о Бре́йманом в 1994 году. Бэггинг основан на статистическом методе бутстрэпа, который позволяет оценивать многие статистики сложных распределений.\n",
        "\n",
        "\n",
        "> Метод бутстрэпа заключается в следующем. Пусть имеется выборка $\\large X$ размера $\\large N$. Равномерно возьмем из выборки $\\large N$ объектов с возвращением. Это означает, что мы будем $\\large N$ раз выбирать произвольный объект выборки (считаем, что каждый объект «достается» с одинаковой вероятностью $\\large \\frac{1}{N}$), причем каждый раз мы выбираем из всех исходных $\\large N$ объектов. Можно представить себе мешок, из которого достают шарики: выбранный на каком-то шаге шарик возвращается обратно в мешок, и следующий выбор опять делается равновероятно из того же числа шариков. Отметим, что из-за возвращения среди них окажутся повторы. Обозначим новую выборку через $\\large X_1$. Повторяя процедуру $\\large M$ раз, сгенерируем $\\large M$ подвыборок $\\large X_1, \\dots, X_M$. Теперь мы имеем достаточно большое число выборок и можем оценивать различные статистики исходного распределения.[link](https://habr.com/ru/company/ods/blog/324402/#1-begging)"
      ]
    },
    {
      "cell_type": "code",
      "metadata": {
        "id": "WLOuW9XgmVO1"
      },
      "source": [
        "def get_bootstrap_samples(data, n_samples, random_seed=56):\n",
        "    # функция для генерации подвыборок с помощью бутстрэпа\n",
        "    np.random.seed(random_seed)\n",
        "    indices = np.random.randint(0, len(data), (n_samples, len(data)))\n",
        "    samples = data[indices]\n",
        "    return samples"
      ],
      "execution_count": null,
      "outputs": []
    },
    {
      "cell_type": "code",
      "metadata": {
        "id": "ffz_et9_l7zg"
      },
      "source": [
        "def stat_intervals(stat, alpha):\n",
        "    # функция для интервальной оценки\n",
        "    boundaries = np.percentile(stat, \n",
        "                 [100 * alpha / 2., 100 * (1 - alpha / 2.)])\n",
        "    return boundaries"
      ],
      "execution_count": null,
      "outputs": []
    },
    {
      "cell_type": "code",
      "metadata": {
        "id": "BC83pNFLmtUn"
      },
      "source": [
        "stock_files = sorted(glob(os.path.join(PATH_TO_DATA, '10users/*.csv')))\n",
        "df = pd.concat((pd.read_csv(file) for file in stock_files), ignore_index=True)"
      ],
      "execution_count": null,
      "outputs": []
    },
    {
      "cell_type": "code",
      "metadata": {
        "colab": {
          "base_uri": "https://localhost:8080/",
          "height": 203
        },
        "id": "HP4mfJlGnBG_",
        "outputId": "637582c7-b419-4554-db9e-0c1addcbdd8c"
      },
      "source": [
        "df.head()"
      ],
      "execution_count": null,
      "outputs": [
        {
          "output_type": "execute_result",
          "data": {
            "text/html": [
              "<div>\n",
              "<style scoped>\n",
              "    .dataframe tbody tr th:only-of-type {\n",
              "        vertical-align: middle;\n",
              "    }\n",
              "\n",
              "    .dataframe tbody tr th {\n",
              "        vertical-align: top;\n",
              "    }\n",
              "\n",
              "    .dataframe thead th {\n",
              "        text-align: right;\n",
              "    }\n",
              "</style>\n",
              "<table border=\"1\" class=\"dataframe\">\n",
              "  <thead>\n",
              "    <tr style=\"text-align: right;\">\n",
              "      <th></th>\n",
              "      <th>timestamp</th>\n",
              "      <th>site</th>\n",
              "    </tr>\n",
              "  </thead>\n",
              "  <tbody>\n",
              "    <tr>\n",
              "      <th>0</th>\n",
              "      <td>2013-11-15 08:12:07</td>\n",
              "      <td>fpdownload2.macromedia.com</td>\n",
              "    </tr>\n",
              "    <tr>\n",
              "      <th>1</th>\n",
              "      <td>2013-11-15 08:12:17</td>\n",
              "      <td>laposte.net</td>\n",
              "    </tr>\n",
              "    <tr>\n",
              "      <th>2</th>\n",
              "      <td>2013-11-15 08:12:17</td>\n",
              "      <td>www.laposte.net</td>\n",
              "    </tr>\n",
              "    <tr>\n",
              "      <th>3</th>\n",
              "      <td>2013-11-15 08:12:17</td>\n",
              "      <td>www.google.com</td>\n",
              "    </tr>\n",
              "    <tr>\n",
              "      <th>4</th>\n",
              "      <td>2013-11-15 08:12:18</td>\n",
              "      <td>www.laposte.net</td>\n",
              "    </tr>\n",
              "  </tbody>\n",
              "</table>\n",
              "</div>"
            ],
            "text/plain": [
              "             timestamp                        site\n",
              "0  2013-11-15 08:12:07  fpdownload2.macromedia.com\n",
              "1  2013-11-15 08:12:17                 laposte.net\n",
              "2  2013-11-15 08:12:17             www.laposte.net\n",
              "3  2013-11-15 08:12:17              www.google.com\n",
              "4  2013-11-15 08:12:18             www.laposte.net"
            ]
          },
          "metadata": {},
          "execution_count": 26
        }
      ]
    },
    {
      "cell_type": "code",
      "metadata": {
        "id": "5mGsW-0SnO34"
      },
      "source": [
        "sorted_site = dict(collections.OrderedDict(sorted(Counter(df.site).items(), key=lambda kv: kv[1], reverse = True)))"
      ],
      "execution_count": null,
      "outputs": []
    },
    {
      "cell_type": "code",
      "metadata": {
        "colab": {
          "base_uri": "https://localhost:8080/",
          "height": 265
        },
        "id": "piUSjnBBnf9l",
        "outputId": "b643b7fb-ac30-43f5-fbb1-e5add4d9f630"
      },
      "source": [
        "sorted_site_1000 = {}\n",
        "\n",
        "for key, value in sorted_site.items():\n",
        "    if value >= 1000:\n",
        "        sorted_site_1000[key] = value\n",
        "    \n",
        "plt.hist(list(sorted_site_1000.values()))\n",
        "plt.show()"
      ],
      "execution_count": null,
      "outputs": [
        {
          "output_type": "display_data",
          "data": {
            "image/png": "[encoded data removed]",
            "text/plain": [
              "<Figure size 432x288 with 1 Axes>"
            ]
          },
          "metadata": {
            "needs_background": "light"
          }
        }
      ]
    },
    {
      "cell_type": "code",
      "metadata": {
        "id": "M-JCNtzOn_jA"
      },
      "source": [
        "site_freq = list(sorted_site.values())"
      ],
      "execution_count": null,
      "outputs": []
    },
    {
      "cell_type": "code",
      "metadata": {
        "id": "DyXPhl-1oG8q"
      },
      "source": [
        "site_mean_scores = list(map(np.mean, get_bootstrap_samples(np.array(site_freq), len(site_freq))))"
      ],
      "execution_count": null,
      "outputs": []
    },
    {
      "cell_type": "code",
      "metadata": {
        "colab": {
          "base_uri": "https://localhost:8080/"
        },
        "id": "l89RG6nBpE7w",
        "outputId": "bfe6ed98-56ce-484a-e773-bb3b04af400e"
      },
      "source": [
        "print (\"95% confidence interval for the ILEC median repair time:\",  stat_intervals(site_mean_scores, 0.05))"
      ],
      "execution_count": null,
      "outputs": [
        {
          "output_type": "stream",
          "name": "stdout",
          "text": [
            "95% confidence interval for the ILEC median repair time: [22.53311622 36.08414411]\n"
          ]
        }
      ]
    },
    {
      "cell_type": "markdown",
      "metadata": {
        "id": "_TqKb_3utsiE"
      },
      "source": [
        "**В итоге мы получили, что с 95% вероятностью средняя частота сайтов лежит в промежутке между 22,515 и 35,763**"
      ]
    }
  ]
}