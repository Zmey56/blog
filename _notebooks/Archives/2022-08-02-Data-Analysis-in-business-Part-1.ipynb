{
 "cells": [
  {
   "cell_type": "markdown",
   "metadata": {
    "id": "3uXK5_pITZTL"
   },
   "source": [
    "# A Data Analysis in business Part 1\n",
    "\n",
    "> A Data Analysis in business Part 1\n",
    "\n",
    "- toc: true\n",
    "- branch: master\n",
    "- badges: true\n",
    "- comments: true\n",
    "- author: Zmey56\n",
    "- categories: [data analysis, business]"
   ]
  },
  {
   "cell_type": "markdown",
   "metadata": {
    "id": "iqzlDz4I9awK"
   },
   "source": [
    "I worked for a long time in large enterprises, in medicine and science in the roles of Data Analyst and Data Science. In February I had to leave the country I was living in, and I started looking for jobs as a Data Analyst or Data Science in various companies. But I faced the problem that even after completing test tasks, I was rejected with the wording that I had no commercial experience. After that I decided to take an internship - courses to understand the difference between the statistics I used and the ones used by other companies. It turned out that there were no differences. But I decided to share with you my projects, which I performed on these courses-internship. Maybe they will help someone not to get confused and understand where to start in the new place of work.\n",
    "\n",
    "Of the tools we used, we used the following:\n",
    "- ClickHouse -  a column database for storing user events;\n",
    "- Redash - a tool for writing SQL queries and basic visualization;\n",
    "- Superset - a complete BI system;\n",
    "- Jupyter Lab - an environment for writing code in Python;\n",
    "- GitLab - a repository for storing code;\n",
    "- Airflow - a tool for automating work tasks and launching them according to the schedule.\n",
    "\n",
    "We were given a database with two tables: feed_actions and message_actions. As it is clear from their names - the first one contained information about users (columns - user_id, post_id, action, time, gender, age, country, city, os, source, exp_group ), and the second - about user interaction (columns - user_id, reciever_id, time, source, exp_group, gender, age, country, city, os).\n",
    "\n",
    "Our first step is to create dashboards, from which we can already visually do the first analysis of our data and present it to our colleagues. As I showed above, we did it in Superset, but you can easily adapt it to other BI systems. \n",
    "\n",
    "The first dashboard will be called Newsfeed - basic."
   ]
  },
  {
   "cell_type": "markdown",
   "metadata": {},
   "source": [
    "[](images/20220802_BA_1)"
   ]
  },
  {
   "cell_type": "markdown",
   "metadata": {},
   "source": [
    "![](/images/20202412_gfa_3.png)"
   ]
  },
  {
   "cell_type": "markdown",
   "metadata": {},
   "source": [
    "![](/images/pic_first.png)"
   ]
  },
  {
   "cell_type": "code",
   "execution_count": null,
   "metadata": {},
   "outputs": [],
   "source": []
  }
 ],
 "metadata": {
  "colab": {
   "collapsed_sections": [],
   "name": "2019-07-01-project-identification-of-internet-users-task .ipynb",
   "provenance": []
  },
  "kernelspec": {
   "display_name": "Python 3 (ipykernel)",
   "language": "python",
   "name": "python3"
  },
  "language_info": {
   "codemirror_mode": {
    "name": "ipython",
    "version": 3
   },
   "file_extension": ".py",
   "mimetype": "text/x-python",
   "name": "python",
   "nbconvert_exporter": "python",
   "pygments_lexer": "ipython3",
   "version": "3.9.12"
  }
 },
 "nbformat": 4,
 "nbformat_minor": 1
}
