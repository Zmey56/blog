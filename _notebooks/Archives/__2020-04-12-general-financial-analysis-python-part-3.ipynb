{
 "cells": [
  {
   "cell_type": "markdown",
   "metadata": {
    "id": "fbtMNMXAoGxY"
   },
   "source": [
    "# Общий финансовый анализ на Python (Часть 3)\n",
    "> General Financial Analysis in Python (Part 3)\n",
    "\n",
    "- toc: true\n",
    "- branch: master\n",
    "- badges: true\n",
    "- comments: true\n",
    "- author: Zmey56\n",
    "- categories: [finance, investment, python]"
   ]
  },
  {
   "cell_type": "markdown",
   "metadata": {
    "id": "teM5_eTBlI5t"
   },
   "source": [
    "После всех вычислений, приведенных в прошлых двух публикациях, можно углубиться в статистический анализ и рассмотреть метод наименьших квадратов. Для этой цели используется библиотека statsmodels, которая позволяет пользователям исследовать данные, оценивать статистические модели и выполнять статистические тесты. За основу были взяты эта статья и эта статья. Само описание используемой функции на английском доступно по следующей ссылке.\n",
    "\n",
    "Сначала немного теории:"
   ]
  },
  {
   "cell_type": "markdown",
   "metadata": {
    "id": "hZP1JkOj47Cm"
   },
   "source": [
    "**О линейной регрессии**\n",
    "\n",
    "Линейная регрессия используется в качестве прогнозирующей модели, когда предполагается линейная зависимость между зависимой переменной (переменная, которую мы пытаемся предсказать) и независимой переменной (переменная и/или переменные, используемые для предсказания).\n",
    "\n",
    "В самом простой случае при рассмотрении используется одна переменная на основании которой мы пытаемся предсказать другую. Формула в этом случае имеет следующий вид:\n",
    "\n",
    "Y = C + M*X\n",
    "\n",
    "* Y - зависимая переменная (результат / прогноз / оценка)\n",
    "* C - Константа (Y-Intercept)\n",
    "* M - Наклон линии регрессии (угловой коэффициент или градиент оценённой линии; она представляет собой величину, на которую Y увеличивается в среднем, если мы увеличиваем X на одну единицу)\n",
    "* X - независимая переменная (предиктор, используемый в прогнозе Y)"
   ]
  },
  {
   "cell_type": "markdown",
   "metadata": {
    "id": "YUL5h5QZ47Cw"
   },
   "source": [
    "В действительности так же может существовать связь между зависимой переменной и несколькими независимыми переменными. Для этих типов моделей (при условии линейности) мы можем использовать множественную линейную регрессию следующего вида:\n",
    "\n",
    "Y = C + M1X1 + M2X2 + …\n",
    "\n",
    "**Бета — коэффициент**\n",
    "\n",
    "Про данный коэффициент написано уже много, для примера на этой странице\n",
    "\n",
    "Коротко, если не вдаваться в подробности, то можно его охарактеризовать следующим образом:\n",
    "\n",
    "Акции c бета-коэффициентом:\n",
    "\n",
    "* ноль указывает на отсутствие корреляции между акцией и индексом\n",
    "* единица указывает на то, что акция имеет ту же волатильность, что и индекс\n",
    "* больше одного — указывает на большую доходность (а следовательно и риски) акции, чем индекс\n",
    "* менее единицы — менее волатильная акция, чем индекса\n",
    "\n",
    "Другими словами, если акция увеличится на 14%, в то время как рынок вырос всего на 10%, то бета-коэффициент акции составит 1,4. Как правило на рынках с более высоким бета-коэффициентом можно предположить лучшие условия для вознаграждения (а следовательно и для риска)."
   ]
  },
  {
   "cell_type": "markdown",
   "metadata": {
    "id": "-dM-w6xX47C6"
   },
   "source": [
    "![](images/20202412_gfa_3.png)"
   ]
  },
  {
   "cell_type": "markdown",
   "metadata": {
    "id": "CUY_aIvI47C8"
   },
   "source": [
    "**Практика**\n",
    "\n",
    "Следующий код Python включает в себя пример линейной регрессии, где входной переменной является доходность по Индексу МосБиржи, а оцениваемая переменная — доходность по акциям Аэрофлот.\n",
    "\n",
    "Для того, чтобы отсутствовала необходимость вспоминать как загружать данные и приводить данные к форме, необходимой для расчета — код приводиться с момента загрузки данных и до получения результатов. Вот полный синтаксис для выполнения линейной регрессии в Python с использованием statsmodels:"
   ]
  },
  {
   "cell_type": "code",
   "execution_count": 3,
   "metadata": {
    "colab": {
     "base_uri": "https://localhost:8080/"
    },
    "id": "ezPolZPs47Da",
    "outputId": "11731416-1985-417b-d4a1-dc48292f2d78"
   },
   "outputs": [
    {
     "name": "stdout",
     "output_type": "stream",
     "text": [
      "[*********************100%***********************]  2 of 2 completed\n",
      "                            OLS Regression Results                            \n",
      "==============================================================================\n",
      "Dep. Variable:                AFLT.ME   R-squared:                       0.135\n",
      "Model:                            OLS   Adj. R-squared:                  0.135\n",
      "Method:                 Least Squares   F-statistic:                     454.5\n",
      "Date:                Mon, 18 Oct 2021   Prob (F-statistic):           7.89e-94\n",
      "Time:                        19:33:22   Log-Likelihood:                 7260.3\n",
      "No. Observations:                2909   AIC:                        -1.452e+04\n",
      "Df Residuals:                    2907   BIC:                        -1.450e+04\n",
      "Df Model:                           1                                         \n",
      "Covariance Type:            nonrobust                                         \n",
      "==============================================================================\n",
      "                 coef    std err          t      P>|t|      [0.025      0.975]\n",
      "------------------------------------------------------------------------------\n",
      "const      -7.886e-05      0.000     -0.213      0.831      -0.001       0.001\n",
      "IMOEX.ME       0.8101      0.038     21.320      0.000       0.736       0.885\n",
      "==============================================================================\n",
      "Omnibus:                      651.369   Durbin-Watson:                   1.857\n",
      "Prob(Omnibus):                  0.000   Jarque-Bera (JB):            22810.853\n",
      "Skew:                          -0.295   Prob(JB):                         0.00\n",
      "Kurtosis:                      16.706   Cond. No.                         103.\n",
      "==============================================================================\n",
      "\n",
      "Warnings:\n",
      "[1] Standard Errors assume that the covariance matrix of the errors is correctly specified.\n"
     ]
    }
   ],
   "source": [
    "#Загружаем библиотеки\n",
    "import pandas as pd\n",
    "import yfinance as yf\n",
    "import numpy as np\n",
    "import matplotlib.pyplot as plt\n",
    "import statsmodels.api as sm\n",
    "\n",
    "#Загружаю данные\n",
    "ticker = ['AFLT.ME','IMOEX.ME']\n",
    "stock = yf.download(ticker)\n",
    "\n",
    "# Выделение скорректированой цены закрытия\n",
    "all_adj_close = stock[['Adj Close']]\n",
    "\n",
    "# Вычисление доходности \n",
    "all_returns = np.log(all_adj_close / all_adj_close.shift(1))\n",
    "\n",
    "# Выделение доходности по акциям  \n",
    "aflt_returns = all_returns['Adj Close'][['AFLT.ME']].fillna(0)\n",
    "\n",
    "# Выделение доходности по индексу МосБиржи \n",
    "moex_returns = all_returns['Adj Close'][['IMOEX.ME']].fillna(0)\n",
    "\n",
    "\n",
    "# Создание нового DataFrame\n",
    "\n",
    "return_data = pd.concat([aflt_returns, moex_returns], axis=1)[1:]\n",
    "return_data.columns = ['AFLT.ME', 'IMOEX.ME']\n",
    "\n",
    "\n",
    "# Добавляем столбец единиц и определяем X и y\n",
    "X = sm.add_constant(return_data['IMOEX.ME'])\n",
    "y = return_data['AFLT.ME']\n",
    "\n",
    "\n",
    "# Создание модели\n",
    "model_moex = sm.OLS(y,X).fit()\n",
    "\n",
    "# Вывод результатов\n",
    "print(model_moex.summary())"
   ]
  },
  {
   "cell_type": "markdown",
   "metadata": {
    "id": "DQI6e7gS47Do"
   },
   "source": [
    "На сайте yahoo и Мосбиржи бета коэффициент отличается незначительно в большую сторону. Но надо честно признаться, что расчет для некоторых других акций с российской биржи показал более значительные отличия, но в пределах интервала."
   ]
  },
  {
   "cell_type": "markdown",
   "metadata": {
    "id": "LI3sq21l47Dw"
   },
   "source": [
    "![](images/sber_yahoo.png)"
   ]
  },
  {
   "cell_type": "markdown",
   "metadata": {
    "id": "zT8rKxwg6Jq3"
   },
   "source": [
    "Тот же анализ для акции FB и индекса SP500. Здесь вычисление, как в оригинале, проводится через месячную доходность."
   ]
  },
  {
   "cell_type": "code",
   "execution_count": 9,
   "metadata": {
    "colab": {
     "base_uri": "https://localhost:8080/"
    },
    "id": "h7p9dD0R47EA",
    "outputId": "865656cb-345b-44e0-f859-f156cffc003d"
   },
   "outputs": [
    {
     "name": "stdout",
     "output_type": "stream",
     "text": [
      "[*********************100%***********************]  1 of 1 completed\n",
      "[*********************100%***********************]  1 of 1 completed\n",
      "                            OLS Regression Results                            \n",
      "==============================================================================\n",
      "Dep. Variable:                     FB   R-squared:                       0.181\n",
      "Model:                            OLS   Adj. R-squared:                  0.174\n",
      "Method:                 Least Squares   F-statistic:                     24.59\n",
      "Date:                Mon, 18 Oct 2021   Prob (F-statistic):           2.56e-06\n",
      "Time:                        19:47:24   Log-Likelihood:                 110.11\n",
      "No. Observations:                 113   AIC:                            -216.2\n",
      "Df Residuals:                     111   BIC:                            -210.8\n",
      "Df Model:                           1                                         \n",
      "Covariance Type:            nonrobust                                         \n",
      "==============================================================================\n",
      "                 coef    std err          t      P>|t|      [0.025      0.975]\n",
      "------------------------------------------------------------------------------\n",
      "const          0.0131      0.009      1.446      0.151      -0.005       0.031\n",
      "^GSPC          1.1515      0.232      4.959      0.000       0.691       1.612\n",
      "==============================================================================\n",
      "Omnibus:                       26.778   Durbin-Watson:                   1.820\n",
      "Prob(Omnibus):                  0.000   Jarque-Bera (JB):              104.750\n",
      "Skew:                           0.671   Prob(JB):                     1.79e-23\n",
      "Kurtosis:                       7.522   Cond. No.                         26.8\n",
      "==============================================================================\n",
      "\n",
      "Warnings:\n",
      "[1] Standard Errors assume that the covariance matrix of the errors is correctly specified.\n"
     ]
    }
   ],
   "source": [
    "sp_500 = yf.download('^GSPC', start=\"2012-05-01\")\n",
    "fb = yf.download('FB')\n",
    "\n",
    "# Пересчет в месячную доходность\n",
    "fb = fb.resample('BM').apply(lambda x: x[-1])\n",
    "sp_500 = sp_500.resample('BM').apply(lambda x: x[-1])\n",
    "\n",
    "monthly_prices = pd.concat([fb['Close'], sp_500['Close']], axis=1)\n",
    "monthly_prices.columns = ['FB', '^GSPC']\n",
    "\n",
    "monthly_returns = monthly_prices.pct_change(1)\n",
    "clean_monthly_returns = monthly_returns.dropna(axis=0)  \n",
    "\n",
    "X = clean_monthly_returns['^GSPC']\n",
    "y = clean_monthly_returns['FB']\n",
    "\n",
    "X1 = sm.add_constant(X)\n",
    "\n",
    "model_fb_sp_500 = sm.OLS(y, X1)\n",
    "\n",
    "results_fb_sp_500 = model_fb_sp_500.fit()\n",
    "print(results_fb_sp_500.summary())"
   ]
  },
  {
   "cell_type": "markdown",
   "metadata": {},
   "source": [
    "![](images/fb_yahoo.png)"
   ]
  },
  {
   "cell_type": "markdown",
   "metadata": {
    "id": "qCtgjItL8yqp"
   },
   "source": [
    "В этом случае все совпало и подтвердило возможность использование statsmodels для определения коэффициента бета.\n",
    "\n",
    "Ну и в качестве бонуса — если Вы хотите получить только бета — коэффициент и остальную статистику вы хотите оставить в стороне, то предлагается еще один код для его расчета:"
   ]
  },
  {
   "cell_type": "code",
   "execution_count": 10,
   "metadata": {
    "colab": {
     "base_uri": "https://localhost:8080/"
    },
    "id": "gGbRnM3A84Zp",
    "outputId": "25164cb1-e9b0-4ab3-9217-71413ad6206b"
   },
   "outputs": [
    {
     "name": "stdout",
     "output_type": "stream",
     "text": [
      "1.1515416131106546\n"
     ]
    }
   ],
   "source": [
    "from scipy import stats\n",
    "slope, intercept, r_value, p_value, std_err = stats.linregress(X, y)\n",
    "\n",
    "print(slope)"
   ]
  },
  {
   "cell_type": "markdown",
   "metadata": {
    "id": "dlG0hq0F9C3k"
   },
   "source": [
    "Правда это не означает, что всю остальные получаемые значения надо игнорировать, но для их понимания понадобятся знание статистики. Приведу небольшую выдержку из получаемых значений:\n",
    "\n",
    "* R-squared, который является коэффициентом детерминации и принимает значения от 0 до 1. Чем ближе значение коэффициента к 1, тем сильнее зависимость;\n",
    "* Adj. R-squared — скорректированный R-squared на основании числа наблюдений и числа степеней свободы;\n",
    "* std err — стандартная ошибка оценки коэффициента;\n",
    "* P>|t| — р-значение Величина менее 0,05 считается статистически значимой;\n",
    "* 0.025 и 0.975 — нижнее и верхнее значения доверительного интервала.\n",
    "* и т.д.\n",
    "\n",
    "На этом пока что все. Конечно, представляет интерес поискать зависимость между различными величинами для того, чтобы через одну предсказать другую и получить профит. В одном из иностранных источников встретилось предсказание индекса через процентную ставку и уровень безработицы. Но если изменение процентной ставки в России можно взять с сайта Центробанка, то другие пока продолжаю искать. К сожалению, на сайте Росстата не удалось найти актуальные. Это заключительная публикация в рамках статей общего финансового анализа."
   ]
  }
 ],
 "metadata": {
  "colab": {
   "name": "2020-04-12-general-financial-analysis-python-part-3.ipynb",
   "provenance": []
  },
  "kernelspec": {
   "display_name": "Python 3",
   "language": "python",
   "name": "python3"
  },
  "language_info": {
   "codemirror_mode": {
    "name": "ipython",
    "version": 3
   },
   "file_extension": ".py",
   "mimetype": "text/x-python",
   "name": "python",
   "nbconvert_exporter": "python",
   "pygments_lexer": "ipython3",
   "version": "3.8.10"
  }
 },
 "nbformat": 4,
 "nbformat_minor": 1
}
