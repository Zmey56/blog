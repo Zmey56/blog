{
 "cells": [
  {
   "cell_type": "markdown",
   "metadata": {
    "id": "T_SMCU6Eb_St"
   },
   "source": [
    "# Russian - Solution Lesson 7 on Fast.ai\n",
    "> Abbreviated solution of the lesson 7 on fast.ai\n",
    "\n",
    "- toc: true\n",
    "- branch: master\n",
    "- badges: true\n",
    "- comments: true\n",
    "- author: Zmey56\n",
    "- categories: [russian, fast.ai, solution]"
   ]
  },
  {
   "cell_type": "code",
   "execution_count": 1,
   "metadata": {
    "id": "OO_pBV4abhIH",
    "outputId": "fce9316f-aa2e-443f-85b2-a01f5c86fcac"
   },
   "outputs": [
    {
     "ename": "ModuleNotFoundError",
     "evalue": "No module named 'fastbook'",
     "output_type": "error",
     "traceback": [
      "\u001b[1;31m---------------------------------------------------------------------------\u001b[0m",
      "\u001b[1;31mModuleNotFoundError\u001b[0m                       Traceback (most recent call last)",
      "\u001b[1;32m<ipython-input-1-13d55623f63d>\u001b[0m in \u001b[0;36m<module>\u001b[1;34m\u001b[0m\n\u001b[0;32m      1\u001b[0m \u001b[1;31m#hide\u001b[0m\u001b[1;33m\u001b[0m\u001b[1;33m\u001b[0m\u001b[1;33m\u001b[0m\u001b[0m\n\u001b[1;32m----> 2\u001b[1;33m \u001b[1;32mfrom\u001b[0m \u001b[0mfastbook\u001b[0m \u001b[1;32mimport\u001b[0m \u001b[1;33m*\u001b[0m\u001b[1;33m\u001b[0m\u001b[1;33m\u001b[0m\u001b[0m\n\u001b[0m",
      "\u001b[1;31mModuleNotFoundError\u001b[0m: No module named 'fastbook'"
     ]
    }
   ],
   "source": [
    "#hide\n",
    "from fastbook import *"
   ]
  },
  {
   "cell_type": "markdown",
   "metadata": {
    "id": "oDskM_1CbhIO"
   },
   "source": [
    "# Обучение соверменных моделей "
   ]
  },
  {
   "cell_type": "markdown",
   "metadata": {},
   "source": [
    "В этой главе представлены более продвинутые методы обучения модели классификации изображений и получения самых современных результатов. Вы можете пропустить его, если хотите узнать больше о других приложениях глубокого обучения и вернуться к нему позже—знание этого материала не будет предполагаться в последующих главах.\n",
    "\n",
    "Мы рассмотрим, что такое нормализация, мощный метод увеличения данных, называемый mixup, прогрессивный подход к изменению размера и увеличение времени тестирования. Чтобы показать все это, мы собираемся обучить модель с нуля (не используя трансферное обучение), используя подмножество ImageNet, называемое Imagenette. Он содержит подмножество из 10 очень разных категорий из исходного набора данных ImageNet, что позволяет быстрее обучаться, когда мы хотим поэкспериментировать.\n",
    "\n",
    "Это будет намного сложнее сделать хорошо, чем с нашими предыдущими наборами данных, потому что мы используем полноразмерные, полноцветные изображения, которые представляют собой фотографии объектов разных размеров, в разных ориентациях, при различном освещении и так далее. Итак, в этой главе мы познакомим вас с некоторыми важными методами получения максимальной отдачи от вашего набора данных, особенно когда вы тренируетесь с нуля или используете трансферное обучение для обучения модели на совершенно ином типе набора данных, чем используемая предварительно обученная модель."
   ]
  },
  {
   "cell_type": "code",
   "execution_count": null,
   "metadata": {},
   "outputs": [],
   "source": []
  }
 ],
 "metadata": {
  "colab": {
   "name": "2020-01-06-multicat.ipynb",
   "provenance": []
  },
  "jupytext": {
   "split_at_heading": true
  },
  "kernelspec": {
   "display_name": "Python 3",
   "language": "python",
   "name": "python3"
  },
  "language_info": {
   "codemirror_mode": {
    "name": "ipython",
    "version": 3
   },
   "file_extension": ".py",
   "mimetype": "text/x-python",
   "name": "python",
   "nbconvert_exporter": "python",
   "pygments_lexer": "ipython3",
   "version": "3.8.5"
  }
 },
 "nbformat": 4,
 "nbformat_minor": 1
}
