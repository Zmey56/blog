{
  "nbformat": 4,
  "nbformat_minor": 0,
  "metadata": {
    "colab": {
      "name": "High_dividend_stocks.ipynb",
      "provenance": [],
      "collapsed_sections": []
    },
    "kernelspec": {
      "name": "python3",
      "display_name": "Python 3"
    },
    "language_info": {
      "name": "python"
    }
  },
  "cells": [
    {
      "cell_type": "markdown",
      "metadata": {
        "id": "kYJlJjYkoVZD"
      },
      "source": [
        "# Russian - Использование API Fmp Cloud для отбора акций по дивидендам на Nasdaq с помощью Python\n",
        "> Search for high-dividend stocks\n",
        "\n",
        "- toc: true\n",
        "- branch: master\n",
        "- badges: true\n",
        "- comments: true\n",
        "- author: Zmey56\n",
        "- categories: [russian, python, algotrading, dividend]"
      ]
    },
    {
      "cell_type": "markdown",
      "metadata": {
        "id": "UXc-DGjFhSt-"
      },
      "source": [
        "# Использование API Fmp Cloud для отбора акций по дивидендам на Nasdaq с помощью Python"
      ]
    },
    {
      "cell_type": "markdown",
      "metadata": {
        "id": "dINNhAfDhj2S"
      },
      "source": [
        "Акции с высокой дивидентной доходностью часто являются отличной инвестиционной стратегией для инвесторов, стремящихся получать приток денежных средств каждый год. В данной статье буден создан скрипт на Python для отбора их на бирже NASDAQ."
      ]
    },
    {
      "cell_type": "markdown",
      "metadata": {
        "id": "68xtOF2LjCT6"
      },
      "source": [
        "## Что такое дивидентная доходность?"
      ]
    },
    {
      "cell_type": "markdown",
      "metadata": {
        "id": "pJx0w5R6jKF9"
      },
      "source": [
        "Возьму определение из [Википедии](https://ru.wikipedia.org/wiki/%D0%94%D0%B8%D0%B2%D0%B8%D0%B4%D0%B5%D0%BD%D0%B4%D0%BD%D0%B0%D1%8F_%D0%B4%D0%BE%D1%85%D0%BE%D0%B4%D0%BD%D0%BE%D1%81%D1%82%D1%8C). **Дивиде́ндная дохо́дность** (англ. dividend yield) — это отношение величины годового дивиденда на акцию к цене акции. Данная величина выражается чаще всего в процентах.\n",
        "\n",
        "*Пример*\n",
        "\n",
        "При цене акции ОАО «Лукойл» 1124,37 рублей и дивиденде 28 рублей на акцию дивидендная доходность будет равна:\n",
        "\n",
        "![image.png](data:image/png;base64,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)\n"
      ]
    },
    {
      "cell_type": "markdown",
      "metadata": {
        "id": "RDbJ10nWkHAn"
      },
      "source": [
        "Так же необходимо обратить внимание, что многие растущие компании, такие как для примера Amazon и Yandex, не выплачивают дивиденды, поскольку они реинвестируют всю прибыль в развитие бизнеса. Поэтому дивидендная доходность для этих фирм будет равна нулю."
      ]
    },
    {
      "cell_type": "markdown",
      "metadata": {
        "id": "CsdSg5-kkoPc"
      },
      "source": [
        "## Расчет дивидендной доходности с помощью Python"
      ]
    },
    {
      "cell_type": "markdown",
      "metadata": {
        "id": "-6-S8V4GkxgT"
      },
      "source": [
        "Расчет дивидендной доходности является простой задачей, которую можно выполнить с помощью финансового API под названием fmpcloud и Python. Этот API предлагает несколько бесплатных запросов в день после регистрации. \n",
        "\n",
        "1. Первым делом нужно извлечь список тикеров для всех акций, торгующихся на Nasdaq, по которым собираемся рассчитать дивидендную доходность. "
      ]
    },
    {
      "cell_type": "code",
      "metadata": {
        "id": "WSHbqMTIjJYB",
        "colab": {
          "base_uri": "https://localhost:8080/",
          "height": 229
        },
        "outputId": "ef95947b-4c1f-42c5-c601-c1c586cd893c"
      },
      "source": [
        "import requests\n",
        "\n",
        "demo = '39b9d9eeb3ba3fe57e039284db7ed2c0'\n",
        "\n",
        "tickers = requests.get(f'https://fmpcloud.io/api/v3/symbol/available-nasdaq?apikey={demo}')\n",
        "\n",
        "tickers = tickers.json()\n",
        "symbols = []\n",
        "for ticker in tickers:\n",
        "  symbols.append(ticker['symbol'])\n",
        "print(symbols)\n",
        "#['SMMCW', 'VOD', 'TRMD', 'TRMB', 'NBL', 'EMMA',...]"
      ],
      "execution_count": null,
      "outputs": [
        {
          "output_type": "error",
          "ename": "TypeError",
          "evalue": "ignored",
          "traceback": [
            "\u001b[0;31m---------------------------------------------------------------------------\u001b[0m",
            "\u001b[0;31mTypeError\u001b[0m                                 Traceback (most recent call last)",
            "\u001b[0;32m<ipython-input-25-1a9ccd9b857e>\u001b[0m in \u001b[0;36m<module>\u001b[0;34m()\u001b[0m\n\u001b[1;32m      8\u001b[0m \u001b[0msymbols\u001b[0m \u001b[0;34m=\u001b[0m \u001b[0;34m[\u001b[0m\u001b[0;34m]\u001b[0m\u001b[0;34m\u001b[0m\u001b[0;34m\u001b[0m\u001b[0m\n\u001b[1;32m      9\u001b[0m \u001b[0;32mfor\u001b[0m \u001b[0mticker\u001b[0m \u001b[0;32min\u001b[0m \u001b[0mtickers\u001b[0m\u001b[0;34m:\u001b[0m\u001b[0;34m\u001b[0m\u001b[0;34m\u001b[0m\u001b[0m\n\u001b[0;32m---> 10\u001b[0;31m   \u001b[0msymbols\u001b[0m\u001b[0;34m.\u001b[0m\u001b[0mappend\u001b[0m\u001b[0;34m(\u001b[0m\u001b[0mticker\u001b[0m\u001b[0;34m[\u001b[0m\u001b[0;34m'symbol'\u001b[0m\u001b[0;34m]\u001b[0m\u001b[0;34m)\u001b[0m\u001b[0;34m\u001b[0m\u001b[0;34m\u001b[0m\u001b[0m\n\u001b[0m\u001b[1;32m     11\u001b[0m \u001b[0mprint\u001b[0m\u001b[0;34m(\u001b[0m\u001b[0msymbols\u001b[0m\u001b[0;34m)\u001b[0m\u001b[0;34m\u001b[0m\u001b[0;34m\u001b[0m\u001b[0m\n\u001b[1;32m     12\u001b[0m \u001b[0;31m#['SMMCW', 'VOD', 'TRMD', 'TRMB', 'NBL', 'EMMA',...]\u001b[0m\u001b[0;34m\u001b[0m\u001b[0;34m\u001b[0m\u001b[0;34m\u001b[0m\u001b[0m\n",
            "\u001b[0;31mTypeError\u001b[0m: string indices must be integers"
          ]
        }
      ]
    },
    {
      "cell_type": "code",
      "metadata": {
        "id": "YiM6xBs9Ta6T"
      },
      "source": [
        "    companydata = requests.get(f'https://fmpcloud.io/api/v3/profile/SMTA?apikey={demo}')\n",
        "    companydata = companydata.json()"
      ],
      "execution_count": null,
      "outputs": []
    },
    {
      "cell_type": "code",
      "metadata": {
        "colab": {
          "base_uri": "https://localhost:8080/"
        },
        "id": "yi3_uRiFTfTr",
        "outputId": "bbbd9a7b-6798-4646-b4a1-c5a001f0a01b"
      },
      "source": [
        "companydata"
      ],
      "execution_count": null,
      "outputs": [
        {
          "output_type": "execute_result",
          "data": {
            "text/plain": [
              "{'Error Message': 'Limit Reach . Please upgrade your plan or visit our documentation for more details at https://fmpcloud.io/plans '}"
            ]
          },
          "metadata": {
            "tags": []
          },
          "execution_count": 30
        }
      ]
    },
    {
      "cell_type": "code",
      "metadata": {
        "colab": {
          "base_uri": "https://localhost:8080/",
          "height": 128
        },
        "id": "vEbqb6OsTTt_",
        "outputId": "b9df1b02-0ec1-4830-c53e-d426eeda2d6c"
      },
      "source": [
        "https://fmpcloud.io/api/v3/profile/AAPL?apikey=39b9d9eeb3ba3fe57e039284db7ed2c0"
      ],
      "execution_count": null,
      "outputs": [
        {
          "output_type": "error",
          "ename": "SyntaxError",
          "evalue": "ignored",
          "traceback": [
            "\u001b[0;36m  File \u001b[0;32m\"<ipython-input-26-eff50d69cb6e>\"\u001b[0;36m, line \u001b[0;32m1\u001b[0m\n\u001b[0;31m    https://fmpcloud.io/api/v3/profile/AAPL?apikey=39b9d9eeb3ba3fe57e039284db7ed2c0\u001b[0m\n\u001b[0m           ^\u001b[0m\n\u001b[0;31mSyntaxError\u001b[0m\u001b[0;31m:\u001b[0m invalid syntax\n"
          ]
        }
      ]
    },
    {
      "cell_type": "code",
      "metadata": {
        "colab": {
          "base_uri": "https://localhost:8080/"
        },
        "id": "L-SG35yweyer",
        "outputId": "e0d38806-a1c5-4842-fdd8-e0b4a82fef73"
      },
      "source": [
        "len(symbols)"
      ],
      "execution_count": null,
      "outputs": [
        {
          "output_type": "execute_result",
          "data": {
            "text/plain": [
              "5261"
            ]
          },
          "metadata": {
            "tags": []
          },
          "execution_count": 20
        }
      ]
    },
    {
      "cell_type": "code",
      "metadata": {
        "colab": {
          "base_uri": "https://localhost:8080/"
        },
        "id": "a6QOzBxkfHEd",
        "outputId": "59e8c4be-1135-47a6-e253-d4034b7cf380"
      },
      "source": [
        "\"TBK\" in symbols"
      ],
      "execution_count": null,
      "outputs": [
        {
          "output_type": "execute_result",
          "data": {
            "text/plain": [
              "False"
            ]
          },
          "metadata": {
            "tags": []
          },
          "execution_count": 21
        }
      ]
    },
    {
      "cell_type": "markdown",
      "metadata": {
        "id": "puZgHL3qnDiP"
      },
      "source": [
        "2. После необходимо пройтись по полученому списку акций и получить финансовую информацию по компании. Так же необходимо понимать, что получаем только последние данные, а не за все время существование компании."
      ]
    },
    {
      "cell_type": "code",
      "metadata": {
        "id": "SXM7YJdPhe6y",
        "colab": {
          "base_uri": "https://localhost:8080/"
        },
        "outputId": "fedec03a-64a7-40ea-835b-57af331c70be"
      },
      "source": [
        "DivYield = {}\n",
        "for company in symbols:\n",
        "  try:\n",
        "    companydata = requests.get(f'https://fmpcloud.io/api/v3/profile/{company}?apikey={demo}')\n",
        "    companydata = companydata.json()\n",
        "    latest_Annual_Dividend = companydata[0]['lastDiv']\n",
        "    price = companydata[0]['price']\n",
        "    market_Capitalization = companydata[0]['mktCap']\n",
        "    name = companydata[0]['companyName']\n",
        "    exchange = companydata[0]['exchange']\n",
        "\n",
        "    dividend_Yield= latest_Annual_Dividend/price\n",
        "    DivYield[company] = {}\n",
        "    DivYield[company]['Dividend_Yield'] = dividend_Yield\n",
        "    DivYield[company]['latest_Price'] = price\n",
        "    DivYield[company]['latest_Dividend'] = latest_Annual_Dividend\n",
        "    DivYield[company]['market_Capit_in_M'] = market_Capitalization/1000000\n",
        "    DivYield[company]['company_Name'] = name\n",
        "    DivYield[company]['exchange'] = exchange\n",
        "  except:\n",
        "    pass\n",
        "print(DivYield)"
      ],
      "execution_count": null,
      "outputs": [
        {
          "output_type": "stream",
          "text": [
            "{'ATEN': {'Dividend_Yield': 0.0, 'latest_Price': 9.25, 'latest_Dividend': 0.0, 'market_Capit_in_M': 712.34336, 'company_Name': 'A10 Networks Inc', 'exchange': 'New York Stock Exchange'}, 'ABM': {'Dividend_Yield': 0.01836213668499607, 'latest_Price': 50.92, 'latest_Dividend': 0.935, 'market_Capit_in_M': 3416.20736, 'company_Name': 'ABM Industries Inc', 'exchange': 'New York Stock Exchange'}, 'EMD': {'Dividend_Yield': 0.0870722433460076, 'latest_Price': 13.15, 'latest_Dividend': 1.145, 'market_Capit_in_M': 798.80986, 'company_Name': 'Western Asset Emerging Markets Debt Fund Inc', 'exchange': 'New York Stock Exchange'}, 'NM-PG': {'Dividend_Yield': 0.0, 'latest_Price': 12.2, 'latest_Dividend': 0.0, 'market_Capit_in_M': 77.285168, 'company_Name': 'Navios Maritime Holdings Inc.', 'exchange': 'New York Stock Exchange'}, 'ARCH': {'Dividend_Yield': 0.01232134056185313, 'latest_Price': 40.58, 'latest_Dividend': 0.5, 'market_Capit_in_M': 621.55981, 'company_Name': 'Arch Resources Inc', 'exchange': 'New York Stock Exchange'}, 'CPL': {'Dividend_Yield': 0.013637500000000002, 'latest_Price': 17.36, 'latest_Dividend': 0.236747, 'market_Capit_in_M': 10258.0419, 'company_Name': 'CPFL Energia S.A. American Depositary Shares', 'exchange': 'New York Stock Exchange'}, 'MFGP': {'Dividend_Yield': 0.09148698884758365, 'latest_Price': 8.07, 'latest_Dividend': 0.7383000000000001, 'market_Capit_in_M': 2676.69786, 'company_Name': 'Micro Focus Intl PLC ADS each representing One Ord Sh', 'exchange': 'New York Stock Exchange'}, 'FMO': {'Dividend_Yield': 0.09384775808133473, 'latest_Price': 9.59, 'latest_Dividend': 0.9, 'market_Capit_in_M': 67.97536, 'company_Name': 'Fiduciary/Claymore Energy Infrastructure Fund', 'exchange': 'New York Stock Exchange'}, 'BEN': {'Dividend_Yield': 0.04672578444747613, 'latest_Price': 29.32, 'latest_Dividend': 1.37, 'market_Capit_in_M': 14818.4453, 'company_Name': 'Franklin Resources Inc', 'exchange': 'New York Stock Exchange'}, 'A': {'Dividend_Yield': 0.00744126373185791, 'latest_Price': 124.71, 'latest_Dividend': 0.9279999999999999, 'market_Capit_in_M': 37998.887, 'company_Name': 'Agilent Technologies Inc', 'exchange': 'New York Stock Exchange'}, 'BCX': {'Dividend_Yield': 0.05553047404063205, 'latest_Price': 8.86, 'latest_Dividend': 0.49199999999999994, 'market_Capit_in_M': 782.47974, 'company_Name': 'BlackRock Resources and Commodities Strategy Trust', 'exchange': 'New York Stock Exchange'}, 'MOON': {'Dividend_Yield': 0.0, 'latest_Price': 37.89, 'latest_Dividend': 0.0, 'market_Capit_in_M': 0.0, 'company_Name': 'Direxion Moonshot Innovators ETF', 'exchange': 'NYSEArca'}, 'AMTR': {'Dividend_Yield': 0.0, 'latest_Price': 34.6748, 'latest_Dividend': 0.0, 'market_Capit_in_M': 0.0, 'company_Name': 'ETRACS Alerian Midstream Energy Total Return Index ETN', 'exchange': 'NYSEArca'}, 'ACI': {'Dividend_Yield': 0.010070493454179255, 'latest_Price': 19.86, 'latest_Dividend': 0.2, 'market_Capit_in_M': 9245.4851, 'company_Name': 'Albertsons Companies, Inc.', 'exchange': 'New York Stock Exchange'}, 'ET': {'Dividend_Yield': 0.11878517519516558, 'latest_Price': 7.7114, 'latest_Dividend': 0.9159999999999999, 'market_Capit_in_M': 20847.6938, 'company_Name': 'Energy Transfer LP', 'exchange': 'New York Stock Exchange'}, 'SID': {'Dividend_Yield': 0.00031323414252153485, 'latest_Price': 6.385, 'latest_Dividend': 0.002, 'market_Capit_in_M': 8908.6075, 'company_Name': 'Companhia Siderúrgica Nacional', 'exchange': 'New York Stock Exchange'}, 'JNPR': {'Dividend_Yield': 0.03154574132492114, 'latest_Price': 25.36, 'latest_Dividend': 0.8, 'market_Capit_in_M': 8322.4422, 'company_Name': 'Juniper Networks Inc', 'exchange': 'New York Stock Exchange'}, 'FN': {'Dividend_Yield': 0.0, 'latest_Price': 88.55, 'latest_Dividend': 0.0, 'market_Capit_in_M': 3264.90061, 'company_Name': 'Fabrinet', 'exchange': 'New York Stock Exchange'}, 'ICL': {'Dividend_Yield': 0.03030508819884212, 'latest_Price': 5.8901, 'latest_Dividend': 0.1785, 'market_Capit_in_M': 7426.0029, 'company_Name': 'Icl Group Ltd', 'exchange': 'New York Stock Exchange'}, 'IR': {'Dividend_Yield': 0.01056934888822415, 'latest_Price': 50.145, 'latest_Dividend': 0.53, 'market_Capit_in_M': 20998.9714, 'company_Name': 'Ingersoll Rand Inc', 'exchange': 'New York Stock Exchange'}, 'HT': {'Dividend_Yield': 0.025442980463425715, 'latest_Price': 11.005, 'latest_Dividend': 0.28, 'market_Capit_in_M': 427.472736, 'company_Name': 'Hersha Hospitality Trust', 'exchange': 'New York Stock Exchange'}, 'DFIN': {'Dividend_Yield': 0.0, 'latest_Price': 27.59, 'latest_Dividend': 0.0, 'market_Capit_in_M': 918.56218, 'company_Name': 'Donnelley Financial Solutions Inc', 'exchange': 'New York Stock Exchange'}, 'BLK': {'Dividend_Yield': 0.019933113918675017, 'latest_Price': 753.52, 'latest_Dividend': 15.02, 'market_Capit_in_M': 115012.772, 'company_Name': 'BlackRock Inc', 'exchange': 'New York Stock Exchange'}, 'FSD': {'Dividend_Yield': 0.08770822397491015, 'latest_Price': 15.0499, 'latest_Dividend': 1.3200000000000003, 'market_Capit_in_M': 503.721664, 'company_Name': 'First Trust High Income Long/Short Fund', 'exchange': 'New York Stock Exchange'}, 'HCXZ': {'Dividend_Yield': 0.05181674565560822, 'latest_Price': 25.32, 'latest_Dividend': 1.312, 'market_Capit_in_M': 1318.60224, 'company_Name': 'Hercules Capital, Inc.', 'exchange': 'New York Stock Exchange'}, 'HCXY': {'Dividend_Yield': 0.05792592592592593, 'latest_Price': 27.0, 'latest_Dividend': 1.564, 'market_Capit_in_M': 1425.59731, 'company_Name': 'Hercules Capital, Inc.', 'exchange': 'New York Stock Exchange'}, 'ACTV': {'Dividend_Yield': 0.0009788758589635664, 'latest_Price': 35.7553, 'latest_Dividend': 0.035, 'market_Capit_in_M': 0.0, 'company_Name': 'LeaderShares Activist Leaders ETF', 'exchange': 'NYSEArca'}, 'MDLX': {'Dividend_Yield': 0.7320394960844399, 'latest_Price': 2.3496, 'latest_Dividend': 1.72, 'market_Capit_in_M': 0.0, 'company_Name': 'Medley LLC 6.875% Senior Notes due 2026', 'exchange': 'New York Stock Exchange'}, 'BMA': {'Dividend_Yield': 0.16821241585639493, 'latest_Price': 13.37, 'latest_Dividend': 2.249, 'market_Capit_in_M': 1366.80166, 'company_Name': 'Banco Macro S.A. ADR (representing Ten Class B)', 'exchange': 'New York Stock Exchange'}, 'EROS': {'Dividend_Yield': 0.0, 'latest_Price': 2.56, 'latest_Dividend': 0.0, 'market_Capit_in_M': 453.83168, 'company_Name': 'Eros International PLC', 'exchange': 'New York Stock Exchange'}, 'USA': {'Dividend_Yield': 0.08569545154911008, 'latest_Price': 7.585, 'latest_Dividend': 0.65, 'market_Capit_in_M': 1646.64282, 'company_Name': 'Liberty All-Star Equity Fund', 'exchange': 'New York Stock Exchange'}, 'KT': {'Dividend_Yield': 0.03662496909765142, 'latest_Price': 12.135, 'latest_Dividend': 0.444444, 'market_Capit_in_M': 5782.3642, 'company_Name': 'KT Corporation', 'exchange': 'New York Stock Exchange'}, 'MDLQ': {'Dividend_Yield': 0.7199203187250998, 'latest_Price': 2.51, 'latest_Dividend': 1.8070000000000002, 'market_Capit_in_M': 0.0, 'company_Name': 'Medley LLC 7.25% Notes due 2024', 'exchange': 'New York Stock Exchange'}, 'STZ.B': {'Dividend_Yield': 0.0794392523364486, 'latest_Price': 8.56, 'latest_Dividend': 0.68, 'market_Capit_in_M': 1148.91482, 'company_Name': 'Constellation Brands, Inc', 'exchange': 'YHD'}, 'MCV': {'Dividend_Yield': 0.046052104208416836, 'latest_Price': 24.95, 'latest_Dividend': 1.149, 'market_Capit_in_M': 1359.13139, 'company_Name': 'Medley Capital Corporation 6.125% Senior Notes due 2023', 'exchange': 'New York Stock Exchange'}, 'KBH': {'Dividend_Yield': 0.01052400789300592, 'latest_Price': 45.61, 'latest_Dividend': 0.48, 'market_Capit_in_M': 4508.5809, 'company_Name': 'KB Home', 'exchange': 'New York Stock Exchange'}, 'AAN': {'Dividend_Yield': 0.008978451715881885, 'latest_Price': 25.06, 'latest_Dividend': 0.22500000000000003, 'market_Capit_in_M': 857.17478, 'company_Name': \"Aaron's Inc\", 'exchange': 'New York Stock Exchange'}, 'IQV': {'Dividend_Yield': 0.0, 'latest_Price': 190.87, 'latest_Dividend': 0.0, 'market_Capit_in_M': 36602.569, 'company_Name': 'IQVIA Holdings Inc', 'exchange': 'New York Stock Exchange'}, 'KEG': {'Dividend_Yield': 0.0, 'latest_Price': 104.14, 'latest_Dividend': 0.0, 'market_Capit_in_M': 35159.642, 'company_Name': 'Key Energy Services Inc.', 'exchange': 'New York Stock Exchange'}, 'KEM': {'Dividend_Yield': 0.00735023888276369, 'latest_Price': 27.21, 'latest_Dividend': 0.2, 'market_Capit_in_M': 1592.01357, 'company_Name': 'KEMET Corporation', 'exchange': 'New York Stock Exchange'}, 'WYND': {'Dividend_Yield': 0.027053140096618356, 'latest_Price': 51.75, 'latest_Dividend': 1.4, 'market_Capit_in_M': 4443.3219, 'company_Name': 'Wyndham Destinations Inc', 'exchange': 'New York Stock Exchange'}, 'CLPR': {'Dividend_Yield': 0.04804045512010114, 'latest_Price': 7.91, 'latest_Dividend': 0.38, 'market_Capit_in_M': 127.059912, 'company_Name': 'Clipper Realty Inc', 'exchange': 'New York Stock Exchange'}, 'MZA': {'Dividend_Yield': 0.04249311294765841, 'latest_Price': 14.52, 'latest_Dividend': 0.6170000000000001, 'market_Capit_in_M': 67.338536, 'company_Name': 'Blackrock Muniyield Arizona Fund Inc', 'exchange': 'NYSE American'}, 'ACA': {'Dividend_Yield': 0.0031883434164693882, 'latest_Price': 62.7285, 'latest_Dividend': 0.2, 'market_Capit_in_M': 3021.93306, 'company_Name': 'Arcosa Inc', 'exchange': 'New York Stock Exchange'}, 'TIF': {'Dividend_Yield': 0.015664386028087864, 'latest_Price': 111.08, 'latest_Dividend': 1.7399999999999998, 'market_Capit_in_M': 116379.902, 'company_Name': 'Tiffany & Co', 'exchange': 'New York Stock Exchange'}, 'RRTS': {'Dividend_Yield': 0.0, 'latest_Price': 5.475, 'latest_Dividend': 0.0, 'market_Capit_in_M': 207.461984, 'company_Name': 'Roadrunner Transportation Systems Inc', 'exchange': 'New York Stock Exchange'}, 'GNL': {'Dividend_Yield': 0.08712129462243809, 'latest_Price': 18.3652, 'latest_Dividend': 1.6, 'market_Capit_in_M': 1663.41875, 'company_Name': 'Global Net Lease Inc', 'exchange': 'New York Stock Exchange'}, 'BF.B': {'Dividend_Yield': 0.03376635967038294, 'latest_Price': 10.315, 'latest_Dividend': 0.3483, 'market_Capit_in_M': 94.31324, 'company_Name': 'Brown-Forman Corp', 'exchange': 'YHD'}, 'ESBA': {'Dividend_Yield': 0.009400179051029543, 'latest_Price': 11.17, 'latest_Dividend': 0.105, 'market_Capit_in_M': 3149.66093, 'company_Name': 'Empire State Realty OP LP', 'exchange': 'New York Stock Exchange Arca'}, 'NEWM': {'Dividend_Yield': 0.06493506493506493, 'latest_Price': 29.26, 'latest_Dividend': 1.9, 'market_Capit_in_M': 7005.6346, 'company_Name': 'New Media Investment Group Inc.', 'exchange': 'New York Stock Exchange'}, 'GDI': {'Dividend_Yield': 0.0, 'latest_Price': 32.79, 'latest_Dividend': 0.0, 'market_Capit_in_M': 6728.9016, 'company_Name': 'Gardner Denver Holdings Inc.', 'exchange': 'New York Stock Exchange'}, 'EAB': {'Dividend_Yield': 0.02450278440731901, 'latest_Price': 25.14, 'latest_Dividend': 0.616, 'market_Capit_in_M': 1181.08224, 'company_Name': 'Entergy Arkansas Inc. First Mortgage Bonds 4.90% Series Due December 1 2052', 'exchange': 'New York Stock Exchange'}, 'EAE': {'Dividend_Yield': 0.023756466374850776, 'latest_Price': 25.13, 'latest_Dividend': 0.597, 'market_Capit_in_M': 1180.61235, 'company_Name': 'Entergy Arkansas Inc. First Mortgage Bonds 4.75% Series due June 1 2063', 'exchange': 'New York Stock Exchange'}, 'VCV': {'Dividend_Yield': 0.04409199048374306, 'latest_Price': 12.61, 'latest_Dividend': 0.5559999999999999, 'market_Capit_in_M': 603.58144, 'company_Name': 'Invesco California Value Municipal Income Trust', 'exchange': 'New York Stock Exchange'}, 'CXO': {'Dividend_Yield': 0.009146341463414637, 'latest_Price': 65.6, 'latest_Dividend': 0.6000000000000001, 'market_Capit_in_M': 12876.9526, 'company_Name': 'Concho Resources Inc', 'exchange': 'New York Stock Exchange'}, 'MOSC': {'Dividend_Yield': 0.0, 'latest_Price': 9.9, 'latest_Dividend': 0.0, 'market_Capit_in_M': 426.937472, 'company_Name': 'Mosaic Acquisition Corp. Class A', 'exchange': 'New York Stock Exchange'}, 'PRI': {'Dividend_Yield': 0.011253369272237196, 'latest_Price': 148.4, 'latest_Dividend': 1.67, 'market_Capit_in_M': 5865.8063, 'company_Name': 'Primerica Inc', 'exchange': 'New York Stock Exchange'}, 'CBX': {'Dividend_Yield': 0.0, 'latest_Price': 2.7, 'latest_Dividend': 0.0, 'market_Capit_in_M': 0.0, 'company_Name': 'CBX', 'exchange': 'New York Stock Exchange'}, 'AWK': {'Dividend_Yield': 0.015019115237575098, 'latest_Price': 146.48, 'latest_Dividend': 2.2, 'market_Capit_in_M': 26577.1848, 'company_Name': 'American Water Works Company Inc', 'exchange': 'New York Stock Exchange'}, 'GIG': {'Dividend_Yield': 0.0, 'latest_Price': 11.15, 'latest_Dividend': 0.0, 'market_Capit_in_M': 129.746968, 'company_Name': 'GigCapital Inc.', 'exchange': 'New York Stock Exchange'}, 'IRET': {'Dividend_Yield': 0.03976143141153081, 'latest_Price': 70.42, 'latest_Dividend': 2.8, 'market_Capit_in_M': 913.76288, 'company_Name': 'Investors Real Estate Trust', 'exchange': 'New York Stock Exchange'}, 'TNP': {'Dividend_Yield': 0.021052631578947368, 'latest_Price': 9.5, 'latest_Dividend': 0.2, 'market_Capit_in_M': 178.419504, 'company_Name': 'Tsakos Energy Navigation Ltd', 'exchange': 'New York Stock Exchange'}, 'IF': {'Dividend_Yield': 0.009287343532684284, 'latest_Price': 7.19, 'latest_Dividend': 0.066776, 'market_Capit_in_M': 381.07, 'company_Name': 'Aberdeen Indonesia Fund Inc. (Common Stock', 'exchange': 'NYSE American'}, 'CRK': {'Dividend_Yield': 0.0, 'latest_Price': 5.64, 'latest_Dividend': 0.0, 'market_Capit_in_M': 1310.79808, 'company_Name': 'Comstock Resources Inc', 'exchange': 'New York Stock Exchange'}, 'ICAN': {'Dividend_Yield': 0.015962213796735125, 'latest_Price': 28.485, 'latest_Dividend': 0.45468366, 'market_Capit_in_M': 4.27275, 'company_Name': 'SerenityShares Impact', 'exchange': 'New York Stock Exchange Arca'}, 'GNC': {'Dividend_Yield': 0.0, 'latest_Price': 6.27, 'latest_Dividend': 0.0, 'market_Capit_in_M': 6985.0936, 'company_Name': 'GNC Holdings Inc. Class A', 'exchange': 'New York Stock Exchange'}, 'ISG': {'Dividend_Yield': 0.0, 'latest_Price': 24.85, 'latest_Dividend': 0.0, 'market_Capit_in_M': 96534.79, 'company_Name': 'ING Group N.V. Perpetual Dent Secs 6.125%', 'exchange': 'New York Stock Exchange'}, 'FTK': {'Dividend_Yield': 0.0, 'latest_Price': 1.8, 'latest_Dividend': 0.0, 'market_Capit_in_M': 130.586944, 'company_Name': 'Flotek Industries Inc', 'exchange': 'New York Stock Exchange'}, 'AJXA': {'Dividend_Yield': 0.07020534676481985, 'latest_Price': 25.81, 'latest_Dividend': 1.812, 'market_Capit_in_M': 459.0, 'company_Name': 'Great Ajax Corp. 7.25% Convertible Senior Notes due 2024', 'exchange': 'New York Stock Exchange'}, 'GSH': {'Dividend_Yield': 0.04602829162132753, 'latest_Price': 9.19, 'latest_Dividend': 0.423, 'market_Capit_in_M': 2217.68474, 'company_Name': 'Guangshen Railway Company Limited', 'exchange': 'New York Stock Exchange'}, 'DPZ': {'Dividend_Yield': 0.008940618483638396, 'latest_Price': 366.865, 'latest_Dividend': 3.2800000000000002, 'market_Capit_in_M': 14234.5083, 'company_Name': \"Domino's Pizza Inc\", 'exchange': 'New York Stock Exchange'}, 'KN': {'Dividend_Yield': 0.0, 'latest_Price': 20.6, 'latest_Dividend': 0.0, 'market_Capit_in_M': 1909.48403, 'company_Name': 'Knowles Corp', 'exchange': 'New York Stock Exchange'}, 'KW': {'Dividend_Yield': 0.0537109375, 'latest_Price': 20.48, 'latest_Dividend': 1.1, 'market_Capit_in_M': 2889.40032, 'company_Name': 'Kennedy-Wilson Holdings Inc', 'exchange': 'New York Stock Exchange'}, 'CURO': {'Dividend_Yield': 0.014656895403064625, 'latest_Price': 15.01, 'latest_Dividend': 0.22, 'market_Capit_in_M': 623.41331, 'company_Name': 'CURO Group Holdings Corp', 'exchange': 'New York Stock Exchange'}, 'JMEI': {'Dividend_Yield': 0.0, 'latest_Price': 19.93, 'latest_Dividend': 0.0, 'market_Capit_in_M': 227.594624, 'company_Name': 'Jumei International Holding Limited American Depositary Shares each representing one Class A', 'exchange': 'New York Stock Exchange'}, 'ERA': {'Dividend_Yield': 0.0, 'latest_Price': 5.16, 'latest_Dividend': 0.0, 'market_Capit_in_M': 111.071064, 'company_Name': 'Era Group Inc.', 'exchange': 'New York Stock Exchange'}, 'AA': {'Dividend_Yield': 0.0, 'latest_Price': 32.93, 'latest_Dividend': 0.0, 'market_Capit_in_M': 6135.5505, 'company_Name': 'Alcoa Corp', 'exchange': 'New York Stock Exchange'}, 'GWR': {'Dividend_Yield': 0.0, 'latest_Price': 111.88, 'latest_Dividend': 0.0, 'market_Capit_in_M': 6381.6013, 'company_Name': 'Genesee & Wyoming Inc. Class A', 'exchange': 'New York Stock Exchange'}, 'WMS': {'Dividend_Yield': 0.0036409608091024018, 'latest_Price': 98.875, 'latest_Dividend': 0.36, 'market_Capit_in_M': 7008.0031, 'company_Name': 'Advanced Drainage Systems Inc', 'exchange': 'New York Stock Exchange'}, 'TLDH': {'Dividend_Yield': 0.07878613133424638, 'latest_Price': 27.746, 'latest_Dividend': 2.186, 'market_Capit_in_M': 8.363848, 'company_Name': 'FlexShares Currency Hedged Morningstar DM ex-US Factor Tilt Index Fund', 'exchange': 'New York Stock Exchange Arca'}, 'SAND': {'Dividend_Yield': 0.0, 'latest_Price': 6.655, 'latest_Dividend': 0.0, 'market_Capit_in_M': 1301.51834, 'company_Name': 'Sandstorm Gold Ltd', 'exchange': 'NYSE American'}, 'BK': {'Dividend_Yield': 0.025941422594142262, 'latest_Price': 47.8, 'latest_Dividend': 1.24, 'market_Capit_in_M': 41918.255, 'company_Name': 'Bank of New York Mellon Corp', 'exchange': 'New York Stock Exchange'}, 'DWIN': {'Dividend_Yield': 0.001132852729145211, 'latest_Price': 9.71, 'latest_Dividend': 0.011, 'market_Capit_in_M': 250.409248, 'company_Name': 'PowerShares DWA Tactical Multi-Asset Income Portfolio', 'exchange': 'Nasdaq Global Market'}, 'T': {'Dividend_Yield': 0.06797385620915032, 'latest_Price': 30.6, 'latest_Dividend': 2.08, 'market_Capit_in_M': 218436.878, 'company_Name': 'AT&T Inc', 'exchange': 'New York Stock Exchange'}, 'V': {'Dividend_Yield': 0.005838591204444863, 'latest_Price': 212.38, 'latest_Dividend': 1.24, 'market_Capit_in_M': 468266.025, 'company_Name': 'Visa Inc', 'exchange': 'New York Stock Exchange'}, 'DNB': {'Dividend_Yield': 0.0, 'latest_Price': 24.045, 'latest_Dividend': 0.0, 'market_Capit_in_M': 10325.8614, 'company_Name': 'Dun & Bradstreet Holdings Inc', 'exchange': 'New York Stock Exchange'}, 'ATHM': {'Dividend_Yield': 0.01699129714048902, 'latest_Price': 96.52, 'latest_Dividend': 1.6400000000000001, 'market_Capit_in_M': 12063.0692, 'company_Name': 'Autohome Inc', 'exchange': 'New York Stock Exchange'}, 'MIXT': {'Dividend_Yield': 0.018317612161661105, 'latest_Price': 13.485, 'latest_Dividend': 0.24701299999999998, 'market_Capit_in_M': 297.012512, 'company_Name': 'MiX Telematics Limited American Depositary Shares each representing 25', 'exchange': 'New York Stock Exchange'}, 'ARDC': {'Dividend_Yield': 0.07846381723802025, 'latest_Price': 14.9878, 'latest_Dividend': 1.176, 'market_Capit_in_M': 343.443936, 'company_Name': 'Ares Dynamic Credit Allocation Fund Inc', 'exchange': 'New York Stock Exchange'}, 'ED': {'Dividend_Yield': 0.04135237068965518, 'latest_Price': 74.24, 'latest_Dividend': 3.0700000000000003, 'market_Capit_in_M': 25421.1871, 'company_Name': 'Consolidated Edison Inc', 'exchange': 'New York Stock Exchange'}, 'CHSP': {'Dividend_Yield': 0.0562390158172232, 'latest_Price': 28.45, 'latest_Dividend': 1.6, 'market_Capit_in_M': 1718.203353, 'company_Name': 'Chesapeake Lodging Trust of Beneficial Interest', 'exchange': 'New York Stock Exchange'}, 'JAG': {'Dividend_Yield': 0.0, 'latest_Price': 8.23, 'latest_Dividend': 0.0, 'market_Capit_in_M': 1756.45466, 'company_Name': 'Jagged Peak Energy Inc.', 'exchange': 'New York Stock Exchange'}, 'SLB': {'Dividend_Yield': 0.018188432157148056, 'latest_Price': 27.49, 'latest_Dividend': 0.5, 'market_Capit_in_M': 38438.441, 'company_Name': 'Schlumberger NV', 'exchange': 'New York Stock Exchange'}, 'DOV': {'Dividend_Yield': 0.014314706095528013, 'latest_Price': 137.97, 'latest_Dividend': 1.9749999999999999, 'market_Capit_in_M': 19847.9503, 'company_Name': 'Dover Corp', 'exchange': 'New York Stock Exchange'}, 'INSI': {'Dividend_Yield': 0.0629936616284739, 'latest_Price': 20.51, 'latest_Dividend': 1.2919999999999998, 'market_Capit_in_M': 216.98144, 'company_Name': 'Insight Select Income Fund', 'exchange': 'New York Stock Exchange'}, 'CRS': {'Dividend_Yield': 0.019138755980861247, 'latest_Price': 41.8, 'latest_Dividend': 0.8, 'market_Capit_in_M': 2007.48672, 'company_Name': 'Carpenter Technology Corp', 'exchange': 'New York Stock Exchange'}, 'INST': {'Dividend_Yield': 0.0, 'latest_Price': 49.0, 'latest_Dividend': 0.0, 'market_Capit_in_M': 1874.89677, 'company_Name': 'Instructure Inc.', 'exchange': 'New York Stock Exchange'}, 'JEC': {'Dividend_Yield': 0.007921714818266543, 'latest_Price': 85.84, 'latest_Dividend': 0.68, 'market_Capit_in_M': 11438.0933, 'company_Name': 'Jacobs Engineering Group Inc.', 'exchange': 'New York Stock Exchange'}, 'MCRN': {'Dividend_Yield': 0.0, 'latest_Price': 16.8, 'latest_Dividend': 0.0, 'market_Capit_in_M': 1184.3159, 'company_Name': 'Milacron Holdings Corp.', 'exchange': 'New York Stock Exchange'}, 'FELP': {'Dividend_Yield': 1.5170670037926675, 'latest_Price': 0.1582, 'latest_Dividend': 0.24, 'market_Capit_in_M': 23.08043, 'company_Name': 'Foresight Energy LP representing Limited Partner Interests', 'exchange': 'New York Stock Exchange'}, 'GLL': {'Dividend_Yield': 0.0, 'latest_Price': 38.99, 'latest_Dividend': 0.0, 'market_Capit_in_M': 21.649623, 'company_Name': 'ProShares UltraShort Gold', 'exchange': 'New York Stock Exchange Arca'}, 'HCP': {'Dividend_Yield': 0.046879949318973706, 'latest_Price': 31.57, 'latest_Dividend': 1.48, 'market_Capit_in_M': 15089.9231, 'company_Name': 'HCP Inc.', 'exchange': 'New York Stock Exchange'}, 'HCR': {'Dividend_Yield': 0.0, 'latest_Price': 0.1523, 'latest_Dividend': 0.0, 'market_Capit_in_M': 15.211129, 'company_Name': 'Hi-Crush Inc.', 'exchange': 'New York Stock Exchange'}, 'JHS': {'Dividend_Yield': 0.05845951283739302, 'latest_Price': 15.19, 'latest_Dividend': 0.888, 'market_Capit_in_M': 176.911856, 'company_Name': 'John Hancock Income Securities Trust', 'exchange': 'New York Stock Exchange'}, 'IRM': {'Dividend_Yield': 0.06629183400267737, 'latest_Price': 37.35, 'latest_Dividend': 2.476, 'market_Capit_in_M': 10772.524, 'company_Name': 'Iron Mountain Inc', 'exchange': 'New York Stock Exchange'}, 'CDAY': {'Dividend_Yield': 0.0, 'latest_Price': 81.39, 'latest_Dividend': 0.0, 'market_Capit_in_M': 12112.0532, 'company_Name': 'Ceridian HCM Holding Inc', 'exchange': 'New York Stock Exchange'}, 'NUW': {'Dividend_Yield': 0.028641370869033043, 'latest_Price': 16.34, 'latest_Dividend': 0.4679999999999999, 'market_Capit_in_M': 253.299408, 'company_Name': 'Nuveen Amt-Free Municipal Value Fund', 'exchange': 'New York Stock Exchange'}, 'ZTS': {'Dividend_Yield': 0.005401626842907982, 'latest_Price': 157.36, 'latest_Dividend': 0.8500000000000001, 'market_Capit_in_M': 74796.04, 'company_Name': 'Zoetis Inc', 'exchange': 'New York Stock Exchange'}, 'LOR': {'Dividend_Yield': 0.0754132231404959, 'latest_Price': 9.68, 'latest_Dividend': 0.7300000000000002, 'market_Capit_in_M': 66.600144, 'company_Name': 'Lazard World Dividend & Income Fund Inc.', 'exchange': 'New York Stock Exchange'}, 'KWR': {'Dividend_Yield': 0.0065504933865211, 'latest_Price': 238.15, 'latest_Dividend': 1.56, 'market_Capit_in_M': 4251.85843, 'company_Name': 'Quaker Chemical Corp', 'exchange': 'New York Stock Exchange'}, 'BIT': {'Dividend_Yield': 0.08336227856894758, 'latest_Price': 17.8498, 'latest_Dividend': 1.4880000000000004, 'market_Capit_in_M': 670.03866, 'company_Name': 'Blackrock Multi-Sector Income Trust', 'exchange': 'New York Stock Exchange'}, 'SNX': {'Dividend_Yield': 0.001751574227336819, 'latest_Price': 114.183, 'latest_Dividend': 0.2, 'market_Capit_in_M': 5846.1148, 'company_Name': 'SYNNEX Corp', 'exchange': 'New York Stock Exchange'}, 'SRI': {'Dividend_Yield': 0.0, 'latest_Price': 32.3, 'latest_Dividend': 0.0, 'market_Capit_in_M': 872.27117, 'company_Name': 'Stoneridge Inc', 'exchange': 'New York Stock Exchange'}, 'SLDA': {'Dividend_Yield': 0.06710122699386503, 'latest_Price': 26.08, 'latest_Dividend': 1.75, 'market_Capit_in_M': 0.0, 'company_Name': 'Sutherland Asset Management Corporation 7.00% Convertible Senior Notes due 2023', 'exchange': 'New York Stock Exchange'}, 'TGI': {'Dividend_Yield': 0.002185792349726776, 'latest_Price': 18.3, 'latest_Dividend': 0.04, 'market_Capit_in_M': 1006.10285, 'company_Name': 'Triumph Group Inc', 'exchange': 'New York Stock Exchange'}, 'GHLD': {'Dividend_Yield': 0.0, 'latest_Price': 14.565, 'latest_Dividend': 0.0, 'market_Capit_in_M': 873.89997, 'company_Name': 'Guild Holdings Company', 'exchange': 'New York Stock Exchange'}, 'HIG-PG': {'Dividend_Yield': 0.0539568345323741, 'latest_Price': 27.8, 'latest_Dividend': 1.5, 'market_Capit_in_M': 20651.2026, 'company_Name': 'The Hartford Financial Services Group, Inc.', 'exchange': 'New York Stock Exchange'}, 'GPI': {'Dividend_Yield': 0.0038625930030077565, 'latest_Price': 157.925, 'latest_Dividend': 0.61, 'market_Capit_in_M': 2857.76358, 'company_Name': 'Group 1 Automotive Inc', 'exchange': 'New York Stock Exchange'}, 'ELJ': {'Dividend_Yield': 0.025969529085872578, 'latest_Price': 25.27, 'latest_Dividend': 0.65625, 'market_Capit_in_M': 178.36, 'company_Name': 'Entergy Louisiana LLC', 'exchange': 'New York Stock Exchange'}, 'WLH': {'Dividend_Yield': 0.0, 'latest_Price': 24.37, 'latest_Dividend': 0.0, 'market_Capit_in_M': 945.03936, 'company_Name': 'Lyon William Homes (Class A)', 'exchange': 'New York Stock Exchange'}, 'HOS': {'Dividend_Yield': 0.0, 'latest_Price': 0.2998, 'latest_Dividend': 0.0, 'market_Capit_in_M': 11.390392, 'company_Name': 'Hornbeck Offshore Services', 'exchange': 'New York Stock Exchange'}, 'I': {'Dividend_Yield': 0.0, 'latest_Price': 0.3826, 'latest_Dividend': 0.0, 'market_Capit_in_M': 54.362104, 'company_Name': 'Intelsat S.A.', 'exchange': 'New York Stock Exchange'}, 'GSX': {'Dividend_Yield': 0.0, 'latest_Price': 34.475, 'latest_Dividend': 0.0, 'market_Capit_in_M': 8227.3203, 'company_Name': 'GSX Techedu Inc', 'exchange': 'New York Stock Exchange'}, 'ZAYO': {'Dividend_Yield': 0.0, 'latest_Price': 34.99, 'latest_Dividend': 0.0, 'market_Capit_in_M': 8321.2877, 'company_Name': 'Zayo Group Holdings Inc.', 'exchange': 'New York Stock Exchange'}, 'PACD': {'Dividend_Yield': 0.0, 'latest_Price': 0.229, 'latest_Dividend': 0.0, 'market_Capit_in_M': 17.221578, 'company_Name': 'Pacific Drilling SA', 'exchange': 'New York Stock Exchange'}, 'VPC': {'Dividend_Yield': 0.08784246575342466, 'latest_Price': 23.36, 'latest_Dividend': 2.052, 'market_Capit_in_M': 0.0, 'company_Name': 'Virtus Private Credit ETF', 'exchange': 'NYSEArca'}, 'LXU': {'Dividend_Yield': 0.0, 'latest_Price': 4.85, 'latest_Dividend': 0.0, 'market_Capit_in_M': 145.682848, 'company_Name': 'LSB Industries Inc', 'exchange': 'New York Stock Exchange'}, 'AGRO': {'Dividend_Yield': 0.0, 'latest_Price': 8.0, 'latest_Dividend': 0.0, 'market_Capit_in_M': 938.376, 'company_Name': 'Adecoagro SA', 'exchange': 'New York Stock Exchange'}, 'BAP': {'Dividend_Yield': 0.28144338869949953, 'latest_Price': 137.87, 'latest_Dividend': 38.8026, 'market_Capit_in_M': 10996.7186, 'company_Name': 'Credicorp Ltd', 'exchange': 'New York Stock Exchange'}, 'AMC': {'Dividend_Yield': 0.0029850746268656712, 'latest_Price': 10.05, 'latest_Dividend': 0.03, 'market_Capit_in_M': 5044.6275, 'company_Name': 'AMC Entertainment Holdings Inc', 'exchange': 'New York Stock Exchange'}, 'FLOW': {'Dividend_Yield': 0.0013736263736263737, 'latest_Price': 65.52, 'latest_Dividend': 0.09, 'market_Capit_in_M': 2761.62867, 'company_Name': 'SPX FLOW Inc', 'exchange': 'New York Stock Exchange'}, 'PHM': {'Dividend_Yield': 0.010044427274483292, 'latest_Price': 51.77, 'latest_Dividend': 0.52, 'market_Capit_in_M': 13691.9224, 'company_Name': 'Pultegroup Inc', 'exchange': 'New York Stock Exchange'}, 'SRL': {'Dividend_Yield': 0.0, 'latest_Price': 8.6299, 'latest_Dividend': 0.0, 'market_Capit_in_M': 108.346672, 'company_Name': 'Scully Royalty Ltd', 'exchange': 'New York Stock Exchange'}, 'OKE': {'Dividend_Yield': 0.0745911447945752, 'latest_Price': 50.14, 'latest_Dividend': 3.74, 'market_Capit_in_M': 22311.4977, 'company_Name': 'ONEOK Inc', 'exchange': 'New York Stock Exchange'}, 'RCL': {'Dividend_Yield': 0.009199198018634273, 'latest_Price': 84.79, 'latest_Dividend': 0.78, 'market_Capit_in_M': 21584.0584, 'company_Name': 'Royal Caribbean Cruises Ltd', 'exchange': 'New York Stock Exchange'}, 'TEX': {'Dividend_Yield': 0.0025895554596460937, 'latest_Price': 46.34, 'latest_Dividend': 0.12, 'market_Capit_in_M': 3231.13549, 'company_Name': 'Terex Corp', 'exchange': 'New York Stock Exchange'}, 'TSU': {'Dividend_Yield': 0.019540390879478828, 'latest_Price': 12.28, 'latest_Dividend': 0.239956, 'market_Capit_in_M': 5816.0532, 'company_Name': 'TIM Participacoes S.A. American Depositary Shares (Each representing 5)', 'exchange': 'New York Stock Exchange'}, 'RWGE': {'Dividend_Yield': 0.0, 'latest_Price': 10.3575, 'latest_Dividend': 0.0, 'market_Capit_in_M': 388.40624, 'company_Name': 'Regalwood Global Energy Ltd. Class A', 'exchange': 'New York Stock Exchange'}, 'RPT': {'Dividend_Yield': 0.00641025641025641, 'latest_Price': 11.7, 'latest_Dividend': 0.075, 'market_Capit_in_M': 948.78221, 'company_Name': 'RPT Realty', 'exchange': 'New York Stock Exchange'}, 'NID': {'Dividend_Yield': 0.03669595782073813, 'latest_Price': 14.225, 'latest_Dividend': 0.5219999999999999, 'market_Capit_in_M': 666.81683, 'company_Name': 'Nuveen Intermediate Duration Municipal Term Fund', 'exchange': 'New York Stock Exchange'}, 'PMF': {'Dividend_Yield': 0.04996568291008924, 'latest_Price': 14.57, 'latest_Dividend': 0.7280000000000002, 'market_Capit_in_M': 375.627712, 'company_Name': 'PIMCO Municipal Income Fund', 'exchange': 'New York Stock Exchange'}, 'JMLP': {'Dividend_Yield': 0.040540540540540536, 'latest_Price': 1.11, 'latest_Dividend': 0.045, 'market_Capit_in_M': 14.985222, 'company_Name': 'Nuveen All Cap Energy MLP Opportunities Fund of Beneficial Interest', 'exchange': 'New York Stock Exchange'}, 'POL': {'Dividend_Yield': 0.024321133412042506, 'latest_Price': 25.41, 'latest_Dividend': 0.6180000000000001, 'market_Capit_in_M': 2322.40538, 'company_Name': 'PolyOne Corporation', 'exchange': 'New York Stock Exchange'}, 'RTN': {'Dividend_Yield': 0.008058310533515732, 'latest_Price': 116.96, 'latest_Dividend': 0.9425, 'market_Capit_in_M': 32566.4584, 'company_Name': 'Raytheon Company', 'exchange': 'New York Stock Exchange'}, 'RTW': {'Dividend_Yield': 0.0, 'latest_Price': 0.2534, 'latest_Dividend': 0.0, 'market_Capit_in_M': 16.547147, 'company_Name': 'RTW Retailwinds, Inc.', 'exchange': 'New York Stock Exchange'}, 'SMTA': {'Dividend_Yield': 11.711829077644607, 'latest_Price': 0.7676, 'latest_Dividend': 8.99, 'market_Capit_in_M': 33.143432, 'company_Name': 'Spirit MTA REIT', 'exchange': 'New York Stock Exchange'}, 'THGA': {'Dividend_Yield': 0.03130914826498423, 'latest_Price': 25.36, 'latest_Dividend': 0.794, 'market_Capit_in_M': 1075.264, 'company_Name': 'The Hanover Insurance Group Inc. 6.35% Subordinated Debentures due 2053', 'exchange': 'New York Stock Exchange'}, 'NNC': {'Dividend_Yield': 0.0021961932650073207, 'latest_Price': 13.66, 'latest_Dividend': 0.03, 'market_Capit_in_M': 224.276704, 'company_Name': 'Nuveen North Carolina Quality Municipal Income Fund', 'exchange': 'New York Stock Exchange'}, 'NX': {'Dividend_Yield': 0.012070916635231988, 'latest_Price': 26.51, 'latest_Dividend': 0.32, 'market_Capit_in_M': 891.80173, 'company_Name': 'Quanex Building Products Corp', 'exchange': 'New York Stock Exchange'}, 'VSTO': {'Dividend_Yield': 0.0, 'latest_Price': 30.415, 'latest_Dividend': 0.0, 'market_Capit_in_M': 1773.90323, 'company_Name': 'Vista Outdoor Inc', 'exchange': 'New York Stock Exchange'}, 'LTM': {'Dividend_Yield': 0.02928348909657321, 'latest_Price': 3.21, 'latest_Dividend': 0.094, 'market_Capit_in_M': 1831.80902, 'company_Name': 'LATAM Airlines Group S.A.', 'exchange': 'New York Stock Exchange'}, 'NPTN': {'Dividend_Yield': 0.0, 'latest_Price': 11.025, 'latest_Dividend': 0.0, 'market_Capit_in_M': 559.87155, 'company_Name': 'NeoPhotonics Corp', 'exchange': 'New York Stock Exchange'}, 'PRH': {'Dividend_Yield': 0.02829736211031175, 'latest_Price': 25.02, 'latest_Dividend': 0.708, 'market_Capit_in_M': 10684.6413, 'company_Name': 'Prudential Financial Inc. 5.70% Junior Subordinated Notes due 2053', 'exchange': 'New York Stock Exchange'}, 'JHD': {'Dividend_Yield': 0.04141414141414141, 'latest_Price': 9.9, 'latest_Dividend': 0.41, 'market_Capit_in_M': 267.934576, 'company_Name': 'Nuveen High Income December 2019 Target Term Fund of Beneficial Interest', 'exchange': 'New York Stock Exchange'}, 'JHY': {'Dividend_Yield': 0.007457983193277312, 'latest_Price': 9.52, 'latest_Dividend': 0.07100000000000001, 'market_Capit_in_M': 150.40744, 'company_Name': 'Nuveen High Income 2020 Target Term Fund', 'exchange': 'New York Stock Exchange'}, 'ROAN': {'Dividend_Yield': 0.0, 'latest_Price': 1.52, 'latest_Dividend': 0.0, 'market_Capit_in_M': 234.58768, 'company_Name': 'Roan Resources, Inc.', 'exchange': 'New York Stock Exchange'}, 'PVT': {'Dividend_Yield': 0.0, 'latest_Price': 9.9, 'latest_Dividend': 0.0, 'market_Capit_in_M': 284.624992, 'company_Name': 'Pivotal Acquisition Corp.', 'exchange': 'New York Stock Exchange'}, 'NTC': {'Dividend_Yield': 0.15946843853820603, 'latest_Price': 12.04, 'latest_Dividend': 1.9200000000000004, 'market_Capit_in_M': 172.521152, 'company_Name': 'Nuveen Connecticut Quality Municipal Income Fund', 'exchange': 'New York Stock Exchange'}, 'NTX': {'Dividend_Yield': 0.0030396174863387975, 'latest_Price': 14.64, 'latest_Dividend': 0.0445, 'market_Capit_in_M': 145.794048, 'company_Name': 'Nuveen Texas Quality Municipal Income Fund', 'exchange': 'New York Stock Exchange'}, 'JMF': {'Dividend_Yield': 0.040559440559440565, 'latest_Price': 1.43, 'latest_Dividend': 0.058, 'market_Capit_in_M': 58.32498, 'company_Name': 'Nuveen Energy MLP Total Return Fund of Beneficial Interest', 'exchange': 'New York Stock Exchange'}, 'SPAQ': {'Dividend_Yield': 0.0, 'latest_Price': 8.96, 'latest_Dividend': 0.0, 'market_Capit_in_M': 618.17274, 'company_Name': 'Spartan Energy Acquisition Corp.', 'exchange': 'New York Stock Exchange'}, 'BKI': {'Dividend_Yield': 0.0, 'latest_Price': 72.58, 'latest_Dividend': 0.0, 'market_Capit_in_M': 11380.5445, 'company_Name': 'Black Knight Inc', 'exchange': 'New York Stock Exchange'}, 'WBC': {'Dividend_Yield': 0.0, 'latest_Price': 136.46, 'latest_Dividend': 0.0, 'market_Capit_in_M': 7010.7146, 'company_Name': 'Wabco Holdings Inc.', 'exchange': 'New York Stock Exchange'}, 'TMV': {'Dividend_Yield': 0.002470966147763776, 'latest_Price': 80.94, 'latest_Dividend': 0.2, 'market_Capit_in_M': 216.004324, 'company_Name': 'Direxion Daily 20-Year Treasury Bear 3X', 'exchange': 'New York Stock Exchange Arca'}, 'SRTY': {'Dividend_Yield': 0.0147577053109851, 'latest_Price': 11.1806, 'latest_Dividend': 0.165, 'market_Capit_in_M': 55.061162, 'company_Name': 'ProShares UltraPro Short Russell2000', 'exchange': 'New York Stock Exchange Arca'}, 'OEC': {'Dividend_Yield': 0.010162601626016262, 'latest_Price': 19.68, 'latest_Dividend': 0.2, 'market_Capit_in_M': 1190.87424, 'company_Name': 'Orion Engineered Carbons SA', 'exchange': 'New York Stock Exchange'}, 'MSL': {'Dividend_Yield': 0.003496503496503497, 'latest_Price': 11.44, 'latest_Dividend': 0.04, 'market_Capit_in_M': 191.415216, 'company_Name': 'MidSouth Bancorp', 'exchange': 'New York Stock Exchange'}, 'TU': {'Dividend_Yield': 0.046466165413533836, 'latest_Price': 19.95, 'latest_Dividend': 0.9269999999999999, 'market_Capit_in_M': 25875.1488, 'company_Name': 'Telus Corp', 'exchange': 'New York Stock Exchange'}, 'TWND': {'Dividend_Yield': 0.0, 'latest_Price': 9.95, 'latest_Dividend': 0.0, 'market_Capit_in_M': 415.681152, 'company_Name': 'Tailwind Acquisition Corp.', 'exchange': 'New York Stock Exchange'}, 'SCHI': {'Dividend_Yield': 0.022664326116637407, 'latest_Price': 51.27, 'latest_Dividend': 1.162, 'market_Capit_in_M': 0.0, 'company_Name': 'Schwab 5-10 Year Corporate Bond ETF', 'exchange': 'NYSEArca'}, 'SJI': {'Dividend_Yield': 0.05307299755935212, 'latest_Price': 22.535, 'latest_Dividend': 1.196, 'market_Capit_in_M': 2276.80128, 'company_Name': 'South Jersey Industries Inc', 'exchange': 'New York Stock Exchange'}, 'ZJPN': {'Dividend_Yield': 0.01643795438303498, 'latest_Price': 91.3739, 'latest_Dividend': 1.502, 'market_Capit_in_M': 0.0, 'company_Name': 'SPDR Solactive Japan ETF', 'exchange': 'NYSEArca'}, 'YXI': {'Dividend_Yield': 0.0007751937984496124, 'latest_Price': 14.19, 'latest_Dividend': 0.011, 'market_Capit_in_M': 6.285545, 'company_Name': 'ProShares Short FTSE China 50', 'exchange': 'New York Stock Exchange Arca'}, 'UPV': {'Dividend_Yield': 0.0011399831214439335, 'latest_Price': 58.7728, 'latest_Dividend': 0.067, 'market_Capit_in_M': 7.34022, 'company_Name': 'ProShares Ultra FTSE Europe', 'exchange': 'New York Stock Exchange Arca'}, 'FT': {'Dividend_Yield': 0.051405622489959855, 'latest_Price': 7.47, 'latest_Dividend': 0.3840000000000001, 'market_Capit_in_M': 187.73528, 'company_Name': 'Franklin Universal Trust', 'exchange': 'New York Stock Exchange'}, 'FRC': {'Dividend_Yield': 0.004746844831576012, 'latest_Price': 168.533, 'latest_Dividend': 0.8, 'market_Capit_in_M': 29363.755, 'company_Name': 'First Republic Bank', 'exchange': 'New York Stock Exchange'}, 'BOOT': {'Dividend_Yield': 0.0, 'latest_Price': 62.45, 'latest_Dividend': 0.0, 'market_Capit_in_M': 1811.34349, 'company_Name': 'Boot Barn Holdings Inc', 'exchange': 'New York Stock Exchange'}, 'UTRN': {'Dividend_Yield': 0.0846598285954366, 'latest_Price': 31.6561, 'latest_Dividend': 2.68, 'market_Capit_in_M': 0.0, 'company_Name': 'Vesper U.S. Large Cap Short-Term Reversal Strategy ETF', 'exchange': 'NYSEArca'}, 'RUSL': {'Dividend_Yield': 0.015394679459223723, 'latest_Price': 22.93, 'latest_Dividend': 0.353, 'market_Capit_in_M': 138.227922, 'company_Name': 'Direxion Daily Russia Bull 3x Shares', 'exchange': 'New York Stock Exchange Arca'}, 'URA': {'Dividend_Yield': 0.013928475396611994, 'latest_Price': 18.595, 'latest_Dividend': 0.259, 'market_Capit_in_M': 246.09468, 'company_Name': 'Global X Uranium', 'exchange': 'New York Stock Exchange Arca'}, 'RL': {'Dividend_Yield': 0.0057747188181970785, 'latest_Price': 119.14, 'latest_Dividend': 0.688, 'market_Capit_in_M': 8711.3257, 'company_Name': 'Ralph Lauren Corp', 'exchange': 'New York Stock Exchange'}, 'AFG': {'Dividend_Yield': 0.0336991272790115, 'latest_Price': 115.73, 'latest_Dividend': 3.9000000000000004, 'market_Capit_in_M': 9998.9903, 'company_Name': 'American Financial Group Inc', 'exchange': 'New York Stock Exchange'}, 'JMPB': {'Dividend_Yield': 0.0, 'latest_Price': 25.48, 'latest_Dividend': 0.0, 'market_Capit_in_M': 0.0, 'company_Name': 'JMP Group Inc 8.00% Senior Notes due 2023', 'exchange': 'New York Stock Exchange'}, 'CLI': {'Dividend_Yield': 0.024405125076266018, 'latest_Price': 16.39, 'latest_Dividend': 0.4, 'market_Capit_in_M': 1487.04819, 'company_Name': 'Mack-Cali Realty Corp', 'exchange': 'New York Stock Exchange'}, 'ADC': {'Dividend_Yield': 0.03619513641755635, 'latest_Price': 67.44, 'latest_Dividend': 2.4410000000000003, 'market_Capit_in_M': 4287.36333, 'company_Name': 'Agree Realty Corp', 'exchange': 'New York Stock Exchange'}, 'WDR': {'Dividend_Yield': 0.04983057604145904, 'latest_Price': 25.085, 'latest_Dividend': 1.25, 'market_Capit_in_M': 1559.74003, 'company_Name': 'Waddell & Reed Financial Inc', 'exchange': 'New York Stock Exchange'}, 'AMX': {'Dividend_Yield': 0.025787545787545784, 'latest_Price': 13.65, 'latest_Dividend': 0.352, 'market_Capit_in_M': 45449.855, 'company_Name': 'America Movil S.A.B. de C.V.n Depository Receipt Series L', 'exchange': 'New York Stock Exchange'}, 'SSG': {'Dividend_Yield': 0.0044362292051756, 'latest_Price': 10.82, 'latest_Dividend': 0.048, 'market_Capit_in_M': 4.852045, 'company_Name': 'ProShares UltraShort Semiconductors', 'exchange': 'New York Stock Exchange Arca'}, 'TOTL': {'Dividend_Yield': 0.02862476664592408, 'latest_Price': 48.21, 'latest_Dividend': 1.38, 'market_Capit_in_M': 3139.2, 'company_Name': 'SPDR DoubleLine Total Return Tactical', 'exchange': 'New York Stock Exchange Arca'}, 'SPVM': {'Dividend_Yield': 0.013369098712446351, 'latest_Price': 46.6, 'latest_Dividend': 0.623, 'market_Capit_in_M': 2.772458, 'company_Name': 'PowerShares S&P 500 Value With Momentum Portfolio', 'exchange': 'BATS Exchange'}, 'HVT-A': {'Dividend_Yield': 0.07108108108108109, 'latest_Price': 37.0, 'latest_Dividend': 2.6300000000000003, 'market_Capit_in_M': 651.89562, 'company_Name': 'Haverty Furniture Companies, Inc.', 'exchange': 'New York Stock Exchange'}, 'SPUN': {'Dividend_Yield': 0.011370558375634518, 'latest_Price': 19.7, 'latest_Dividend': 0.224, 'market_Capit_in_M': 3.94, 'company_Name': 'VanEck Vectors Spin-Off', 'exchange': 'New York Stock Exchange Arca'}, 'AADR': {'Dividend_Yield': 0.0010815173527037934, 'latest_Price': 61.95, 'latest_Dividend': 0.067, 'market_Capit_in_M': 109.0125, 'company_Name': 'AdvisorShares Dorsey Wright ADR', 'exchange': 'New York Stock Exchange Arca'}, 'ACSG': {'Dividend_Yield': 0.01693972179289026, 'latest_Price': 32.35, 'latest_Dividend': 0.548, 'market_Capit_in_M': 0.0, 'company_Name': 'Xtrackers MSCI ACWI ex USA ESG Leaders Equity ETF', 'exchange': 'NYSEArca'}, 'USCI': {'Dividend_Yield': 0.0, 'latest_Price': 35.09, 'latest_Dividend': 0.0, 'market_Capit_in_M': 443.40576, 'company_Name': 'United States Commodity Index Fund ETV', 'exchange': 'New York Stock Exchange Arca'}, 'WBIG': {'Dividend_Yield': 0.010803983174385029, 'latest_Price': 25.1759, 'latest_Dividend': 0.272, 'market_Capit_in_M': 103.949951, 'company_Name': 'WBI Tactical LCY Shares', 'exchange': 'New York Stock Exchange Arca'}, 'REVS': {'Dividend_Yield': 0.2452205882352941, 'latest_Price': 19.04, 'latest_Dividend': 4.669, 'market_Capit_in_M': 0.0, 'company_Name': 'Columbia Research Enhanced Value ETF', 'exchange': 'NYSEArca'}, 'LOUP': {'Dividend_Yield': 0.0, 'latest_Price': 53.15, 'latest_Dividend': 0.0, 'market_Capit_in_M': 0.0, 'company_Name': 'Innovator Loup Frontier Tech ETF', 'exchange': 'NYSEArca'}, 'DLPH': {'Dividend_Yield': 0.0, 'latest_Price': 17.02, 'latest_Dividend': 0.0, 'market_Capit_in_M': 1469.67181, 'company_Name': 'Delphi Technologies PLC', 'exchange': 'New York Stock Exchange'}, 'SDT': {'Dividend_Yield': 0.705351264929935, 'latest_Price': 0.170128, 'latest_Dividend': 0.12, 'market_Capit_in_M': 4.763584, 'company_Name': 'SandRidge Mississippian Trust I of Beneficial Interest', 'exchange': 'New York Stock Exchange'}, 'ITEQ': {'Dividend_Yield': 0.006914977212006915, 'latest_Price': 63.63, 'latest_Dividend': 0.44, 'market_Capit_in_M': 59.52, 'company_Name': 'BlueStar Israel Technology', 'exchange': 'New York Stock Exchange Arca'}, 'PAMC': {'Dividend_Yield': 0.0024798154555940024, 'latest_Price': 34.68, 'latest_Dividend': 0.08600000000000001, 'market_Capit_in_M': 0.0, 'company_Name': 'Pacer Lunt MidCap Multi-Factor Alternator ETF', 'exchange': 'New York Stock Exchange'}, 'COTV': {'Dividend_Yield': 0.0, 'latest_Price': 44.75, 'latest_Dividend': 0.0, 'market_Capit_in_M': 4250.775, 'company_Name': 'Cotiviti Holdings Inc.', 'exchange': 'New York Stock Exchange'}, 'PPMC': {'Dividend_Yield': 0.004118746633716693, 'latest_Price': 22.0941, 'latest_Dividend': 0.091, 'market_Capit_in_M': 2.637346, 'company_Name': 'Portfolio S&P Mid Cap', 'exchange': 'New York Stock Exchange Arca'}, 'MOTO': {'Dividend_Yield': 0.025801169590643273, 'latest_Price': 42.75, 'latest_Dividend': 1.103, 'market_Capit_in_M': 22426.837, 'company_Name': 'SmartETFs Smart Transportation & Technology ETF', 'exchange': 'NYSEArca'}, 'BID': {'Dividend_Yield': 0.0, 'latest_Price': 26.12, 'latest_Dividend': 0.0, 'market_Capit_in_M': 1101.9584, 'company_Name': \"Sotheby's\", 'exchange': 'New York Stock Exchange'}, 'MLPZ': {'Dividend_Yield': 0.2626108998732573, 'latest_Price': 3.945, 'latest_Dividend': 1.036, 'market_Capit_in_M': 29.673096, 'company_Name': 'UBS AG ETRACS ETRACS 2xMonthly Leveraged S&P MLP Index ETN Series B due February 12 2046', 'exchange': 'New York Stock Exchange Arca'}, 'FLHK': {'Dividend_Yield': 0.02842689352167901, 'latest_Price': 28.5645, 'latest_Dividend': 0.812, 'market_Capit_in_M': 20.6514, 'company_Name': 'Franklin FTSE Hong Kong', 'exchange': 'New York Stock Exchange Arca'}, 'QSY': {'Dividend_Yield': 0.015562240113244275, 'latest_Price': 113.03, 'latest_Dividend': 1.7590000000000003, 'market_Capit_in_M': 39.88224, 'company_Name': 'WisdomTree U.S. Quality Shareholder Yield Fund', 'exchange': 'New York Stock Exchange Arca'}, 'MDYV': {'Dividend_Yield': 0.01438815990234971, 'latest_Price': 65.54, 'latest_Dividend': 0.9430000000000001, 'market_Capit_in_M': 1500.24, 'company_Name': 'SPDR S&P 400 Mid Cap Value ETF (based on S&P MidCap 400 Value Index--symbol: MGD', 'exchange': 'New York Stock Exchange Arca'}, 'CCOR': {'Dividend_Yield': 0.013473605860846253, 'latest_Price': 29.0197, 'latest_Dividend': 0.391, 'market_Capit_in_M': 85.930847, 'company_Name': 'Cambria Core Equity', 'exchange': 'New York Stock Exchange Arca'}, 'PHYL': {'Dividend_Yield': 0.0727873789431606, 'latest_Price': 40.7763, 'latest_Dividend': 2.968, 'market_Capit_in_M': 314.828608, 'company_Name': 'PGIM Active High Yield Bond ETF', 'exchange': 'NYSEArca'}, 'IVR-PA': {'Dividend_Yield': 0.07876422764227642, 'latest_Price': 24.6, 'latest_Dividend': 1.9376, 'market_Capit_in_M': 1996.51405, 'company_Name': 'Invesco Mortgage Capital Inc.', 'exchange': 'New York Stock Exchange'}, 'PAF': {'Dividend_Yield': 0.03974153892423801, 'latest_Price': 53.1995, 'latest_Dividend': 2.11423, 'market_Capit_in_M': 31456.0369, 'company_Name': 'PowerShares FTSE RAFI Asia Pacific ex-Japan Portfolio', 'exchange': 'New York Stock Exchange Arca'}, 'RXN': {'Dividend_Yield': 0.007013815090329437, 'latest_Price': 47.05, 'latest_Dividend': 0.33, 'market_Capit_in_M': 5627.8385, 'company_Name': 'Rexnord Corp', 'exchange': 'New York Stock Exchange'}, 'OEW': {'Dividend_Yield': 0.01921727297687905, 'latest_Price': 33.1431, 'latest_Dividend': 0.63692, 'market_Capit_in_M': 3.31431, 'company_Name': 'Guggenheim ETF Trust', 'exchange': 'New York Stock Exchange Arca'}, 'OASI': {'Dividend_Yield': 0.07174335295702028, 'latest_Price': 25.989, 'latest_Dividend': 1.864538, 'market_Capit_in_M': 9.09615, 'company_Name': \"O'Shares FTSE Asia Pacific Quality Dividend\", 'exchange': 'New York Stock Exchange Arca'}, 'GDXX': {'Dividend_Yield': 0.0020659527326440177, 'latest_Price': 54.16, 'latest_Dividend': 0.111892, 'market_Capit_in_M': 11.923059, 'company_Name': 'ProShares Ultra Gold Miners', 'exchange': 'New York Stock Exchange Arca'}, 'EMEM': {'Dividend_Yield': 0.04736217133163698, 'latest_Price': 23.58, 'latest_Dividend': 1.1168, 'market_Capit_in_M': 10.190521, 'company_Name': 'Virtus Glovista Emerging Markets', 'exchange': 'New York Stock Exchange Arca'}, 'PPEM': {'Dividend_Yield': 0.028714725027405102, 'latest_Price': 20.6166, 'latest_Dividend': 0.592, 'market_Capit_in_M': 533.376832, 'company_Name': 'Portfolio Emerging Markets', 'exchange': 'New York Stock Exchange Arca'}, 'SDEM': {'Dividend_Yield': 0.057001239157373, 'latest_Price': 12.105, 'latest_Dividend': 0.6900000000000002, 'market_Capit_in_M': 20.084307, 'company_Name': 'Global X MSCI SuperDividend Emerging Markets', 'exchange': 'New York Stock Exchange Arca'}, 'ESNG': {'Dividend_Yield': 0.00961881589618816, 'latest_Price': 61.65, 'latest_Dividend': 0.593, 'market_Capit_in_M': 0.0, 'company_Name': 'Direxion Shares ETF Trust - Direxion MSCI USA ESG Universal Movers Versus Laggards ETF', 'exchange': 'NYSE American'}, 'SYG': {'Dividend_Yield': 0.004251251477875884, 'latest_Price': 119.259, 'latest_Dividend': 0.507, 'market_Capit_in_M': 37.166445, 'company_Name': 'SPDR MFS Systematic Growth Equity', 'exchange': 'New York Stock Exchange Arca'}, 'GOEX': {'Dividend_Yield': 0.032421015576872304, 'latest_Price': 28.4075, 'latest_Dividend': 0.921, 'market_Capit_in_M': 33.374527, 'company_Name': 'Global X Gold Explorers', 'exchange': 'New York Stock Exchange Arca'}, 'RTEC': {'Dividend_Yield': 0.0, 'latest_Price': 23.67, 'latest_Dividend': 0.0, 'market_Capit_in_M': 762.174, 'company_Name': 'Rudolph Technologies Inc.', 'exchange': 'New York Stock Exchange'}, 'PSB-PZ': {'Dividend_Yield': 0.0, 'latest_Price': 26.44, 'latest_Dividend': 0.0, 'market_Capit_in_M': 0.0, 'company_Name': 'PS Business Parks, Inc.', 'exchange': 'New York Stock Exchange'}, 'SHNY': {'Dividend_Yield': 0.036303999999999996, 'latest_Price': 5.0, 'latest_Dividend': 0.18152, 'market_Capit_in_M': 4.000005, 'company_Name': 'Direxion Funds', 'exchange': 'New York Stock Exchange Arca'}, 'PACE-UN': {'Dividend_Yield': 0.0, 'latest_Price': 10.8469, 'latest_Dividend': 0.0, 'market_Capit_in_M': 0.0, 'company_Name': 'TPG Pace Tech Opportunities Corp.', 'exchange': 'New York Stock Exchange'}, 'BXMX': {'Dividend_Yield': 0.06398809523809523, 'latest_Price': 13.44, 'latest_Dividend': 0.86, 'market_Capit_in_M': 1398.92928, 'company_Name': 'Nuveen S&P 500 BuyWrite Income Fund', 'exchange': 'New York Stock Exchange'}, 'SZK': {'Dividend_Yield': 0.001883305672281272, 'latest_Price': 8.4957, 'latest_Dividend': 0.016, 'market_Capit_in_M': 1.542786, 'company_Name': 'ProShares UltraShort Consumer Goods', 'exchange': 'New York Stock Exchange Arca'}, 'EGPT': {'Dividend_Yield': 0.024732884843688168, 'latest_Price': 25.27, 'latest_Dividend': 0.625, 'market_Capit_in_M': 57.739904, 'company_Name': 'VanEck Vectors Egypt Index', 'exchange': 'New York Stock Exchange Arca'}, 'EELV': {'Dividend_Yield': 0.01601713062098501, 'latest_Price': 23.35, 'latest_Dividend': 0.374, 'market_Capit_in_M': 342.912, 'company_Name': 'PowerShares S&P Emerging Markets Low Volatility Portfolio', 'exchange': 'New York Stock Exchange Arca'}, 'SDGA': {'Dividend_Yield': 0.011997253361931288, 'latest_Price': 25.9226, 'latest_Dividend': 0.311, 'market_Capit_in_M': 0.0, 'company_Name': 'Impact Shares Sustainable Development Goals Global Equity ETF', 'exchange': 'NYSEArca'}, 'EBND': {'Dividend_Yield': 0.038769587928032506, 'latest_Price': 25.845, 'latest_Dividend': 1.002, 'market_Capit_in_M': 739.568, 'company_Name': 'SPDR Bloomberg Barclays Emerging Markets Local Bond', 'exchange': 'New York Stock Exchange Arca'}, 'MOM': {'Dividend_Yield': 0.0, 'latest_Price': 21.5366, 'latest_Dividend': 0.0, 'market_Capit_in_M': 4.689, 'company_Name': 'AGFiQ U.S. Market Neutral Momentum Fund', 'exchange': 'New York Stock Exchange Arca'}, 'ELS': {'Dividend_Yield': 0.021534653465346533, 'latest_Price': 64.64, 'latest_Dividend': 1.392, 'market_Capit_in_M': 11783.8715, 'company_Name': 'Equity LifeStyle Properties Inc', 'exchange': 'New York Stock Exchange'}, 'RISE': {'Dividend_Yield': 0.0, 'latest_Price': 19.945, 'latest_Dividend': 0.0, 'market_Capit_in_M': 3588.29338, 'company_Name': 'Sit Rising Rate', 'exchange': 'New York Stock Exchange Arca'}, 'ZIG': {'Dividend_Yield': 0.001623762376237624, 'latest_Price': 25.25, 'latest_Dividend': 0.041, 'market_Capit_in_M': 0.0, 'company_Name': 'The Acquirers Fund ETF', 'exchange': 'NYSEArca'}, 'AVYA': {'Dividend_Yield': 0.0, 'latest_Price': 27.87, 'latest_Dividend': 0.0, 'market_Capit_in_M': 2338.3767, 'company_Name': 'Avaya Holdings Corp', 'exchange': 'New York Stock Exchange'}, 'COMB': {'Dividend_Yield': 0.0006462035541195476, 'latest_Price': 24.76, 'latest_Dividend': 0.016, 'market_Capit_in_M': 60.687, 'company_Name': 'GraniteShares Bloomberg Commodity Broad Strategy No K-1', 'exchange': 'New York Stock Exchange Arca'}, 'IPOD': {'Dividend_Yield': 0.0, 'latest_Price': 10.93, 'latest_Dividend': 0.0, 'market_Capit_in_M': 628.47501, 'company_Name': 'Social Capital Hedosophia Holdi', 'exchange': 'New York Stock Exchange'}, 'ES': {'Dividend_Yield': 0.026813110181311016, 'latest_Price': 86.04, 'latest_Dividend': 2.307, 'market_Capit_in_M': 29539.3382, 'company_Name': 'Eversource Energy', 'exchange': 'New York Stock Exchange'}}\n"
          ],
          "name": "stdout"
        }
      ]
    },
    {
      "cell_type": "markdown",
      "metadata": {
        "id": "3IXkEfOWufq7"
      },
      "source": [
        "Сбор данных может занять значительное по продолжительности время. После их можно представить в виде отсортированного DataFrame, где сверху будут акций с высокой дивидендной доходностью. "
      ]
    },
    {
      "cell_type": "code",
      "metadata": {
        "colab": {
          "base_uri": "https://localhost:8080/",
          "height": 491
        },
        "id": "i18xe4C2hBPu",
        "outputId": "650b763b-6ada-411c-b39a-116006218ea5"
      },
      "source": [
        "import pandas as pd\n",
        "DivYield_dataframe = pd.DataFrame.from_dict(DivYield, orient='index')\n",
        "\n",
        "DivYield_dataframe = DivYield_dataframe.sort_values(['Dividend_Yield'], ascending=[False])\n",
        "DivYield_dataframe.head(15)"
      ],
      "execution_count": null,
      "outputs": [
        {
          "output_type": "execute_result",
          "data": {
            "text/html": [
              "<div>\n",
              "<style scoped>\n",
              "    .dataframe tbody tr th:only-of-type {\n",
              "        vertical-align: middle;\n",
              "    }\n",
              "\n",
              "    .dataframe tbody tr th {\n",
              "        vertical-align: top;\n",
              "    }\n",
              "\n",
              "    .dataframe thead th {\n",
              "        text-align: right;\n",
              "    }\n",
              "</style>\n",
              "<table border=\"1\" class=\"dataframe\">\n",
              "  <thead>\n",
              "    <tr style=\"text-align: right;\">\n",
              "      <th></th>\n",
              "      <th>Dividend_Yield</th>\n",
              "      <th>latest_Price</th>\n",
              "      <th>latest_Dividend</th>\n",
              "      <th>market_Capit_in_M</th>\n",
              "      <th>company_Name</th>\n",
              "      <th>exchange</th>\n",
              "    </tr>\n",
              "  </thead>\n",
              "  <tbody>\n",
              "    <tr>\n",
              "      <th>SMTA</th>\n",
              "      <td>11.711829</td>\n",
              "      <td>0.767600</td>\n",
              "      <td>8.9900</td>\n",
              "      <td>33.143432</td>\n",
              "      <td>Spirit MTA REIT</td>\n",
              "      <td>New York Stock Exchange</td>\n",
              "    </tr>\n",
              "    <tr>\n",
              "      <th>FELP</th>\n",
              "      <td>1.517067</td>\n",
              "      <td>0.158200</td>\n",
              "      <td>0.2400</td>\n",
              "      <td>23.080430</td>\n",
              "      <td>Foresight Energy LP representing Limited Partn...</td>\n",
              "      <td>New York Stock Exchange</td>\n",
              "    </tr>\n",
              "    <tr>\n",
              "      <th>MDLX</th>\n",
              "      <td>0.732039</td>\n",
              "      <td>2.349600</td>\n",
              "      <td>1.7200</td>\n",
              "      <td>0.000000</td>\n",
              "      <td>Medley LLC 6.875% Senior Notes due 2026</td>\n",
              "      <td>New York Stock Exchange</td>\n",
              "    </tr>\n",
              "    <tr>\n",
              "      <th>MDLQ</th>\n",
              "      <td>0.719920</td>\n",
              "      <td>2.510000</td>\n",
              "      <td>1.8070</td>\n",
              "      <td>0.000000</td>\n",
              "      <td>Medley LLC 7.25% Notes due 2024</td>\n",
              "      <td>New York Stock Exchange</td>\n",
              "    </tr>\n",
              "    <tr>\n",
              "      <th>SDT</th>\n",
              "      <td>0.705351</td>\n",
              "      <td>0.170128</td>\n",
              "      <td>0.1200</td>\n",
              "      <td>4.763584</td>\n",
              "      <td>SandRidge Mississippian Trust I of Beneficial ...</td>\n",
              "      <td>New York Stock Exchange</td>\n",
              "    </tr>\n",
              "    <tr>\n",
              "      <th>BAP</th>\n",
              "      <td>0.281443</td>\n",
              "      <td>137.870000</td>\n",
              "      <td>38.8026</td>\n",
              "      <td>10996.718600</td>\n",
              "      <td>Credicorp Ltd</td>\n",
              "      <td>New York Stock Exchange</td>\n",
              "    </tr>\n",
              "    <tr>\n",
              "      <th>MLPZ</th>\n",
              "      <td>0.262611</td>\n",
              "      <td>3.945000</td>\n",
              "      <td>1.0360</td>\n",
              "      <td>29.673096</td>\n",
              "      <td>UBS AG ETRACS ETRACS 2xMonthly Leveraged S&amp;P M...</td>\n",
              "      <td>New York Stock Exchange Arca</td>\n",
              "    </tr>\n",
              "    <tr>\n",
              "      <th>REVS</th>\n",
              "      <td>0.245221</td>\n",
              "      <td>19.040000</td>\n",
              "      <td>4.6690</td>\n",
              "      <td>0.000000</td>\n",
              "      <td>Columbia Research Enhanced Value ETF</td>\n",
              "      <td>NYSEArca</td>\n",
              "    </tr>\n",
              "    <tr>\n",
              "      <th>BMA</th>\n",
              "      <td>0.168212</td>\n",
              "      <td>13.370000</td>\n",
              "      <td>2.2490</td>\n",
              "      <td>1366.801660</td>\n",
              "      <td>Banco Macro S.A. ADR (representing Ten Class B)</td>\n",
              "      <td>New York Stock Exchange</td>\n",
              "    </tr>\n",
              "    <tr>\n",
              "      <th>NTC</th>\n",
              "      <td>0.159468</td>\n",
              "      <td>12.040000</td>\n",
              "      <td>1.9200</td>\n",
              "      <td>172.521152</td>\n",
              "      <td>Nuveen Connecticut Quality Municipal Income Fund</td>\n",
              "      <td>New York Stock Exchange</td>\n",
              "    </tr>\n",
              "    <tr>\n",
              "      <th>ET</th>\n",
              "      <td>0.118785</td>\n",
              "      <td>7.711400</td>\n",
              "      <td>0.9160</td>\n",
              "      <td>20847.693800</td>\n",
              "      <td>Energy Transfer LP</td>\n",
              "      <td>New York Stock Exchange</td>\n",
              "    </tr>\n",
              "    <tr>\n",
              "      <th>FMO</th>\n",
              "      <td>0.093848</td>\n",
              "      <td>9.590000</td>\n",
              "      <td>0.9000</td>\n",
              "      <td>67.975360</td>\n",
              "      <td>Fiduciary/Claymore Energy Infrastructure Fund</td>\n",
              "      <td>New York Stock Exchange</td>\n",
              "    </tr>\n",
              "    <tr>\n",
              "      <th>MFGP</th>\n",
              "      <td>0.091487</td>\n",
              "      <td>8.070000</td>\n",
              "      <td>0.7383</td>\n",
              "      <td>2676.697860</td>\n",
              "      <td>Micro Focus Intl PLC ADS each representing One...</td>\n",
              "      <td>New York Stock Exchange</td>\n",
              "    </tr>\n",
              "    <tr>\n",
              "      <th>VPC</th>\n",
              "      <td>0.087842</td>\n",
              "      <td>23.360000</td>\n",
              "      <td>2.0520</td>\n",
              "      <td>0.000000</td>\n",
              "      <td>Virtus Private Credit ETF</td>\n",
              "      <td>NYSEArca</td>\n",
              "    </tr>\n",
              "    <tr>\n",
              "      <th>FSD</th>\n",
              "      <td>0.087708</td>\n",
              "      <td>15.049900</td>\n",
              "      <td>1.3200</td>\n",
              "      <td>503.721664</td>\n",
              "      <td>First Trust High Income Long/Short Fund</td>\n",
              "      <td>New York Stock Exchange</td>\n",
              "    </tr>\n",
              "  </tbody>\n",
              "</table>\n",
              "</div>"
            ],
            "text/plain": [
              "      Dividend_Yield  ...                      exchange\n",
              "SMTA       11.711829  ...       New York Stock Exchange\n",
              "FELP        1.517067  ...       New York Stock Exchange\n",
              "MDLX        0.732039  ...       New York Stock Exchange\n",
              "MDLQ        0.719920  ...       New York Stock Exchange\n",
              "SDT         0.705351  ...       New York Stock Exchange\n",
              "BAP         0.281443  ...       New York Stock Exchange\n",
              "MLPZ        0.262611  ...  New York Stock Exchange Arca\n",
              "REVS        0.245221  ...                      NYSEArca\n",
              "BMA         0.168212  ...       New York Stock Exchange\n",
              "NTC         0.159468  ...       New York Stock Exchange\n",
              "ET          0.118785  ...       New York Stock Exchange\n",
              "FMO         0.093848  ...       New York Stock Exchange\n",
              "MFGP        0.091487  ...       New York Stock Exchange\n",
              "VPC         0.087842  ...                      NYSEArca\n",
              "FSD         0.087708  ...       New York Stock Exchange\n",
              "\n",
              "[15 rows x 6 columns]"
            ]
          },
          "metadata": {
            "tags": []
          },
          "execution_count": 23
        }
      ]
    },
    {
      "cell_type": "markdown",
      "metadata": {
        "id": "DieA0KRDu1ct"
      },
      "source": [
        "## Анализ полученного результата и заключение"
      ]
    },
    {
      "cell_type": "markdown",
      "metadata": {
        "id": "RVr2Yyrwlu3B"
      },
      "source": [
        "Предварительно проведем расчет средней дивидендной доходности по акциям которые платят дивиденды:"
      ]
    },
    {
      "cell_type": "code",
      "metadata": {
        "colab": {
          "base_uri": "https://localhost:8080/"
        },
        "id": "lc9d6MhFlUJI",
        "outputId": "6efd4ae8-a39d-48f1-e4ec-44a2d56c6609"
      },
      "source": [
        "meanDivNasdaq = DivYield_dataframe[DivYield_dataframe['Dividend_Yield']>0]['Dividend_Yield'].mean()\n",
        "print(\"Средняя дивидендная доходность по рынку Nasdaq равна \", \"{:.2%}\".format(meanDivNasdaq))"
      ],
      "execution_count": null,
      "outputs": [
        {
          "output_type": "stream",
          "text": [
            "Средняя дивидендная доходность по рынку Nasdaq равна  12.22%\n"
          ],
          "name": "stdout"
        }
      ]
    },
    {
      "cell_type": "markdown",
      "metadata": {
        "id": "S7DhUL5JvB2w"
      },
      "source": [
        "Самой высокой дивидендной доходностью в полученных результатах у акций компании Triumph Bancorp Inc — 21,57%. Правда по ним никогда не платили дивиденды. Так что в системе похоже сидит баг. Так же по другим рынкам заметил, что в список могут включаться акции по которым перестали платить дивиденды давно. А так, как подписка Free ограничена по количеству запросов, то подстроить ее не удалось. Так же в том случае, если при проверке выясняется, что дивиденды платили недавно, то все равно необходимо быть осторожным при выборе компаний по данному показателю, так как он может являться результатом падения цены акций и как следствия ростом дивидендной доходности. Так же выплата высоких дивидендов может не сохраниться в будущем, тем более если у компании возникнут финансовые проблемы.\n",
        "\n",
        "Основной смысл в следующем - анализ дивидендной доходности не должен быть единственным критерием. Я для одного из своих портфелей так же смотрю: EPS, EBITDA, FCF, срок выплаты дивидендов, капитализация компании, чистая рентабельность (отношение выручки к прибыли) и коэффициент Net Debt/EBITDA.\n",
        "\n",
        "Но как говориться - все вышеприведенное не является инвестиционной рекомендацией и выбор остается за каждым самостоятельно."
      ]
    },
    {
      "cell_type": "code",
      "metadata": {
        "id": "VYwQwkD97Aag"
      },
      "source": [
        ""
      ],
      "execution_count": null,
      "outputs": []
    }
  ]
}